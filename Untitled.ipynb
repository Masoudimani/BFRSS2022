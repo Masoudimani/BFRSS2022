{
 "cells": [
  {
   "cell_type": "code",
   "execution_count": 1,
   "metadata": {},
   "outputs": [
    {
     "name": "stdout",
     "output_type": "stream",
     "text": [
      "The history saving thread hit an unexpected error (DatabaseError('database disk image is malformed')).History will not be written to the database.\n"
     ]
    }
   ],
   "source": [
    "import pandas as pd\n",
    "import numpy as np\n",
    "import matplotlib.pyplot as plt # data visualization\n",
    "import seaborn as sns # statistical data visualization\n",
    "from sklearn.preprocessing import StandardScaler  # scaling\n",
    "from sklearn.impute import KNNImputer             # missing values imputation using k-NN\n",
    "\n",
    "pd.set_option(\"max_columns\", 200)                 # show all columns when printing tables"
   ]
  },
  {
   "cell_type": "markdown",
   "metadata": {},
   "source": [
    "# Hello! Lets read our datasets..."
   ]
  },
  {
   "cell_type": "code",
   "execution_count": 2,
   "metadata": {},
   "outputs": [],
   "source": [
    "import seaborn as sns # statistical data visualization\n",
    "# import category encoders\n",
    "\n",
    "import category_encoders as ce"
   ]
  },
  {
   "cell_type": "code",
   "execution_count": 3,
   "metadata": {},
   "outputs": [],
   "source": [
    "df=pd.read_csv('selected_output.csv')"
   ]
  },
  {
   "cell_type": "code",
   "execution_count": 4,
   "metadata": {},
   "outputs": [],
   "source": [
    "df = df[['CVDINFR4','_SMOKGRP', '_RFBMI5','_TOTINDA','_AGE_G','_SEX','SDHSTRE1','_RFDRHV8','CHCKDNY2','SLEPTIM1','_RACEPR1','_EDUCAG','EMPLOY1','SDHISOLT']]"
   ]
  },
  {
   "cell_type": "code",
   "execution_count": 5,
   "metadata": {},
   "outputs": [
    {
     "data": {
      "text/html": [
       "<div>\n",
       "<style scoped>\n",
       "    .dataframe tbody tr th:only-of-type {\n",
       "        vertical-align: middle;\n",
       "    }\n",
       "\n",
       "    .dataframe tbody tr th {\n",
       "        vertical-align: top;\n",
       "    }\n",
       "\n",
       "    .dataframe thead th {\n",
       "        text-align: right;\n",
       "    }\n",
       "</style>\n",
       "<table border=\"1\" class=\"dataframe\">\n",
       "  <thead>\n",
       "    <tr style=\"text-align: right;\">\n",
       "      <th></th>\n",
       "      <th>CVDINFR4</th>\n",
       "      <th>_SMOKGRP</th>\n",
       "      <th>_RFBMI5</th>\n",
       "      <th>_TOTINDA</th>\n",
       "      <th>_AGE_G</th>\n",
       "      <th>_SEX</th>\n",
       "      <th>SDHSTRE1</th>\n",
       "      <th>_RFDRHV8</th>\n",
       "      <th>CHCKDNY2</th>\n",
       "      <th>SLEPTIM1</th>\n",
       "      <th>_RACEPR1</th>\n",
       "      <th>_EDUCAG</th>\n",
       "      <th>EMPLOY1</th>\n",
       "      <th>SDHISOLT</th>\n",
       "    </tr>\n",
       "  </thead>\n",
       "  <tbody>\n",
       "    <tr>\n",
       "      <th>445127</th>\n",
       "      <td>2.0</td>\n",
       "      <td>4.0</td>\n",
       "      <td>2.0</td>\n",
       "      <td>1.0</td>\n",
       "      <td>1.0</td>\n",
       "      <td>2.0</td>\n",
       "      <td>2.0</td>\n",
       "      <td>9.0</td>\n",
       "      <td>2.0</td>\n",
       "      <td>6.0</td>\n",
       "      <td>2.0</td>\n",
       "      <td>2.0</td>\n",
       "      <td>1.0</td>\n",
       "      <td>3.0</td>\n",
       "    </tr>\n",
       "    <tr>\n",
       "      <th>445128</th>\n",
       "      <td>2.0</td>\n",
       "      <td>4.0</td>\n",
       "      <td>2.0</td>\n",
       "      <td>1.0</td>\n",
       "      <td>4.0</td>\n",
       "      <td>2.0</td>\n",
       "      <td>5.0</td>\n",
       "      <td>1.0</td>\n",
       "      <td>2.0</td>\n",
       "      <td>7.0</td>\n",
       "      <td>2.0</td>\n",
       "      <td>4.0</td>\n",
       "      <td>1.0</td>\n",
       "      <td>5.0</td>\n",
       "    </tr>\n",
       "    <tr>\n",
       "      <th>445129</th>\n",
       "      <td>2.0</td>\n",
       "      <td>1.0</td>\n",
       "      <td>1.0</td>\n",
       "      <td>2.0</td>\n",
       "      <td>6.0</td>\n",
       "      <td>2.0</td>\n",
       "      <td>1.0</td>\n",
       "      <td>9.0</td>\n",
       "      <td>2.0</td>\n",
       "      <td>5.0</td>\n",
       "      <td>2.0</td>\n",
       "      <td>2.0</td>\n",
       "      <td>8.0</td>\n",
       "      <td>1.0</td>\n",
       "    </tr>\n",
       "    <tr>\n",
       "      <th>445130</th>\n",
       "      <td>1.0</td>\n",
       "      <td>4.0</td>\n",
       "      <td>2.0</td>\n",
       "      <td>2.0</td>\n",
       "      <td>6.0</td>\n",
       "      <td>1.0</td>\n",
       "      <td>4.0</td>\n",
       "      <td>1.0</td>\n",
       "      <td>2.0</td>\n",
       "      <td>5.0</td>\n",
       "      <td>2.0</td>\n",
       "      <td>3.0</td>\n",
       "      <td>7.0</td>\n",
       "      <td>5.0</td>\n",
       "    </tr>\n",
       "    <tr>\n",
       "      <th>445131</th>\n",
       "      <td>2.0</td>\n",
       "      <td>3.0</td>\n",
       "      <td>1.0</td>\n",
       "      <td>1.0</td>\n",
       "      <td>3.0</td>\n",
       "      <td>1.0</td>\n",
       "      <td>3.0</td>\n",
       "      <td>9.0</td>\n",
       "      <td>2.0</td>\n",
       "      <td>5.0</td>\n",
       "      <td>2.0</td>\n",
       "      <td>1.0</td>\n",
       "      <td>1.0</td>\n",
       "      <td>3.0</td>\n",
       "    </tr>\n",
       "  </tbody>\n",
       "</table>\n",
       "</div>"
      ],
      "text/plain": [
       "        CVDINFR4  _SMOKGRP  _RFBMI5  _TOTINDA  _AGE_G  _SEX  SDHSTRE1  \\\n",
       "445127       2.0       4.0      2.0       1.0     1.0   2.0       2.0   \n",
       "445128       2.0       4.0      2.0       1.0     4.0   2.0       5.0   \n",
       "445129       2.0       1.0      1.0       2.0     6.0   2.0       1.0   \n",
       "445130       1.0       4.0      2.0       2.0     6.0   1.0       4.0   \n",
       "445131       2.0       3.0      1.0       1.0     3.0   1.0       3.0   \n",
       "\n",
       "        _RFDRHV8  CHCKDNY2  SLEPTIM1  _RACEPR1  _EDUCAG  EMPLOY1  SDHISOLT  \n",
       "445127       9.0       2.0       6.0       2.0      2.0      1.0       3.0  \n",
       "445128       1.0       2.0       7.0       2.0      4.0      1.0       5.0  \n",
       "445129       9.0       2.0       5.0       2.0      2.0      8.0       1.0  \n",
       "445130       1.0       2.0       5.0       2.0      3.0      7.0       5.0  \n",
       "445131       9.0       2.0       5.0       2.0      1.0      1.0       3.0  "
      ]
     },
     "execution_count": 5,
     "metadata": {},
     "output_type": "execute_result"
    }
   ],
   "source": [
    "df.tail()"
   ]
  },
  {
   "cell_type": "markdown",
   "metadata": {},
   "source": [
    "## First look at missing data"
   ]
  },
  {
   "cell_type": "code",
   "execution_count": 6,
   "metadata": {},
   "outputs": [
    {
     "data": {
      "text/plain": [
       "CVDINFR4         4\n",
       "_SMOKGRP     35462\n",
       "_RFBMI5          0\n",
       "_TOTINDA         0\n",
       "_AGE_G           0\n",
       "_SEX             0\n",
       "SDHSTRE1    193921\n",
       "_RFDRHV8         0\n",
       "CHCKDNY2         2\n",
       "SLEPTIM1         3\n",
       "_RACEPR1         0\n",
       "_EDUCAG          0\n",
       "EMPLOY1       6196\n",
       "SDHISOLT    191342\n",
       "dtype: int64"
      ]
     },
     "execution_count": 6,
     "metadata": {},
     "output_type": "execute_result"
    }
   ],
   "source": [
    "df.isnull().sum()"
   ]
  },
  {
   "cell_type": "code",
   "execution_count": 7,
   "metadata": {},
   "outputs": [],
   "source": [
    "#droping NA or missing values\n",
    "df = df.dropna(how='any',axis=0)"
   ]
  },
  {
   "cell_type": "code",
   "execution_count": 8,
   "metadata": {},
   "outputs": [
    {
     "data": {
      "text/plain": [
       "CVDINFR4    0\n",
       "_SMOKGRP    0\n",
       "_RFBMI5     0\n",
       "_TOTINDA    0\n",
       "_AGE_G      0\n",
       "_SEX        0\n",
       "SDHSTRE1    0\n",
       "_RFDRHV8    0\n",
       "CHCKDNY2    0\n",
       "SLEPTIM1    0\n",
       "_RACEPR1    0\n",
       "_EDUCAG     0\n",
       "EMPLOY1     0\n",
       "SDHISOLT    0\n",
       "dtype: int64"
      ]
     },
     "execution_count": 8,
     "metadata": {},
     "output_type": "execute_result"
    }
   ],
   "source": [
    "df.isnull().sum()"
   ]
  },
  {
   "cell_type": "code",
   "execution_count": 9,
   "metadata": {},
   "outputs": [
    {
     "name": "stdout",
     "output_type": "stream",
     "text": [
      "2.0    233419\n",
      "1.0     14274\n",
      "7.0      1392\n",
      "9.0        95\n",
      "Name: CVDINFR4, dtype: int64\n",
      "4.0    149962\n",
      "3.0     76988\n",
      "1.0     13720\n",
      "2.0      8510\n",
      "Name: _SMOKGRP, dtype: int64\n",
      "2.0    160940\n",
      "1.0     71480\n",
      "9.0     16760\n",
      "Name: _RFBMI5, dtype: int64\n",
      "1.0    189456\n",
      "2.0     59189\n",
      "9.0       535\n",
      "Name: _TOTINDA, dtype: int64\n",
      "6.0    94240\n",
      "5.0    47219\n",
      "4.0    36641\n",
      "3.0    32441\n",
      "2.0    24987\n",
      "1.0    13652\n",
      "Name: _AGE_G, dtype: int64\n",
      "2.0    132890\n",
      "1.0    116290\n",
      "Name: _SEX, dtype: int64\n",
      "5.0    93927\n",
      "4.0    69019\n",
      "3.0    55540\n",
      "2.0    17070\n",
      "1.0    12189\n",
      "7.0      744\n",
      "9.0      691\n",
      "Name: SDHSTRE1, dtype: int64\n",
      "1.0    228375\n",
      "2.0     16226\n",
      "9.0      4579\n",
      "Name: _RFDRHV8, dtype: int64\n",
      "2.0    236624\n",
      "1.0     11585\n",
      "7.0       885\n",
      "9.0        86\n",
      "Name: CHCKDNY2, dtype: int64\n",
      "7.0     75120\n",
      "8.0     70772\n",
      "6.0     53026\n",
      "5.0     16362\n",
      "9.0     12376\n",
      "4.0      6777\n",
      "10.0     5979\n",
      "77.0     2579\n",
      "3.0      1727\n",
      "12.0     1611\n",
      "2.0       780\n",
      "1.0       573\n",
      "11.0      401\n",
      "99.0      295\n",
      "14.0      167\n",
      "16.0      166\n",
      "15.0      152\n",
      "18.0      102\n",
      "13.0       95\n",
      "20.0       61\n",
      "24.0       24\n",
      "17.0       10\n",
      "19.0        9\n",
      "23.0        8\n",
      "22.0        7\n",
      "21.0        1\n",
      "Name: SLEPTIM1, dtype: int64\n",
      "1.0    191756\n",
      "7.0     25947\n",
      "2.0     17741\n",
      "4.0      5254\n",
      "6.0      4488\n",
      "3.0      3528\n",
      "5.0       466\n",
      "Name: _RACEPR1, dtype: int64\n",
      "4.0    106668\n",
      "3.0     68594\n",
      "2.0     58827\n",
      "1.0     14123\n",
      "9.0       968\n",
      "Name: _EDUCAG, dtype: int64\n",
      "1.0    103491\n",
      "7.0     81341\n",
      "2.0     21858\n",
      "8.0     15330\n",
      "5.0     10141\n",
      "6.0      5687\n",
      "3.0      4726\n",
      "4.0      4421\n",
      "9.0      2185\n",
      "Name: EMPLOY1, dtype: int64\n",
      "5.0    104181\n",
      "4.0     69575\n",
      "3.0     52192\n",
      "2.0     12978\n",
      "1.0      7925\n",
      "7.0      1591\n",
      "9.0       738\n",
      "Name: SDHISOLT, dtype: int64\n"
     ]
    }
   ],
   "source": [
    "#getting ferquancy\n",
    "col_names = ['CVDINFR4','_SMOKGRP', '_RFBMI5','_TOTINDA','_AGE_G','_SEX','SDHSTRE1','_RFDRHV8','CHCKDNY2','SLEPTIM1','_RACEPR1','_EDUCAG','EMPLOY1','SDHISOLT' ]\n",
    "\n",
    "\n",
    "for col in col_names:\n",
    "    \n",
    "    print(df[col].value_counts()) "
   ]
  },
  {
   "cell_type": "markdown",
   "metadata": {},
   "source": [
    "In this section we will omiting value wich participants refuse to answer the question or dont know."
   ]
  },
  {
   "cell_type": "code",
   "execution_count": 10,
   "metadata": {},
   "outputs": [],
   "source": [
    "#omiting refuse to answer\n",
    "df = df[df['CVDINFR4'] != 9.0]"
   ]
  },
  {
   "cell_type": "code",
   "execution_count": 11,
   "metadata": {},
   "outputs": [],
   "source": [
    "#omiting forget to answer\n",
    "\n",
    "df = df[df['CVDINFR4'] != 7.0]"
   ]
  },
  {
   "cell_type": "code",
   "execution_count": 12,
   "metadata": {},
   "outputs": [],
   "source": [
    "df = df[df['CVDINFR4'] != 7.0]"
   ]
  },
  {
   "cell_type": "code",
   "execution_count": 13,
   "metadata": {},
   "outputs": [],
   "source": [
    "df = df[df['CVDINFR4'] != 7.0]"
   ]
  },
  {
   "cell_type": "code",
   "execution_count": 14,
   "metadata": {},
   "outputs": [],
   "source": [
    "df = df[df['_RFBMI5'] != 9.0]"
   ]
  },
  {
   "cell_type": "code",
   "execution_count": 15,
   "metadata": {},
   "outputs": [],
   "source": [
    "df = df[df['_TOTINDA'] != 9.0]"
   ]
  },
  {
   "cell_type": "code",
   "execution_count": 16,
   "metadata": {},
   "outputs": [],
   "source": [
    "df = df[df['SDHSTRE1'] != 9.0]"
   ]
  },
  {
   "cell_type": "code",
   "execution_count": 17,
   "metadata": {},
   "outputs": [],
   "source": [
    "df = df[df['SDHSTRE1'] != 7.0]"
   ]
  },
  {
   "cell_type": "code",
   "execution_count": 18,
   "metadata": {},
   "outputs": [],
   "source": [
    "df = df[df['_RFDRHV8'] != 9.0]"
   ]
  },
  {
   "cell_type": "code",
   "execution_count": 19,
   "metadata": {},
   "outputs": [],
   "source": [
    "df = df[df['CHCKDNY2'] != 7.0]"
   ]
  },
  {
   "cell_type": "code",
   "execution_count": 20,
   "metadata": {},
   "outputs": [],
   "source": [
    "df = df[df['CHCKDNY2'] != 9.0]"
   ]
  },
  {
   "cell_type": "code",
   "execution_count": 21,
   "metadata": {},
   "outputs": [],
   "source": [
    "df = df[df['_EDUCAG'] != 9.0]"
   ]
  },
  {
   "cell_type": "code",
   "execution_count": 22,
   "metadata": {},
   "outputs": [],
   "source": [
    "df = df[df['EMPLOY1'] != 9.0]"
   ]
  },
  {
   "cell_type": "code",
   "execution_count": 23,
   "metadata": {},
   "outputs": [],
   "source": [
    "df = df[df['SDHISOLT'] != 7.0]"
   ]
  },
  {
   "cell_type": "code",
   "execution_count": 24,
   "metadata": {},
   "outputs": [],
   "source": [
    "df = df[df['SDHISOLT'] != 9.0]"
   ]
  },
  {
   "cell_type": "code",
   "execution_count": 25,
   "metadata": {},
   "outputs": [
    {
     "name": "stdout",
     "output_type": "stream",
     "text": [
      "CVDINFR4   1.0     2.0\n",
      "_SMOKGRP              \n",
      "1.0       1497   10921\n",
      "2.0       1044    6683\n",
      "3.0       5173   63947\n",
      "4.0       5170  127488\n",
      "CVDINFR4        1.0        2.0\n",
      "_SMOKGRP                      \n",
      "1.0       12.055081  87.944919\n",
      "2.0       13.511065  86.488935\n",
      "3.0        7.484086  92.515914\n",
      "4.0        3.897240  96.102760\n",
      "CVDINFR4   1.0     2.0\n",
      "_RFBMI5               \n",
      "1.0       3119   64943\n",
      "2.0       9765  144096\n",
      "CVDINFR4       1.0        2.0\n",
      "_RFBMI5                      \n",
      "1.0       4.582586  95.417414\n",
      "2.0       6.346638  93.653362\n",
      "CVDINFR4   1.0     2.0\n",
      "_TOTINDA              \n",
      "1.0       7986  162827\n",
      "2.0       4898   46212\n",
      "CVDINFR4       1.0        2.0\n",
      "_TOTINDA                     \n",
      "1.0       4.675288  95.324712\n",
      "2.0       9.583252  90.416748\n",
      "CVDINFR4   1.0    2.0\n",
      "_AGE_G               \n",
      "1.0         47  12041\n",
      "2.0        121  21850\n",
      "3.0        377  28551\n",
      "4.0       1019  31180\n",
      "5.0       2454  39833\n",
      "6.0       8866  75584\n",
      "CVDINFR4        1.0        2.0\n",
      "_AGE_G                        \n",
      "1.0        0.388815  99.611185\n",
      "2.0        0.550726  99.449274\n",
      "3.0        1.303236  98.696764\n",
      "4.0        3.164695  96.835305\n",
      "5.0        5.803202  94.196798\n",
      "6.0       10.498520  89.501480\n",
      "CVDINFR4   1.0     2.0\n",
      "_SEX                  \n",
      "1.0       8110   98812\n",
      "2.0       4774  110227\n",
      "CVDINFR4       1.0        2.0\n",
      "_SEX                         \n",
      "1.0       7.584968  92.415032\n",
      "2.0       4.151268  95.848732\n",
      "CVDINFR4   1.0    2.0\n",
      "SDHSTRE1             \n",
      "1.0        907   9739\n",
      "2.0        820  14459\n",
      "3.0       2641  46903\n",
      "4.0       3137  59447\n",
      "5.0       5379  78491\n",
      "CVDINFR4       1.0        2.0\n",
      "SDHSTRE1                     \n",
      "1.0       8.519632  91.480368\n",
      "2.0       5.366843  94.633157\n",
      "3.0       5.330615  94.669385\n",
      "4.0       5.012463  94.987537\n",
      "5.0       6.413497  93.586503\n",
      "CVDINFR4    1.0     2.0\n",
      "_RFDRHV8               \n",
      "1.0       12306  194388\n",
      "2.0         578   14651\n",
      "CVDINFR4       1.0        2.0\n",
      "_RFDRHV8                     \n",
      "1.0       5.953729  94.046271\n",
      "2.0       3.795390  96.204610\n",
      "CVDINFR4    1.0     2.0\n",
      "CHCKDNY2               \n",
      "1.0        1828    8565\n",
      "2.0       11056  200474\n",
      "CVDINFR4        1.0        2.0\n",
      "CHCKDNY2                      \n",
      "1.0       17.588762  82.411238\n",
      "2.0        5.226682  94.773318\n",
      "CVDINFR4   1.0    2.0\n",
      "SLEPTIM1             \n",
      "1.0         35    437\n",
      "2.0         93    540\n",
      "3.0        188   1302\n",
      "4.0        642   5227\n",
      "5.0       1052  13358\n",
      "6.0       2637  44872\n",
      "7.0       2780  65260\n",
      "8.0       3518  59401\n",
      "9.0        779  10303\n",
      "10.0       610   4617\n",
      "11.0        47    301\n",
      "12.0       185   1193\n",
      "13.0        15     61\n",
      "14.0        18    127\n",
      "15.0        19    115\n",
      "16.0        25    117\n",
      "17.0         1      7\n",
      "18.0        10     73\n",
      "19.0         1      7\n",
      "20.0         9     37\n",
      "21.0         0      1\n",
      "22.0         1      2\n",
      "23.0         1      4\n",
      "24.0         1     18\n",
      "77.0       202   1521\n",
      "99.0        15    138\n",
      "CVDINFR4        1.0         2.0\n",
      "SLEPTIM1                       \n",
      "1.0        7.415254   92.584746\n",
      "2.0       14.691943   85.308057\n",
      "3.0       12.617450   87.382550\n",
      "4.0       10.938831   89.061169\n",
      "5.0        7.300486   92.699514\n",
      "6.0        5.550527   94.449473\n",
      "7.0        4.085832   95.914168\n",
      "8.0        5.591316   94.408684\n",
      "9.0        7.029417   92.970583\n",
      "10.0      11.670174   88.329826\n",
      "11.0      13.505747   86.494253\n",
      "12.0      13.425254   86.574746\n",
      "13.0      19.736842   80.263158\n",
      "14.0      12.413793   87.586207\n",
      "15.0      14.179104   85.820896\n",
      "16.0      17.605634   82.394366\n",
      "17.0      12.500000   87.500000\n",
      "18.0      12.048193   87.951807\n",
      "19.0      12.500000   87.500000\n",
      "20.0      19.565217   80.434783\n",
      "21.0       0.000000  100.000000\n",
      "22.0      33.333333   66.666667\n",
      "23.0      20.000000   80.000000\n",
      "24.0       5.263158   94.736842\n",
      "77.0      11.723738   88.276262\n",
      "99.0       9.803922   90.196078\n",
      "CVDINFR4    1.0     2.0\n",
      "_RACEPR1               \n",
      "1.0       10634  161719\n",
      "2.0         730   14704\n",
      "3.0         272    2839\n",
      "4.0          77    4403\n",
      "5.0          21     380\n",
      "6.0         262    3764\n",
      "7.0         888   21230\n",
      "CVDINFR4       1.0        2.0\n",
      "_RACEPR1                     \n",
      "1.0       6.169896  93.830104\n",
      "2.0       4.729817  95.270183\n",
      "3.0       8.743169  91.256831\n",
      "4.0       1.718750  98.281250\n",
      "5.0       5.236908  94.763092\n",
      "6.0       6.507700  93.492300\n",
      "7.0       4.014830  95.985170\n",
      "CVDINFR4   1.0    2.0\n",
      "_EDUCAG              \n",
      "1.0       1240  10202\n",
      "2.0       3688  48303\n",
      "3.0       4019  57472\n",
      "4.0       3937  93062\n",
      "CVDINFR4        1.0        2.0\n",
      "_EDUCAG                       \n",
      "1.0       10.837266  89.162734\n",
      "2.0        7.093535  92.906465\n",
      "3.0        6.535916  93.464084\n",
      "4.0        4.058805  95.941195\n",
      "CVDINFR4   1.0    2.0\n",
      "EMPLOY1              \n",
      "1.0       1987  91783\n",
      "2.0        818  19137\n",
      "3.0        240   3909\n",
      "4.0        133   3741\n",
      "5.0        303   8244\n",
      "6.0         44   5056\n",
      "7.0       7435  65840\n",
      "8.0       1924  11329\n",
      "CVDINFR4        1.0        2.0\n",
      "EMPLOY1                       \n",
      "1.0        2.119015  97.880985\n",
      "2.0        4.099223  95.900777\n",
      "3.0        5.784526  94.215474\n",
      "4.0        3.433144  96.566856\n",
      "5.0        3.545104  96.454896\n",
      "6.0        0.862745  99.137255\n",
      "7.0       10.146708  89.853292\n",
      "8.0       14.517468  85.482532\n",
      "CVDINFR4   1.0    2.0\n",
      "SDHISOLT             \n",
      "1.0        704   6069\n",
      "2.0        781  10849\n",
      "3.0       2796  44010\n",
      "4.0       2811  60662\n",
      "5.0       5792  87449\n",
      "CVDINFR4        1.0        2.0\n",
      "SDHISOLT                      \n",
      "1.0       10.394212  89.605788\n",
      "2.0        6.715391  93.284609\n",
      "3.0        5.973593  94.026407\n",
      "4.0        4.428655  95.571345\n",
      "5.0        6.211860  93.788140\n"
     ]
    }
   ],
   "source": [
    "# Cross tab table for first look\n",
    "col_names = ['_SMOKGRP', '_RFBMI5','_TOTINDA','_AGE_G','_SEX','SDHSTRE1','_RFDRHV8','CHCKDNY2','SLEPTIM1','_RACEPR1','_EDUCAG','EMPLOY1','SDHISOLT' ]\n",
    "\n",
    "\n",
    "for col in col_names:\n",
    "    cross_tab = pd.crosstab(df[col] , df['CVDINFR4'])\n",
    "    crosstab_percentages = pd.crosstab(df[col], df['CVDINFR4'], normalize='index') * 100\n",
    "    # Display the cross-tabulation\n",
    "    print(cross_tab)\n",
    "    print(crosstab_percentages)\n",
    "\n"
   ]
  },
  {
   "cell_type": "code",
   "execution_count": 26,
   "metadata": {},
   "outputs": [
    {
     "data": {
      "text/plain": [
       "2.0    209039\n",
       "1.0     12884\n",
       "Name: CVDINFR4, dtype: int64"
      ]
     },
     "execution_count": 26,
     "metadata": {},
     "output_type": "execute_result"
    }
   ],
   "source": [
    "df['CVDINFR4'].value_counts()"
   ]
  },
  {
   "cell_type": "code",
   "execution_count": 27,
   "metadata": {},
   "outputs": [
    {
     "data": {
      "text/plain": [
       "CVDINFR4\n",
       "1.0    9.411689\n",
       "2.0    6.548570\n",
       "Name: SLEPTIM1, dtype: float64"
      ]
     },
     "execution_count": 27,
     "metadata": {},
     "output_type": "execute_result"
    }
   ],
   "source": [
    "df.groupby('CVDINFR4')['SLEPTIM1'].std()"
   ]
  },
  {
   "cell_type": "code",
   "execution_count": 28,
   "metadata": {},
   "outputs": [
    {
     "data": {
      "text/plain": [
       "CVDINFR4\n",
       "1.0    8.267852\n",
       "2.0    7.609810\n",
       "Name: SLEPTIM1, dtype: float64"
      ]
     },
     "execution_count": 28,
     "metadata": {},
     "output_type": "execute_result"
    }
   ],
   "source": [
    "df.groupby('CVDINFR4')['SLEPTIM1'].mean()"
   ]
  },
  {
   "cell_type": "code",
   "execution_count": 29,
   "metadata": {},
   "outputs": [],
   "source": [
    "cross_tab = pd.crosstab(df[col] , df['CVDINFR4'])"
   ]
  },
  {
   "cell_type": "markdown",
   "metadata": {},
   "source": [
    "## enCODEING & Replacing\n",
    "\n",
    "here we will decoding ordinal and categorical variebles"
   ]
  },
  {
   "cell_type": "code",
   "execution_count": 30,
   "metadata": {},
   "outputs": [],
   "source": [
    "binary_columns = ['CVDINFR4', 'CHCKDNY2', '_RFDRHV8', '_TOTINDA', '_RFBMI5']\n",
    "\n",
    "\n",
    "for col in binary_columns:\n",
    "    \n",
    "    df[col] = df[col].replace({2: 0}) "
   ]
  },
  {
   "cell_type": "code",
   "execution_count": 31,
   "metadata": {},
   "outputs": [
    {
     "data": {
      "text/html": [
       "<div>\n",
       "<style scoped>\n",
       "    .dataframe tbody tr th:only-of-type {\n",
       "        vertical-align: middle;\n",
       "    }\n",
       "\n",
       "    .dataframe tbody tr th {\n",
       "        vertical-align: top;\n",
       "    }\n",
       "\n",
       "    .dataframe thead th {\n",
       "        text-align: right;\n",
       "    }\n",
       "</style>\n",
       "<table border=\"1\" class=\"dataframe\">\n",
       "  <thead>\n",
       "    <tr style=\"text-align: right;\">\n",
       "      <th></th>\n",
       "      <th>CVDINFR4</th>\n",
       "      <th>_SMOKGRP</th>\n",
       "      <th>_RFBMI5</th>\n",
       "      <th>_TOTINDA</th>\n",
       "      <th>_AGE_G</th>\n",
       "      <th>_SEX</th>\n",
       "      <th>SDHSTRE1</th>\n",
       "      <th>_RFDRHV8</th>\n",
       "      <th>CHCKDNY2</th>\n",
       "      <th>SLEPTIM1</th>\n",
       "      <th>_RACEPR1</th>\n",
       "      <th>_EDUCAG</th>\n",
       "      <th>EMPLOY1</th>\n",
       "      <th>SDHISOLT</th>\n",
       "    </tr>\n",
       "  </thead>\n",
       "  <tbody>\n",
       "    <tr>\n",
       "      <th>1</th>\n",
       "      <td>0.0</td>\n",
       "      <td>4.0</td>\n",
       "      <td>0.0</td>\n",
       "      <td>0.0</td>\n",
       "      <td>6.0</td>\n",
       "      <td>2.0</td>\n",
       "      <td>5.0</td>\n",
       "      <td>1.0</td>\n",
       "      <td>0.0</td>\n",
       "      <td>6.0</td>\n",
       "      <td>1.0</td>\n",
       "      <td>2.0</td>\n",
       "      <td>2.0</td>\n",
       "      <td>5.0</td>\n",
       "    </tr>\n",
       "    <tr>\n",
       "      <th>2</th>\n",
       "      <td>0.0</td>\n",
       "      <td>4.0</td>\n",
       "      <td>0.0</td>\n",
       "      <td>1.0</td>\n",
       "      <td>5.0</td>\n",
       "      <td>2.0</td>\n",
       "      <td>5.0</td>\n",
       "      <td>1.0</td>\n",
       "      <td>0.0</td>\n",
       "      <td>5.0</td>\n",
       "      <td>1.0</td>\n",
       "      <td>4.0</td>\n",
       "      <td>7.0</td>\n",
       "      <td>3.0</td>\n",
       "    </tr>\n",
       "    <tr>\n",
       "      <th>3</th>\n",
       "      <td>0.0</td>\n",
       "      <td>3.0</td>\n",
       "      <td>1.0</td>\n",
       "      <td>1.0</td>\n",
       "      <td>6.0</td>\n",
       "      <td>2.0</td>\n",
       "      <td>5.0</td>\n",
       "      <td>1.0</td>\n",
       "      <td>0.0</td>\n",
       "      <td>7.0</td>\n",
       "      <td>1.0</td>\n",
       "      <td>2.0</td>\n",
       "      <td>7.0</td>\n",
       "      <td>3.0</td>\n",
       "    </tr>\n",
       "    <tr>\n",
       "      <th>4</th>\n",
       "      <td>0.0</td>\n",
       "      <td>4.0</td>\n",
       "      <td>1.0</td>\n",
       "      <td>1.0</td>\n",
       "      <td>3.0</td>\n",
       "      <td>2.0</td>\n",
       "      <td>5.0</td>\n",
       "      <td>1.0</td>\n",
       "      <td>0.0</td>\n",
       "      <td>9.0</td>\n",
       "      <td>1.0</td>\n",
       "      <td>3.0</td>\n",
       "      <td>5.0</td>\n",
       "      <td>5.0</td>\n",
       "    </tr>\n",
       "    <tr>\n",
       "      <th>5</th>\n",
       "      <td>1.0</td>\n",
       "      <td>4.0</td>\n",
       "      <td>0.0</td>\n",
       "      <td>0.0</td>\n",
       "      <td>6.0</td>\n",
       "      <td>1.0</td>\n",
       "      <td>5.0</td>\n",
       "      <td>1.0</td>\n",
       "      <td>0.0</td>\n",
       "      <td>7.0</td>\n",
       "      <td>1.0</td>\n",
       "      <td>2.0</td>\n",
       "      <td>7.0</td>\n",
       "      <td>5.0</td>\n",
       "    </tr>\n",
       "    <tr>\n",
       "      <th>...</th>\n",
       "      <td>...</td>\n",
       "      <td>...</td>\n",
       "      <td>...</td>\n",
       "      <td>...</td>\n",
       "      <td>...</td>\n",
       "      <td>...</td>\n",
       "      <td>...</td>\n",
       "      <td>...</td>\n",
       "      <td>...</td>\n",
       "      <td>...</td>\n",
       "      <td>...</td>\n",
       "      <td>...</td>\n",
       "      <td>...</td>\n",
       "      <td>...</td>\n",
       "    </tr>\n",
       "    <tr>\n",
       "      <th>445123</th>\n",
       "      <td>0.0</td>\n",
       "      <td>4.0</td>\n",
       "      <td>1.0</td>\n",
       "      <td>1.0</td>\n",
       "      <td>2.0</td>\n",
       "      <td>2.0</td>\n",
       "      <td>4.0</td>\n",
       "      <td>1.0</td>\n",
       "      <td>0.0</td>\n",
       "      <td>7.0</td>\n",
       "      <td>2.0</td>\n",
       "      <td>4.0</td>\n",
       "      <td>1.0</td>\n",
       "      <td>2.0</td>\n",
       "    </tr>\n",
       "    <tr>\n",
       "      <th>445124</th>\n",
       "      <td>0.0</td>\n",
       "      <td>4.0</td>\n",
       "      <td>0.0</td>\n",
       "      <td>1.0</td>\n",
       "      <td>6.0</td>\n",
       "      <td>1.0</td>\n",
       "      <td>3.0</td>\n",
       "      <td>1.0</td>\n",
       "      <td>0.0</td>\n",
       "      <td>7.0</td>\n",
       "      <td>6.0</td>\n",
       "      <td>4.0</td>\n",
       "      <td>1.0</td>\n",
       "      <td>5.0</td>\n",
       "    </tr>\n",
       "    <tr>\n",
       "      <th>445126</th>\n",
       "      <td>0.0</td>\n",
       "      <td>4.0</td>\n",
       "      <td>0.0</td>\n",
       "      <td>1.0</td>\n",
       "      <td>2.0</td>\n",
       "      <td>1.0</td>\n",
       "      <td>5.0</td>\n",
       "      <td>1.0</td>\n",
       "      <td>0.0</td>\n",
       "      <td>8.0</td>\n",
       "      <td>1.0</td>\n",
       "      <td>4.0</td>\n",
       "      <td>1.0</td>\n",
       "      <td>5.0</td>\n",
       "    </tr>\n",
       "    <tr>\n",
       "      <th>445128</th>\n",
       "      <td>0.0</td>\n",
       "      <td>4.0</td>\n",
       "      <td>0.0</td>\n",
       "      <td>1.0</td>\n",
       "      <td>4.0</td>\n",
       "      <td>2.0</td>\n",
       "      <td>5.0</td>\n",
       "      <td>1.0</td>\n",
       "      <td>0.0</td>\n",
       "      <td>7.0</td>\n",
       "      <td>2.0</td>\n",
       "      <td>4.0</td>\n",
       "      <td>1.0</td>\n",
       "      <td>5.0</td>\n",
       "    </tr>\n",
       "    <tr>\n",
       "      <th>445130</th>\n",
       "      <td>1.0</td>\n",
       "      <td>4.0</td>\n",
       "      <td>0.0</td>\n",
       "      <td>0.0</td>\n",
       "      <td>6.0</td>\n",
       "      <td>1.0</td>\n",
       "      <td>4.0</td>\n",
       "      <td>1.0</td>\n",
       "      <td>0.0</td>\n",
       "      <td>5.0</td>\n",
       "      <td>2.0</td>\n",
       "      <td>3.0</td>\n",
       "      <td>7.0</td>\n",
       "      <td>5.0</td>\n",
       "    </tr>\n",
       "  </tbody>\n",
       "</table>\n",
       "<p>221923 rows × 14 columns</p>\n",
       "</div>"
      ],
      "text/plain": [
       "        CVDINFR4  _SMOKGRP  _RFBMI5  _TOTINDA  _AGE_G  _SEX  SDHSTRE1  \\\n",
       "1            0.0       4.0      0.0       0.0     6.0   2.0       5.0   \n",
       "2            0.0       4.0      0.0       1.0     5.0   2.0       5.0   \n",
       "3            0.0       3.0      1.0       1.0     6.0   2.0       5.0   \n",
       "4            0.0       4.0      1.0       1.0     3.0   2.0       5.0   \n",
       "5            1.0       4.0      0.0       0.0     6.0   1.0       5.0   \n",
       "...          ...       ...      ...       ...     ...   ...       ...   \n",
       "445123       0.0       4.0      1.0       1.0     2.0   2.0       4.0   \n",
       "445124       0.0       4.0      0.0       1.0     6.0   1.0       3.0   \n",
       "445126       0.0       4.0      0.0       1.0     2.0   1.0       5.0   \n",
       "445128       0.0       4.0      0.0       1.0     4.0   2.0       5.0   \n",
       "445130       1.0       4.0      0.0       0.0     6.0   1.0       4.0   \n",
       "\n",
       "        _RFDRHV8  CHCKDNY2  SLEPTIM1  _RACEPR1  _EDUCAG  EMPLOY1  SDHISOLT  \n",
       "1            1.0       0.0       6.0       1.0      2.0      2.0       5.0  \n",
       "2            1.0       0.0       5.0       1.0      4.0      7.0       3.0  \n",
       "3            1.0       0.0       7.0       1.0      2.0      7.0       3.0  \n",
       "4            1.0       0.0       9.0       1.0      3.0      5.0       5.0  \n",
       "5            1.0       0.0       7.0       1.0      2.0      7.0       5.0  \n",
       "...          ...       ...       ...       ...      ...      ...       ...  \n",
       "445123       1.0       0.0       7.0       2.0      4.0      1.0       2.0  \n",
       "445124       1.0       0.0       7.0       6.0      4.0      1.0       5.0  \n",
       "445126       1.0       0.0       8.0       1.0      4.0      1.0       5.0  \n",
       "445128       1.0       0.0       7.0       2.0      4.0      1.0       5.0  \n",
       "445130       1.0       0.0       5.0       2.0      3.0      7.0       5.0  \n",
       "\n",
       "[221923 rows x 14 columns]"
      ]
     },
     "execution_count": 31,
     "metadata": {},
     "output_type": "execute_result"
    }
   ],
   "source": [
    "df"
   ]
  },
  {
   "cell_type": "code",
   "execution_count": 32,
   "metadata": {},
   "outputs": [
    {
     "data": {
      "text/plain": [
       "221923"
      ]
     },
     "execution_count": 32,
     "metadata": {},
     "output_type": "execute_result"
    }
   ],
   "source": [
    "df['CVDINFR4'].count()"
   ]
  },
  {
   "cell_type": "code",
   "execution_count": 33,
   "metadata": {},
   "outputs": [],
   "source": [
    "# Convert remaining categorical variables with \"Yes\" and \"No\" values to binary format for correlation computation\n",
    "binary_columns = ['CVDINFR4', 'CHCKDNY2', '_RFDRHV8', '_TOTINDA', '_RFBMI5']\n",
    "\n",
    "for column in binary_columns:\n",
    "    df[column] = df[column].replace({'1.0': 1.0, '0.0': 0.0})"
   ]
  },
  {
   "cell_type": "code",
   "execution_count": 34,
   "metadata": {},
   "outputs": [],
   "source": [
    "# Mapping for smoking\n",
    "_SMOKGRP_mapping = {\n",
    "    '1': 1, \n",
    "    '2': 2, \n",
    "    '3': 3,\n",
    "    '4': 4\n",
    "}\n",
    "df['_SMOKGRP'] = df['_SMOKGRP'].replace(_SMOKGRP_mapping)"
   ]
  },
  {
   "cell_type": "code",
   "execution_count": 35,
   "metadata": {},
   "outputs": [],
   "source": [
    "#  encoding for Sex\n",
    "\n",
    "_SEX_mapping = {\n",
    "    '1': 1, \n",
    "    '2': 2, \n",
    "}\n",
    "df['_SEX'] = df['_SEX'].replace(_SEX_mapping)"
   ]
  },
  {
   "cell_type": "code",
   "execution_count": 36,
   "metadata": {},
   "outputs": [],
   "source": [
    "# Mapping for aging\n",
    "age_mapping = {\n",
    "    '1': 1, \n",
    "    '2': 2, \n",
    "    '3': 3,\n",
    "    '4': 4,\n",
    "    '5': 5,\n",
    "    '6': 6\n",
    "}\n",
    "df['_AGE_G'] = df['_AGE_G'].replace(age_mapping)"
   ]
  },
  {
   "cell_type": "code",
   "execution_count": 37,
   "metadata": {},
   "outputs": [],
   "source": [
    "\n",
    "SDHSTRE1_mapping = {\n",
    "    '1': 1, \n",
    "    '2': 2, \n",
    "    '3': 3,\n",
    "    '4': 4,\n",
    "    '5': 5\n",
    "}\n",
    "df['SDHSTRE1'] = df['SDHSTRE1'].replace(SDHSTRE1_mapping)"
   ]
  },
  {
   "cell_type": "code",
   "execution_count": 38,
   "metadata": {},
   "outputs": [],
   "source": [
    "\n",
    "_RACEPR1_mapping = {\n",
    "    '1': 1, \n",
    "    '2': 2, \n",
    "    '3': 3,\n",
    "    '4': 4,\n",
    "    '5': 5,\n",
    "    '6': 6,\n",
    "    '7': 7\n",
    "}\n",
    "df['_RACEPR1'] = df['_RACEPR1'].replace(_RACEPR1_mapping)"
   ]
  },
  {
   "cell_type": "code",
   "execution_count": 39,
   "metadata": {},
   "outputs": [],
   "source": [
    "_EDUCAG_mapping = {\n",
    "    '1': 1, \n",
    "    '2': 2, \n",
    "    '3': 3,\n",
    "    '4': 4\n",
    "}\n",
    "df['_EDUCAG'] = df['_EDUCAG'].replace(_EDUCAG_mapping)"
   ]
  },
  {
   "cell_type": "code",
   "execution_count": 40,
   "metadata": {},
   "outputs": [],
   "source": [
    "EMPLOY1_mapping = {\n",
    "    '1': 1, \n",
    "    '2': 2, \n",
    "    '3': 3,\n",
    "    '4': 4,\n",
    "    '5' : 5,\n",
    "    '6': 6\n",
    "}\n",
    "df['EMPLOY1'] = df['EMPLOY1'].replace(EMPLOY1_mapping)"
   ]
  },
  {
   "cell_type": "code",
   "execution_count": 41,
   "metadata": {},
   "outputs": [],
   "source": [
    "SDHISOLT_mapping = {\n",
    "    '1': 1, \n",
    "    '2': 2, \n",
    "    '3': 3,\n",
    "    '4': 4,\n",
    "    '5': 5,\n",
    "    '6': 6,\n",
    "    '7': 7,\n",
    "    '8': 8\n",
    "}\n",
    "df['SDHISOLT'] = df['SDHISOLT'].replace(SDHISOLT_mapping)"
   ]
  },
  {
   "cell_type": "code",
   "execution_count": 42,
   "metadata": {},
   "outputs": [
    {
     "data": {
      "text/html": [
       "<div>\n",
       "<style scoped>\n",
       "    .dataframe tbody tr th:only-of-type {\n",
       "        vertical-align: middle;\n",
       "    }\n",
       "\n",
       "    .dataframe tbody tr th {\n",
       "        vertical-align: top;\n",
       "    }\n",
       "\n",
       "    .dataframe thead th {\n",
       "        text-align: right;\n",
       "    }\n",
       "</style>\n",
       "<table border=\"1\" class=\"dataframe\">\n",
       "  <thead>\n",
       "    <tr style=\"text-align: right;\">\n",
       "      <th></th>\n",
       "      <th>CVDINFR4</th>\n",
       "      <th>_SMOKGRP</th>\n",
       "      <th>_RFBMI5</th>\n",
       "      <th>_TOTINDA</th>\n",
       "      <th>_AGE_G</th>\n",
       "      <th>_SEX</th>\n",
       "      <th>SDHSTRE1</th>\n",
       "      <th>_RFDRHV8</th>\n",
       "      <th>CHCKDNY2</th>\n",
       "      <th>SLEPTIM1</th>\n",
       "      <th>_RACEPR1</th>\n",
       "      <th>_EDUCAG</th>\n",
       "      <th>EMPLOY1</th>\n",
       "      <th>SDHISOLT</th>\n",
       "    </tr>\n",
       "  </thead>\n",
       "  <tbody>\n",
       "    <tr>\n",
       "      <th>1</th>\n",
       "      <td>0.0</td>\n",
       "      <td>4.0</td>\n",
       "      <td>0.0</td>\n",
       "      <td>0.0</td>\n",
       "      <td>6.0</td>\n",
       "      <td>2.0</td>\n",
       "      <td>5.0</td>\n",
       "      <td>1.0</td>\n",
       "      <td>0.0</td>\n",
       "      <td>6.0</td>\n",
       "      <td>1.0</td>\n",
       "      <td>2.0</td>\n",
       "      <td>2.0</td>\n",
       "      <td>5.0</td>\n",
       "    </tr>\n",
       "    <tr>\n",
       "      <th>2</th>\n",
       "      <td>0.0</td>\n",
       "      <td>4.0</td>\n",
       "      <td>0.0</td>\n",
       "      <td>1.0</td>\n",
       "      <td>5.0</td>\n",
       "      <td>2.0</td>\n",
       "      <td>5.0</td>\n",
       "      <td>1.0</td>\n",
       "      <td>0.0</td>\n",
       "      <td>5.0</td>\n",
       "      <td>1.0</td>\n",
       "      <td>4.0</td>\n",
       "      <td>7.0</td>\n",
       "      <td>3.0</td>\n",
       "    </tr>\n",
       "    <tr>\n",
       "      <th>3</th>\n",
       "      <td>0.0</td>\n",
       "      <td>3.0</td>\n",
       "      <td>1.0</td>\n",
       "      <td>1.0</td>\n",
       "      <td>6.0</td>\n",
       "      <td>2.0</td>\n",
       "      <td>5.0</td>\n",
       "      <td>1.0</td>\n",
       "      <td>0.0</td>\n",
       "      <td>7.0</td>\n",
       "      <td>1.0</td>\n",
       "      <td>2.0</td>\n",
       "      <td>7.0</td>\n",
       "      <td>3.0</td>\n",
       "    </tr>\n",
       "    <tr>\n",
       "      <th>4</th>\n",
       "      <td>0.0</td>\n",
       "      <td>4.0</td>\n",
       "      <td>1.0</td>\n",
       "      <td>1.0</td>\n",
       "      <td>3.0</td>\n",
       "      <td>2.0</td>\n",
       "      <td>5.0</td>\n",
       "      <td>1.0</td>\n",
       "      <td>0.0</td>\n",
       "      <td>9.0</td>\n",
       "      <td>1.0</td>\n",
       "      <td>3.0</td>\n",
       "      <td>5.0</td>\n",
       "      <td>5.0</td>\n",
       "    </tr>\n",
       "    <tr>\n",
       "      <th>5</th>\n",
       "      <td>1.0</td>\n",
       "      <td>4.0</td>\n",
       "      <td>0.0</td>\n",
       "      <td>0.0</td>\n",
       "      <td>6.0</td>\n",
       "      <td>1.0</td>\n",
       "      <td>5.0</td>\n",
       "      <td>1.0</td>\n",
       "      <td>0.0</td>\n",
       "      <td>7.0</td>\n",
       "      <td>1.0</td>\n",
       "      <td>2.0</td>\n",
       "      <td>7.0</td>\n",
       "      <td>5.0</td>\n",
       "    </tr>\n",
       "    <tr>\n",
       "      <th>...</th>\n",
       "      <td>...</td>\n",
       "      <td>...</td>\n",
       "      <td>...</td>\n",
       "      <td>...</td>\n",
       "      <td>...</td>\n",
       "      <td>...</td>\n",
       "      <td>...</td>\n",
       "      <td>...</td>\n",
       "      <td>...</td>\n",
       "      <td>...</td>\n",
       "      <td>...</td>\n",
       "      <td>...</td>\n",
       "      <td>...</td>\n",
       "      <td>...</td>\n",
       "    </tr>\n",
       "    <tr>\n",
       "      <th>445123</th>\n",
       "      <td>0.0</td>\n",
       "      <td>4.0</td>\n",
       "      <td>1.0</td>\n",
       "      <td>1.0</td>\n",
       "      <td>2.0</td>\n",
       "      <td>2.0</td>\n",
       "      <td>4.0</td>\n",
       "      <td>1.0</td>\n",
       "      <td>0.0</td>\n",
       "      <td>7.0</td>\n",
       "      <td>2.0</td>\n",
       "      <td>4.0</td>\n",
       "      <td>1.0</td>\n",
       "      <td>2.0</td>\n",
       "    </tr>\n",
       "    <tr>\n",
       "      <th>445124</th>\n",
       "      <td>0.0</td>\n",
       "      <td>4.0</td>\n",
       "      <td>0.0</td>\n",
       "      <td>1.0</td>\n",
       "      <td>6.0</td>\n",
       "      <td>1.0</td>\n",
       "      <td>3.0</td>\n",
       "      <td>1.0</td>\n",
       "      <td>0.0</td>\n",
       "      <td>7.0</td>\n",
       "      <td>6.0</td>\n",
       "      <td>4.0</td>\n",
       "      <td>1.0</td>\n",
       "      <td>5.0</td>\n",
       "    </tr>\n",
       "    <tr>\n",
       "      <th>445126</th>\n",
       "      <td>0.0</td>\n",
       "      <td>4.0</td>\n",
       "      <td>0.0</td>\n",
       "      <td>1.0</td>\n",
       "      <td>2.0</td>\n",
       "      <td>1.0</td>\n",
       "      <td>5.0</td>\n",
       "      <td>1.0</td>\n",
       "      <td>0.0</td>\n",
       "      <td>8.0</td>\n",
       "      <td>1.0</td>\n",
       "      <td>4.0</td>\n",
       "      <td>1.0</td>\n",
       "      <td>5.0</td>\n",
       "    </tr>\n",
       "    <tr>\n",
       "      <th>445128</th>\n",
       "      <td>0.0</td>\n",
       "      <td>4.0</td>\n",
       "      <td>0.0</td>\n",
       "      <td>1.0</td>\n",
       "      <td>4.0</td>\n",
       "      <td>2.0</td>\n",
       "      <td>5.0</td>\n",
       "      <td>1.0</td>\n",
       "      <td>0.0</td>\n",
       "      <td>7.0</td>\n",
       "      <td>2.0</td>\n",
       "      <td>4.0</td>\n",
       "      <td>1.0</td>\n",
       "      <td>5.0</td>\n",
       "    </tr>\n",
       "    <tr>\n",
       "      <th>445130</th>\n",
       "      <td>1.0</td>\n",
       "      <td>4.0</td>\n",
       "      <td>0.0</td>\n",
       "      <td>0.0</td>\n",
       "      <td>6.0</td>\n",
       "      <td>1.0</td>\n",
       "      <td>4.0</td>\n",
       "      <td>1.0</td>\n",
       "      <td>0.0</td>\n",
       "      <td>5.0</td>\n",
       "      <td>2.0</td>\n",
       "      <td>3.0</td>\n",
       "      <td>7.0</td>\n",
       "      <td>5.0</td>\n",
       "    </tr>\n",
       "  </tbody>\n",
       "</table>\n",
       "<p>221923 rows × 14 columns</p>\n",
       "</div>"
      ],
      "text/plain": [
       "        CVDINFR4  _SMOKGRP  _RFBMI5  _TOTINDA  _AGE_G  _SEX  SDHSTRE1  \\\n",
       "1            0.0       4.0      0.0       0.0     6.0   2.0       5.0   \n",
       "2            0.0       4.0      0.0       1.0     5.0   2.0       5.0   \n",
       "3            0.0       3.0      1.0       1.0     6.0   2.0       5.0   \n",
       "4            0.0       4.0      1.0       1.0     3.0   2.0       5.0   \n",
       "5            1.0       4.0      0.0       0.0     6.0   1.0       5.0   \n",
       "...          ...       ...      ...       ...     ...   ...       ...   \n",
       "445123       0.0       4.0      1.0       1.0     2.0   2.0       4.0   \n",
       "445124       0.0       4.0      0.0       1.0     6.0   1.0       3.0   \n",
       "445126       0.0       4.0      0.0       1.0     2.0   1.0       5.0   \n",
       "445128       0.0       4.0      0.0       1.0     4.0   2.0       5.0   \n",
       "445130       1.0       4.0      0.0       0.0     6.0   1.0       4.0   \n",
       "\n",
       "        _RFDRHV8  CHCKDNY2  SLEPTIM1  _RACEPR1  _EDUCAG  EMPLOY1  SDHISOLT  \n",
       "1            1.0       0.0       6.0       1.0      2.0      2.0       5.0  \n",
       "2            1.0       0.0       5.0       1.0      4.0      7.0       3.0  \n",
       "3            1.0       0.0       7.0       1.0      2.0      7.0       3.0  \n",
       "4            1.0       0.0       9.0       1.0      3.0      5.0       5.0  \n",
       "5            1.0       0.0       7.0       1.0      2.0      7.0       5.0  \n",
       "...          ...       ...       ...       ...      ...      ...       ...  \n",
       "445123       1.0       0.0       7.0       2.0      4.0      1.0       2.0  \n",
       "445124       1.0       0.0       7.0       6.0      4.0      1.0       5.0  \n",
       "445126       1.0       0.0       8.0       1.0      4.0      1.0       5.0  \n",
       "445128       1.0       0.0       7.0       2.0      4.0      1.0       5.0  \n",
       "445130       1.0       0.0       5.0       2.0      3.0      7.0       5.0  \n",
       "\n",
       "[221923 rows x 14 columns]"
      ]
     },
     "execution_count": 42,
     "metadata": {},
     "output_type": "execute_result"
    }
   ],
   "source": [
    "df"
   ]
  },
  {
   "cell_type": "code",
   "execution_count": 43,
   "metadata": {},
   "outputs": [
    {
     "name": "stdout",
     "output_type": "stream",
     "text": [
      "<class 'pandas.core.frame.DataFrame'>\n",
      "Int64Index: 221923 entries, 1 to 445130\n",
      "Data columns (total 14 columns):\n",
      " #   Column    Non-Null Count   Dtype  \n",
      "---  ------    --------------   -----  \n",
      " 0   CVDINFR4  221923 non-null  float64\n",
      " 1   _SMOKGRP  221923 non-null  float64\n",
      " 2   _RFBMI5   221923 non-null  float64\n",
      " 3   _TOTINDA  221923 non-null  float64\n",
      " 4   _AGE_G    221923 non-null  float64\n",
      " 5   _SEX      221923 non-null  float64\n",
      " 6   SDHSTRE1  221923 non-null  float64\n",
      " 7   _RFDRHV8  221923 non-null  float64\n",
      " 8   CHCKDNY2  221923 non-null  float64\n",
      " 9   SLEPTIM1  221923 non-null  float64\n",
      " 10  _RACEPR1  221923 non-null  float64\n",
      " 11  _EDUCAG   221923 non-null  float64\n",
      " 12  EMPLOY1   221923 non-null  float64\n",
      " 13  SDHISOLT  221923 non-null  float64\n",
      "dtypes: float64(14)\n",
      "memory usage: 25.4 MB\n"
     ]
    }
   ],
   "source": [
    "df.info()"
   ]
  },
  {
   "cell_type": "code",
   "execution_count": 44,
   "metadata": {},
   "outputs": [],
   "source": [
    "df = df.rename(columns={'CVDINFR4':'CVD','_SMOKGRP':'Smoking', '_RFBMI5':'Obesity','_TOTINDA':'physical activity','_AGE_G':'Age','_SEX': 'Gender','SDHSTRE1':'Stress','_RFDRHV8':'alcohol consumption','CHCKDNY2':'kidney disease','SLEPTIM1':'Sleep','_RACEPR1':'Race','_EDUCAG':'Education','EMPLOY1':'Employment','SDHISOLT':'socially isolated'})"
   ]
  },
  {
   "cell_type": "code",
   "execution_count": 45,
   "metadata": {},
   "outputs": [
    {
     "data": {
      "text/html": [
       "<div>\n",
       "<style scoped>\n",
       "    .dataframe tbody tr th:only-of-type {\n",
       "        vertical-align: middle;\n",
       "    }\n",
       "\n",
       "    .dataframe tbody tr th {\n",
       "        vertical-align: top;\n",
       "    }\n",
       "\n",
       "    .dataframe thead th {\n",
       "        text-align: right;\n",
       "    }\n",
       "</style>\n",
       "<table border=\"1\" class=\"dataframe\">\n",
       "  <thead>\n",
       "    <tr style=\"text-align: right;\">\n",
       "      <th></th>\n",
       "      <th>CVD</th>\n",
       "      <th>Smoking</th>\n",
       "      <th>Obesity</th>\n",
       "      <th>physical activity</th>\n",
       "      <th>Age</th>\n",
       "      <th>Gender</th>\n",
       "      <th>Stress</th>\n",
       "      <th>alcohol consumption</th>\n",
       "      <th>kidney disease</th>\n",
       "      <th>Sleep</th>\n",
       "      <th>Race</th>\n",
       "      <th>Education</th>\n",
       "      <th>Employment</th>\n",
       "      <th>socially isolated</th>\n",
       "    </tr>\n",
       "  </thead>\n",
       "  <tbody>\n",
       "    <tr>\n",
       "      <th>1</th>\n",
       "      <td>0.0</td>\n",
       "      <td>4.0</td>\n",
       "      <td>0.0</td>\n",
       "      <td>0.0</td>\n",
       "      <td>6.0</td>\n",
       "      <td>2.0</td>\n",
       "      <td>5.0</td>\n",
       "      <td>1.0</td>\n",
       "      <td>0.0</td>\n",
       "      <td>6.0</td>\n",
       "      <td>1.0</td>\n",
       "      <td>2.0</td>\n",
       "      <td>2.0</td>\n",
       "      <td>5.0</td>\n",
       "    </tr>\n",
       "    <tr>\n",
       "      <th>2</th>\n",
       "      <td>0.0</td>\n",
       "      <td>4.0</td>\n",
       "      <td>0.0</td>\n",
       "      <td>1.0</td>\n",
       "      <td>5.0</td>\n",
       "      <td>2.0</td>\n",
       "      <td>5.0</td>\n",
       "      <td>1.0</td>\n",
       "      <td>0.0</td>\n",
       "      <td>5.0</td>\n",
       "      <td>1.0</td>\n",
       "      <td>4.0</td>\n",
       "      <td>7.0</td>\n",
       "      <td>3.0</td>\n",
       "    </tr>\n",
       "    <tr>\n",
       "      <th>3</th>\n",
       "      <td>0.0</td>\n",
       "      <td>3.0</td>\n",
       "      <td>1.0</td>\n",
       "      <td>1.0</td>\n",
       "      <td>6.0</td>\n",
       "      <td>2.0</td>\n",
       "      <td>5.0</td>\n",
       "      <td>1.0</td>\n",
       "      <td>0.0</td>\n",
       "      <td>7.0</td>\n",
       "      <td>1.0</td>\n",
       "      <td>2.0</td>\n",
       "      <td>7.0</td>\n",
       "      <td>3.0</td>\n",
       "    </tr>\n",
       "    <tr>\n",
       "      <th>4</th>\n",
       "      <td>0.0</td>\n",
       "      <td>4.0</td>\n",
       "      <td>1.0</td>\n",
       "      <td>1.0</td>\n",
       "      <td>3.0</td>\n",
       "      <td>2.0</td>\n",
       "      <td>5.0</td>\n",
       "      <td>1.0</td>\n",
       "      <td>0.0</td>\n",
       "      <td>9.0</td>\n",
       "      <td>1.0</td>\n",
       "      <td>3.0</td>\n",
       "      <td>5.0</td>\n",
       "      <td>5.0</td>\n",
       "    </tr>\n",
       "    <tr>\n",
       "      <th>5</th>\n",
       "      <td>1.0</td>\n",
       "      <td>4.0</td>\n",
       "      <td>0.0</td>\n",
       "      <td>0.0</td>\n",
       "      <td>6.0</td>\n",
       "      <td>1.0</td>\n",
       "      <td>5.0</td>\n",
       "      <td>1.0</td>\n",
       "      <td>0.0</td>\n",
       "      <td>7.0</td>\n",
       "      <td>1.0</td>\n",
       "      <td>2.0</td>\n",
       "      <td>7.0</td>\n",
       "      <td>5.0</td>\n",
       "    </tr>\n",
       "  </tbody>\n",
       "</table>\n",
       "</div>"
      ],
      "text/plain": [
       "   CVD  Smoking  Obesity  physical activity  Age  Gender  Stress  \\\n",
       "1  0.0      4.0      0.0                0.0  6.0     2.0     5.0   \n",
       "2  0.0      4.0      0.0                1.0  5.0     2.0     5.0   \n",
       "3  0.0      3.0      1.0                1.0  6.0     2.0     5.0   \n",
       "4  0.0      4.0      1.0                1.0  3.0     2.0     5.0   \n",
       "5  1.0      4.0      0.0                0.0  6.0     1.0     5.0   \n",
       "\n",
       "   alcohol consumption  kidney disease  Sleep  Race  Education  Employment  \\\n",
       "1                  1.0             0.0    6.0   1.0        2.0         2.0   \n",
       "2                  1.0             0.0    5.0   1.0        4.0         7.0   \n",
       "3                  1.0             0.0    7.0   1.0        2.0         7.0   \n",
       "4                  1.0             0.0    9.0   1.0        3.0         5.0   \n",
       "5                  1.0             0.0    7.0   1.0        2.0         7.0   \n",
       "\n",
       "   socially isolated  \n",
       "1                5.0  \n",
       "2                3.0  \n",
       "3                3.0  \n",
       "4                5.0  \n",
       "5                5.0  "
      ]
     },
     "execution_count": 45,
     "metadata": {},
     "output_type": "execute_result"
    }
   ],
   "source": [
    "df.head()"
   ]
  },
  {
   "cell_type": "markdown",
   "metadata": {},
   "source": [
    "# Now lets Begin data scratching or MODELING!!!!!"
   ]
  },
  {
   "cell_type": "code",
   "execution_count": 46,
   "metadata": {},
   "outputs": [],
   "source": [
    "X = df.drop(['CVD',], axis=1)\n",
    "y = df['CVD']"
   ]
  },
  {
   "cell_type": "code",
   "execution_count": null,
   "metadata": {},
   "outputs": [],
   "source": []
  },
  {
   "cell_type": "code",
   "execution_count": 67,
   "metadata": {},
   "outputs": [
    {
     "data": {
      "text/plain": [
       "((148688, 13), (73235, 13))"
      ]
     },
     "execution_count": 67,
     "metadata": {},
     "output_type": "execute_result"
    }
   ],
   "source": [
    "from sklearn.model_selection import train_test_split\n",
    "\n",
    "X_train, X_test, y_train, y_test = train_test_split(X, y, test_size = 0.33, random_state = 42)\n",
    "X_train.shape, X_test.shape\n"
   ]
  },
  {
   "cell_type": "code",
   "execution_count": 68,
   "metadata": {},
   "outputs": [
    {
     "data": {
      "text/html": [
       "<div>\n",
       "<style scoped>\n",
       "    .dataframe tbody tr th:only-of-type {\n",
       "        vertical-align: middle;\n",
       "    }\n",
       "\n",
       "    .dataframe tbody tr th {\n",
       "        vertical-align: top;\n",
       "    }\n",
       "\n",
       "    .dataframe thead th {\n",
       "        text-align: right;\n",
       "    }\n",
       "</style>\n",
       "<table border=\"1\" class=\"dataframe\">\n",
       "  <thead>\n",
       "    <tr style=\"text-align: right;\">\n",
       "      <th></th>\n",
       "      <th>Smoking</th>\n",
       "      <th>Obesity</th>\n",
       "      <th>physical activity</th>\n",
       "      <th>Age</th>\n",
       "      <th>Gender</th>\n",
       "      <th>Stress</th>\n",
       "      <th>alcohol consumption</th>\n",
       "      <th>kidney disease</th>\n",
       "      <th>Sleep</th>\n",
       "      <th>Race</th>\n",
       "      <th>Education</th>\n",
       "      <th>Employment</th>\n",
       "      <th>socially isolated</th>\n",
       "    </tr>\n",
       "  </thead>\n",
       "  <tbody>\n",
       "    <tr>\n",
       "      <th>330013</th>\n",
       "      <td>4.0</td>\n",
       "      <td>0.0</td>\n",
       "      <td>1.0</td>\n",
       "      <td>3.0</td>\n",
       "      <td>2.0</td>\n",
       "      <td>5.0</td>\n",
       "      <td>1.0</td>\n",
       "      <td>0.0</td>\n",
       "      <td>6.0</td>\n",
       "      <td>1.0</td>\n",
       "      <td>2.0</td>\n",
       "      <td>1.0</td>\n",
       "      <td>5.0</td>\n",
       "    </tr>\n",
       "    <tr>\n",
       "      <th>59580</th>\n",
       "      <td>3.0</td>\n",
       "      <td>1.0</td>\n",
       "      <td>1.0</td>\n",
       "      <td>2.0</td>\n",
       "      <td>2.0</td>\n",
       "      <td>2.0</td>\n",
       "      <td>1.0</td>\n",
       "      <td>0.0</td>\n",
       "      <td>7.0</td>\n",
       "      <td>1.0</td>\n",
       "      <td>1.0</td>\n",
       "      <td>1.0</td>\n",
       "      <td>3.0</td>\n",
       "    </tr>\n",
       "    <tr>\n",
       "      <th>17033</th>\n",
       "      <td>1.0</td>\n",
       "      <td>1.0</td>\n",
       "      <td>1.0</td>\n",
       "      <td>4.0</td>\n",
       "      <td>2.0</td>\n",
       "      <td>1.0</td>\n",
       "      <td>0.0</td>\n",
       "      <td>0.0</td>\n",
       "      <td>5.0</td>\n",
       "      <td>1.0</td>\n",
       "      <td>2.0</td>\n",
       "      <td>3.0</td>\n",
       "      <td>1.0</td>\n",
       "    </tr>\n",
       "    <tr>\n",
       "      <th>358446</th>\n",
       "      <td>4.0</td>\n",
       "      <td>0.0</td>\n",
       "      <td>1.0</td>\n",
       "      <td>4.0</td>\n",
       "      <td>1.0</td>\n",
       "      <td>5.0</td>\n",
       "      <td>1.0</td>\n",
       "      <td>0.0</td>\n",
       "      <td>8.0</td>\n",
       "      <td>1.0</td>\n",
       "      <td>4.0</td>\n",
       "      <td>1.0</td>\n",
       "      <td>5.0</td>\n",
       "    </tr>\n",
       "    <tr>\n",
       "      <th>32789</th>\n",
       "      <td>4.0</td>\n",
       "      <td>0.0</td>\n",
       "      <td>1.0</td>\n",
       "      <td>6.0</td>\n",
       "      <td>1.0</td>\n",
       "      <td>5.0</td>\n",
       "      <td>1.0</td>\n",
       "      <td>0.0</td>\n",
       "      <td>7.0</td>\n",
       "      <td>1.0</td>\n",
       "      <td>4.0</td>\n",
       "      <td>7.0</td>\n",
       "      <td>3.0</td>\n",
       "    </tr>\n",
       "    <tr>\n",
       "      <th>...</th>\n",
       "      <td>...</td>\n",
       "      <td>...</td>\n",
       "      <td>...</td>\n",
       "      <td>...</td>\n",
       "      <td>...</td>\n",
       "      <td>...</td>\n",
       "      <td>...</td>\n",
       "      <td>...</td>\n",
       "      <td>...</td>\n",
       "      <td>...</td>\n",
       "      <td>...</td>\n",
       "      <td>...</td>\n",
       "      <td>...</td>\n",
       "    </tr>\n",
       "    <tr>\n",
       "      <th>224406</th>\n",
       "      <td>4.0</td>\n",
       "      <td>1.0</td>\n",
       "      <td>1.0</td>\n",
       "      <td>1.0</td>\n",
       "      <td>1.0</td>\n",
       "      <td>5.0</td>\n",
       "      <td>1.0</td>\n",
       "      <td>0.0</td>\n",
       "      <td>8.0</td>\n",
       "      <td>1.0</td>\n",
       "      <td>2.0</td>\n",
       "      <td>1.0</td>\n",
       "      <td>4.0</td>\n",
       "    </tr>\n",
       "    <tr>\n",
       "      <th>203592</th>\n",
       "      <td>3.0</td>\n",
       "      <td>0.0</td>\n",
       "      <td>0.0</td>\n",
       "      <td>3.0</td>\n",
       "      <td>1.0</td>\n",
       "      <td>3.0</td>\n",
       "      <td>1.0</td>\n",
       "      <td>0.0</td>\n",
       "      <td>7.0</td>\n",
       "      <td>1.0</td>\n",
       "      <td>3.0</td>\n",
       "      <td>1.0</td>\n",
       "      <td>3.0</td>\n",
       "    </tr>\n",
       "    <tr>\n",
       "      <th>248669</th>\n",
       "      <td>3.0</td>\n",
       "      <td>1.0</td>\n",
       "      <td>0.0</td>\n",
       "      <td>6.0</td>\n",
       "      <td>2.0</td>\n",
       "      <td>5.0</td>\n",
       "      <td>1.0</td>\n",
       "      <td>0.0</td>\n",
       "      <td>6.0</td>\n",
       "      <td>1.0</td>\n",
       "      <td>3.0</td>\n",
       "      <td>7.0</td>\n",
       "      <td>5.0</td>\n",
       "    </tr>\n",
       "    <tr>\n",
       "      <th>324313</th>\n",
       "      <td>3.0</td>\n",
       "      <td>0.0</td>\n",
       "      <td>0.0</td>\n",
       "      <td>6.0</td>\n",
       "      <td>2.0</td>\n",
       "      <td>4.0</td>\n",
       "      <td>1.0</td>\n",
       "      <td>0.0</td>\n",
       "      <td>8.0</td>\n",
       "      <td>1.0</td>\n",
       "      <td>3.0</td>\n",
       "      <td>7.0</td>\n",
       "      <td>4.0</td>\n",
       "    </tr>\n",
       "    <tr>\n",
       "      <th>226856</th>\n",
       "      <td>4.0</td>\n",
       "      <td>0.0</td>\n",
       "      <td>0.0</td>\n",
       "      <td>6.0</td>\n",
       "      <td>2.0</td>\n",
       "      <td>4.0</td>\n",
       "      <td>1.0</td>\n",
       "      <td>0.0</td>\n",
       "      <td>12.0</td>\n",
       "      <td>3.0</td>\n",
       "      <td>4.0</td>\n",
       "      <td>4.0</td>\n",
       "      <td>4.0</td>\n",
       "    </tr>\n",
       "  </tbody>\n",
       "</table>\n",
       "<p>148688 rows × 13 columns</p>\n",
       "</div>"
      ],
      "text/plain": [
       "        Smoking  Obesity  physical activity  Age  Gender  Stress  \\\n",
       "330013      4.0      0.0                1.0  3.0     2.0     5.0   \n",
       "59580       3.0      1.0                1.0  2.0     2.0     2.0   \n",
       "17033       1.0      1.0                1.0  4.0     2.0     1.0   \n",
       "358446      4.0      0.0                1.0  4.0     1.0     5.0   \n",
       "32789       4.0      0.0                1.0  6.0     1.0     5.0   \n",
       "...         ...      ...                ...  ...     ...     ...   \n",
       "224406      4.0      1.0                1.0  1.0     1.0     5.0   \n",
       "203592      3.0      0.0                0.0  3.0     1.0     3.0   \n",
       "248669      3.0      1.0                0.0  6.0     2.0     5.0   \n",
       "324313      3.0      0.0                0.0  6.0     2.0     4.0   \n",
       "226856      4.0      0.0                0.0  6.0     2.0     4.0   \n",
       "\n",
       "        alcohol consumption  kidney disease  Sleep  Race  Education  \\\n",
       "330013                  1.0             0.0    6.0   1.0        2.0   \n",
       "59580                   1.0             0.0    7.0   1.0        1.0   \n",
       "17033                   0.0             0.0    5.0   1.0        2.0   \n",
       "358446                  1.0             0.0    8.0   1.0        4.0   \n",
       "32789                   1.0             0.0    7.0   1.0        4.0   \n",
       "...                     ...             ...    ...   ...        ...   \n",
       "224406                  1.0             0.0    8.0   1.0        2.0   \n",
       "203592                  1.0             0.0    7.0   1.0        3.0   \n",
       "248669                  1.0             0.0    6.0   1.0        3.0   \n",
       "324313                  1.0             0.0    8.0   1.0        3.0   \n",
       "226856                  1.0             0.0   12.0   3.0        4.0   \n",
       "\n",
       "        Employment  socially isolated  \n",
       "330013         1.0                5.0  \n",
       "59580          1.0                3.0  \n",
       "17033          3.0                1.0  \n",
       "358446         1.0                5.0  \n",
       "32789          7.0                3.0  \n",
       "...            ...                ...  \n",
       "224406         1.0                4.0  \n",
       "203592         1.0                3.0  \n",
       "248669         7.0                5.0  \n",
       "324313         7.0                4.0  \n",
       "226856         4.0                4.0  \n",
       "\n",
       "[148688 rows x 13 columns]"
      ]
     },
     "execution_count": 68,
     "metadata": {},
     "output_type": "execute_result"
    }
   ],
   "source": [
    "X_train"
   ]
  },
  {
   "cell_type": "code",
   "execution_count": 104,
   "metadata": {},
   "outputs": [
    {
     "data": {
      "text/plain": [
       "0.0    140072\n",
       "1.0      8616\n",
       "Name: CVDINFR4, dtype: int64"
      ]
     },
     "execution_count": 104,
     "metadata": {},
     "output_type": "execute_result"
    }
   ],
   "source": [
    "y_train.value_counts()"
   ]
  },
  {
   "cell_type": "code",
   "execution_count": 105,
   "metadata": {},
   "outputs": [
    {
     "data": {
      "text/plain": [
       "0.0    68967\n",
       "1.0     4268\n",
       "Name: CVDINFR4, dtype: int64"
      ]
     },
     "execution_count": 105,
     "metadata": {},
     "output_type": "execute_result"
    }
   ],
   "source": [
    "y_test.value_counts()"
   ]
  },
  {
   "cell_type": "markdown",
   "metadata": {},
   "source": [
    "### First algorithm is Random Forest"
   ]
  },
  {
   "cell_type": "code",
   "execution_count": 82,
   "metadata": {},
   "outputs": [
    {
     "name": "stdout",
     "output_type": "stream",
     "text": [
      "Model accuracy score with 10 decision-trees : 0.9186\n"
     ]
    }
   ],
   "source": [
    "# import Random Forest classifier\n",
    "\n",
    "from sklearn.ensemble import RandomForestClassifier\n",
    "\n",
    "\n",
    "\n",
    "# instantiate the classifier \n",
    "\n",
    "rfc = RandomForestClassifier(random_state=0)\n",
    "\n",
    "\n",
    "\n",
    "# fit the model\n",
    "\n",
    "rfc.fit(X_train, y_train)\n",
    "\n",
    "\n",
    "\n",
    "# Predict the Test set results\n",
    "\n",
    "y_pred = rfc.predict(X_test)\n",
    "#y_pred = clf.predict(X_test)\n",
    "\n",
    "\n",
    "# Check accuracy score \n",
    "\n",
    "from sklearn.metrics import accuracy_score\n",
    "\n",
    "print('Model accuracy score with 10 decision-trees : {0:0.4f}'. format(accuracy_score(y_test, y_pred)))"
   ]
  },
  {
   "cell_type": "code",
   "execution_count": 83,
   "metadata": {},
   "outputs": [
    {
     "name": "stdout",
     "output_type": "stream",
     "text": [
      "F1-score: 0.92\n",
      "ROC-AUC: 0.98\n"
     ]
    }
   ],
   "source": [
    "from sklearn.metrics import f1_score, roc_auc_score\n",
    "\n",
    "# Evaluate the model using appropriate metrics\n",
    "y_pred = rfc.predict(X_test)\n",
    "f1 = f1_score(y_test, y_pred)\n",
    "roc_auc = roc_auc_score(y_test, rfc.predict_proba(X_test)[:, 1])\n",
    "\n",
    "print(f\"F1-score: {f1:.2f}\")\n",
    "print(f\"ROC-AUC: {roc_auc:.2f}\")"
   ]
  },
  {
   "cell_type": "code",
   "execution_count": null,
   "metadata": {},
   "outputs": [],
   "source": [
    "import numpy as np\n",
    "from sklearn.ensemble import RandomForestClassifier\n",
    "from sklearn.datasets import make_classification\n",
    "from sklearn.model_selection import cross_val_score\n",
    "\n",
    "\n",
    "# Perform 5-fold cross-validation\n",
    "scores = cross_val_score(rfc, X, y, cv=5, scoring='roc_auc')\n",
    "\n",
    "# Print the results\n",
    "print(f\"Accuracy scores: {scores}\")\n",
    "print(f\"Mean accuracy: {np.mean(scores):.2f}\")\n",
    "print(f\"Standard deviation: {np.std(scores):.2f}\")"
   ]
  },
  {
   "cell_type": "code",
   "execution_count": null,
   "metadata": {},
   "outputs": [],
   "source": [
    "import numpy as np\n",
    "from sklearn.ensemble import RandomForestClassifier\n",
    "from sklearn.datasets import make_classification\n",
    "from sklearn.model_selection import cross_val_score\n",
    "\n",
    "\n",
    "# Perform 5-fold cross-validation\n",
    "scores = cross_val_score(rfc, X, y, cv=5, scoring='f1')\n",
    "\n",
    "# Print the results\n",
    "print(f\"Accuracy scores: {scores}\")\n",
    "print(f\"Mean accuracy: {np.mean(scores):.2f}\")\n",
    "print(f\"Standard deviation: {np.std(scores):.2f}\")"
   ]
  },
  {
   "cell_type": "code",
   "execution_count": 107,
   "metadata": {},
   "outputs": [
    {
     "name": "stdout",
     "output_type": "stream",
     "text": [
      "Accuracy scores: [0.03026775 0.03647652 0.03492433 0.0314441  0.03220799]\n",
      "Mean accuracy: 0.03\n",
      "Standard deviation: 0.00\n"
     ]
    }
   ],
   "source": [
    "import numpy as np\n",
    "from sklearn.ensemble import RandomForestClassifier\n",
    "from sklearn.datasets import make_classification\n",
    "from sklearn.model_selection import cross_val_score\n",
    "\n",
    "\n",
    "# Perform 5-fold cross-validation\n",
    "scores = cross_val_score(rfc, X, y, cv=5, scoring='recall')\n",
    "\n",
    "# Print the results\n",
    "print(f\"Accuracy scores: {scores}\")\n",
    "print(f\"Mean accuracy: {np.mean(scores):.2f}\")\n",
    "print(f\"Standard deviation: {np.std(scores):.2f}\")"
   ]
  },
  {
   "cell_type": "code",
   "execution_count": 52,
   "metadata": {},
   "outputs": [
    {
     "name": "stdout",
     "output_type": "stream",
     "text": [
      "Accuracy scores: [0.15028902 0.16845878 0.20737327 0.16330645 0.15779468]\n",
      "Mean accuracy: 0.17\n",
      "Standard deviation: 0.02\n"
     ]
    }
   ],
   "source": [
    "import numpy as np\n",
    "from sklearn.ensemble import RandomForestClassifier\n",
    "from sklearn.datasets import make_classification\n",
    "from sklearn.model_selection import cross_val_score\n",
    "\n",
    "\n",
    "# Perform 5-fold cross-validation\n",
    "scores = cross_val_score(rfc, X, y, cv=5, scoring='precision')\n",
    "\n",
    "# Print the results\n",
    "print(f\"Accuracy scores: {scores}\")\n",
    "print(f\"Mean accuracy: {np.mean(scores):.2f}\")\n",
    "print(f\"Standard deviation: {np.std(scores):.2f}\")"
   ]
  },
  {
   "cell_type": "code",
   "execution_count": 84,
   "metadata": {},
   "outputs": [
    {
     "name": "stdout",
     "output_type": "stream",
     "text": [
      "Confusion matrix\n",
      "\n",
      " [[38144  3777]\n",
      " [ 3027 38668]]\n"
     ]
    }
   ],
   "source": [
    "# Print the Confusion Matrix and slice it into four pieces\n",
    "\n",
    "from sklearn.metrics import confusion_matrix\n",
    "\n",
    "cm = confusion_matrix(y_test, y_pred)\n",
    "\n",
    "print('Confusion matrix\\n\\n', cm)"
   ]
  },
  {
   "cell_type": "code",
   "execution_count": 85,
   "metadata": {},
   "outputs": [
    {
     "data": {
      "text/plain": [
       "RandomForestClassifier(random_state=0)"
      ]
     },
     "execution_count": 85,
     "metadata": {},
     "output_type": "execute_result"
    }
   ],
   "source": [
    "clf = RandomForestClassifier(random_state=0)\n",
    "\n",
    "\n",
    "\n",
    "# fit the model to the training set\n",
    "\n",
    "clf.fit(X_train, y_train)"
   ]
  },
  {
   "cell_type": "code",
   "execution_count": 86,
   "metadata": {},
   "outputs": [
    {
     "data": {
      "text/plain": [
       "_AGE_G      0.184587\n",
       "EMPLOY1     0.111538\n",
       "SLEPTIM1    0.092689\n",
       "_SMOKGRP    0.091880\n",
       "_SEX        0.091770\n",
       "_EDUCAG     0.077621\n",
       "SDHSTRE1    0.071339\n",
       "SDHISOLT    0.069282\n",
       "_TOTINDA    0.061887\n",
       "_RFBMI5     0.052960\n",
       "CHCKDNY2    0.037270\n",
       "_RACEPR1    0.032644\n",
       "_RFDRHV8    0.024532\n",
       "dtype: float64"
      ]
     },
     "execution_count": 86,
     "metadata": {},
     "output_type": "execute_result"
    }
   ],
   "source": [
    "# view the feature scores\n",
    "\n",
    "feature_scores = pd.Series(clf.feature_importances_, index=X_train.columns).sort_values(ascending=False)\n",
    "\n",
    "\n",
    "feature_scores"
   ]
  },
  {
   "cell_type": "code",
   "execution_count": 87,
   "metadata": {},
   "outputs": [
    {
     "data": {
      "image/png": "[encoded data removed]",
      "text/plain": [
       "<Figure size 432x288 with 1 Axes>"
      ]
     },
     "metadata": {
      "needs_background": "light"
     },
     "output_type": "display_data"
    }
   ],
   "source": [
    "# Creating a seaborn bar plot\n",
    "\n",
    "sns.barplot(x=feature_scores, y=feature_scores.index)\n",
    "\n",
    "\n",
    "\n",
    "# Add labels to the graph\n",
    "\n",
    "plt.xlabel('Feature Importance Score')\n",
    "\n",
    "plt.ylabel('Features')\n",
    "\n",
    "\n",
    "\n",
    "# Add title to the graph\n",
    "\n",
    "plt.title(\"Visualizing Important Features\")\n",
    "\n",
    "\n",
    "\n",
    "# Visualize the graph\n",
    "\n",
    "plt.show()"
   ]
  },
  {
   "cell_type": "code",
   "execution_count": 88,
   "metadata": {},
   "outputs": [
    {
     "name": "stdout",
     "output_type": "stream",
     "text": [
      "Confusion matrix\n",
      "\n",
      " [[38144  3777]\n",
      " [ 3027 38668]]\n"
     ]
    }
   ],
   "source": [
    "# Print the Confusion Matrix and slice it into four pieces\n",
    "\n",
    "from sklearn.metrics import confusion_matrix\n",
    "\n",
    "cm = confusion_matrix(y_test, y_pred)\n",
    "\n",
    "print('Confusion matrix\\n\\n', cm)\n"
   ]
  },
  {
   "cell_type": "code",
   "execution_count": 89,
   "metadata": {},
   "outputs": [],
   "source": [
    "import pandas as pd\n",
    "import numpy as np\n",
    "from sklearn.model_selection import train_test_split\n",
    "from sklearn.linear_model import LogisticRegression\n",
    "from sklearn import metrics\n",
    "import matplotlib.pyplot as plt"
   ]
  },
  {
   "cell_type": "code",
   "execution_count": 90,
   "metadata": {},
   "outputs": [
    {
     "data": {
      "image/png": "[encoded data removed]",
      "text/plain": [
       "<Figure size 432x288 with 1 Axes>"
      ]
     },
     "metadata": {
      "needs_background": "light"
     },
     "output_type": "display_data"
    }
   ],
   "source": [
    "#define metrics\n",
    "y_pred_proba = rfc.predict_proba(X_test)[::,1]\n",
    "fpr, tpr, _ = metrics.roc_curve(y_test,  y_pred_proba)\n",
    "auc = metrics.roc_auc_score(y_test, y_pred_proba)\n",
    "\n",
    "#create ROC curve\n",
    "plt.plot(fpr,tpr,label=\"AUC=\"+str(auc))\n",
    "plt.ylabel('True Positive Rate')\n",
    "plt.xlabel('False Positive Rate')\n",
    "plt.legend(loc=4)\n",
    "plt.show()"
   ]
  },
  {
   "cell_type": "code",
   "execution_count": 160,
   "metadata": {},
   "outputs": [
    {
     "name": "stdout",
     "output_type": "stream",
     "text": [
      "              precision    recall  f1-score   support\n",
      "\n",
      "         0.0       0.94      1.00      0.97     68967\n",
      "         1.0       0.00      0.00      0.00      4268\n",
      "\n",
      "    accuracy                           0.94     73235\n",
      "   macro avg       0.47      0.50      0.48     73235\n",
      "weighted avg       0.89      0.94      0.91     73235\n",
      "\n"
     ]
    },
    {
     "name": "stderr",
     "output_type": "stream",
     "text": [
      "/home/mi3/anaconda3/lib/python3.7/site-packages/sklearn/metrics/_classification.py:1272: UndefinedMetricWarning: Precision and F-score are ill-defined and being set to 0.0 in labels with no predicted samples. Use `zero_division` parameter to control this behavior.\n",
      "  _warn_prf(average, modifier, msg_start, len(result))\n"
     ]
    }
   ],
   "source": [
    "from sklearn.metrics import classification_report\n",
    "\n",
    "print(classification_report(y_test, y_pred))"
   ]
  },
  {
   "cell_type": "markdown",
   "metadata": {},
   "source": [
    "# After SMOTE"
   ]
  },
  {
   "cell_type": "code",
   "execution_count": 70,
   "metadata": {},
   "outputs": [],
   "source": [
    "from sklearn.datasets import make_classification\n",
    "from imblearn.over_sampling import SMOTE\n"
   ]
  },
  {
   "cell_type": "code",
   "execution_count": 71,
   "metadata": {},
   "outputs": [],
   "source": [
    "from sklearn.model_selection import train_test_split\n",
    "\n",
    "# Apply SMOTE to oversample the minority class\n",
    "smote = SMOTE(random_state=42)\n",
    "X_resampled, y_resampled = smote.fit_resample(X, y)\n",
    "\n",
    "# Split the resampled data into train and test sets\n",
    "X_train, X_test, y_train, y_test = train_test_split(X_resampled, y_resampled, test_size=0.2, random_state=42)"
   ]
  },
  {
   "cell_type": "code",
   "execution_count": 72,
   "metadata": {},
   "outputs": [
    {
     "data": {
      "text/plain": [
       "RandomForestClassifier(random_state=42)"
      ]
     },
     "execution_count": 72,
     "metadata": {},
     "output_type": "execute_result"
    }
   ],
   "source": [
    "# Use Balanced Random Forest to handle the imbalance\n",
    "model = RandomForestClassifier(n_estimators=100, random_state=42)\n",
    "model.fit(X_train, y_train)\n"
   ]
  },
  {
   "cell_type": "code",
   "execution_count": 73,
   "metadata": {},
   "outputs": [
    {
     "data": {
      "text/plain": [
       "Age                    0.192712\n",
       "Employment             0.105142\n",
       "Sleep                  0.093014\n",
       "Smoking                0.092298\n",
       "Gender                 0.090159\n",
       "Education              0.080359\n",
       "Stress                 0.071341\n",
       "socially isolated      0.068698\n",
       "physical activity      0.061571\n",
       "Obesity                0.050509\n",
       "kidney disease         0.038265\n",
       "Race                   0.031999\n",
       "alcohol consumption    0.023934\n",
       "dtype: float64"
      ]
     },
     "execution_count": 73,
     "metadata": {},
     "output_type": "execute_result"
    }
   ],
   "source": [
    "\n",
    "feature_scores = pd.Series(model.feature_importances_, index=X_train.columns).sort_values(ascending=False)\n",
    "\n",
    "\n",
    "feature_scores"
   ]
  },
  {
   "cell_type": "code",
   "execution_count": 74,
   "metadata": {},
   "outputs": [
    {
     "data": {
      "image/png": "[encoded data removed]",
      "text/plain": [
       "<Figure size 432x288 with 1 Axes>"
      ]
     },
     "metadata": {
      "needs_background": "light"
     },
     "output_type": "display_data"
    }
   ],
   "source": [
    "\n",
    "sns.barplot(x=feature_scores, y=feature_scores.index)\n",
    "\n",
    "\n",
    "\n",
    "# Add labels to the graph\n",
    "\n",
    "plt.xlabel('Feature Importance Score')\n",
    "\n",
    "plt.ylabel('Features')\n",
    "\n",
    "\n",
    "\n",
    "# Add title to the graph\n",
    "\n",
    "plt.title(\"Visualizing Important Features\")\n",
    "\n",
    "\n",
    "\n",
    "# Visualize the graph\n",
    "\n",
    "plt.show()"
   ]
  },
  {
   "cell_type": "code",
   "execution_count": 114,
   "metadata": {},
   "outputs": [
    {
     "name": "stdout",
     "output_type": "stream",
     "text": [
      "F1-score: 0.92\n",
      "ROC-AUC: 0.98\n"
     ]
    }
   ],
   "source": [
    "from sklearn.metrics import f1_score, roc_auc_score\n",
    "\n",
    "# Evaluate the model using appropriate metrics\n",
    "y_pred = model.predict(X_test)\n",
    "f1 = f1_score(y_test, y_pred)\n",
    "roc_auc = roc_auc_score(y_test, model.predict_proba(X_test)[:, 1])\n",
    "\n",
    "print(f\"F1-score: {f1:.2f}\")\n",
    "print(f\"ROC-AUC: {roc_auc:.2f}\")"
   ]
  },
  {
   "cell_type": "code",
   "execution_count": 104,
   "metadata": {},
   "outputs": [
    {
     "name": "stdout",
     "output_type": "stream",
     "text": [
      "Accuracy scores: [0.93566184 0.98767625 0.98840273 0.98877695 0.98768758]\n",
      "Mean accuracy: 0.98\n",
      "Standard deviation: 0.02\n"
     ]
    }
   ],
   "source": [
    "import numpy as np\n",
    "from sklearn.ensemble import RandomForestClassifier\n",
    "from sklearn.datasets import make_classification\n",
    "from sklearn.model_selection import cross_val_score\n",
    "\n",
    "\n",
    "# Perform 5-fold cross-validation\n",
    "scores = cross_val_score(model, X_resampled, y_resampled, cv=5, scoring='roc_auc')\n",
    "\n",
    "# Print the results\n",
    "print(f\"Accuracy scores: {scores}\")\n",
    "print(f\"Mean accuracy: {np.mean(scores):.2f}\")\n",
    "print(f\"Standard deviation: {np.std(scores):.2f}\")"
   ]
  },
  {
   "cell_type": "code",
   "execution_count": 118,
   "metadata": {},
   "outputs": [
    {
     "ename": "KeyboardInterrupt",
     "evalue": "",
     "output_type": "error",
     "traceback": [
      "\u001b[0;31m---------------------------------------------------------------------------\u001b[0m",
      "\u001b[0;31mKeyboardInterrupt\u001b[0m                         Traceback (most recent call last)",
      "\u001b[0;32m<ipython-input-118-c2d1e0859171>\u001b[0m in \u001b[0;36m<module>\u001b[0;34m\u001b[0m\n\u001b[1;32m      6\u001b[0m \u001b[0;34m\u001b[0m\u001b[0m\n\u001b[1;32m      7\u001b[0m \u001b[0;31m# Perform 5-fold cross-validation\u001b[0m\u001b[0;34m\u001b[0m\u001b[0;34m\u001b[0m\u001b[0;34m\u001b[0m\u001b[0m\n\u001b[0;32m----> 8\u001b[0;31m \u001b[0mscores\u001b[0m \u001b[0;34m=\u001b[0m \u001b[0mcross_val_score\u001b[0m\u001b[0;34m(\u001b[0m\u001b[0mrfc\u001b[0m\u001b[0;34m,\u001b[0m \u001b[0mX\u001b[0m\u001b[0;34m,\u001b[0m \u001b[0my\u001b[0m\u001b[0;34m,\u001b[0m \u001b[0mcv\u001b[0m\u001b[0;34m=\u001b[0m\u001b[0;36m5\u001b[0m\u001b[0;34m,\u001b[0m \u001b[0mscoring\u001b[0m\u001b[0;34m=\u001b[0m\u001b[0;34m'f1'\u001b[0m\u001b[0;34m)\u001b[0m\u001b[0;34m\u001b[0m\u001b[0;34m\u001b[0m\u001b[0m\n\u001b[0m\u001b[1;32m      9\u001b[0m \u001b[0;34m\u001b[0m\u001b[0m\n\u001b[1;32m     10\u001b[0m \u001b[0;31m# Print the results\u001b[0m\u001b[0;34m\u001b[0m\u001b[0;34m\u001b[0m\u001b[0;34m\u001b[0m\u001b[0m\n",
      "\u001b[0;32m~/anaconda3/lib/python3.7/site-packages/sklearn/model_selection/_validation.py\u001b[0m in \u001b[0;36mcross_val_score\u001b[0;34m(estimator, X, y, groups, scoring, cv, n_jobs, verbose, fit_params, pre_dispatch, error_score)\u001b[0m\n\u001b[1;32m    518\u001b[0m         \u001b[0mfit_params\u001b[0m\u001b[0;34m=\u001b[0m\u001b[0mfit_params\u001b[0m\u001b[0;34m,\u001b[0m\u001b[0;34m\u001b[0m\u001b[0;34m\u001b[0m\u001b[0m\n\u001b[1;32m    519\u001b[0m         \u001b[0mpre_dispatch\u001b[0m\u001b[0;34m=\u001b[0m\u001b[0mpre_dispatch\u001b[0m\u001b[0;34m,\u001b[0m\u001b[0;34m\u001b[0m\u001b[0;34m\u001b[0m\u001b[0m\n\u001b[0;32m--> 520\u001b[0;31m         \u001b[0merror_score\u001b[0m\u001b[0;34m=\u001b[0m\u001b[0merror_score\u001b[0m\u001b[0;34m,\u001b[0m\u001b[0;34m\u001b[0m\u001b[0;34m\u001b[0m\u001b[0m\n\u001b[0m\u001b[1;32m    521\u001b[0m     )\n\u001b[1;32m    522\u001b[0m     \u001b[0;32mreturn\u001b[0m \u001b[0mcv_results\u001b[0m\u001b[0;34m[\u001b[0m\u001b[0;34m\"test_score\"\u001b[0m\u001b[0;34m]\u001b[0m\u001b[0;34m\u001b[0m\u001b[0;34m\u001b[0m\u001b[0m\n",
      "\u001b[0;32m~/anaconda3/lib/python3.7/site-packages/sklearn/model_selection/_validation.py\u001b[0m in \u001b[0;36mcross_validate\u001b[0;34m(estimator, X, y, groups, scoring, cv, n_jobs, verbose, fit_params, pre_dispatch, return_train_score, return_estimator, error_score)\u001b[0m\n\u001b[1;32m    281\u001b[0m             \u001b[0merror_score\u001b[0m\u001b[0;34m=\u001b[0m\u001b[0merror_score\u001b[0m\u001b[0;34m,\u001b[0m\u001b[0;34m\u001b[0m\u001b[0;34m\u001b[0m\u001b[0m\n\u001b[1;32m    282\u001b[0m         )\n\u001b[0;32m--> 283\u001b[0;31m         \u001b[0;32mfor\u001b[0m \u001b[0mtrain\u001b[0m\u001b[0;34m,\u001b[0m \u001b[0mtest\u001b[0m \u001b[0;32min\u001b[0m \u001b[0mcv\u001b[0m\u001b[0;34m.\u001b[0m\u001b[0msplit\u001b[0m\u001b[0;34m(\u001b[0m\u001b[0mX\u001b[0m\u001b[0;34m,\u001b[0m \u001b[0my\u001b[0m\u001b[0;34m,\u001b[0m \u001b[0mgroups\u001b[0m\u001b[0;34m)\u001b[0m\u001b[0;34m\u001b[0m\u001b[0;34m\u001b[0m\u001b[0m\n\u001b[0m\u001b[1;32m    284\u001b[0m     )\n\u001b[1;32m    285\u001b[0m \u001b[0;34m\u001b[0m\u001b[0m\n",
      "\u001b[0;32m~/anaconda3/lib/python3.7/site-packages/joblib/parallel.py\u001b[0m in \u001b[0;36m__call__\u001b[0;34m(self, iterable)\u001b[0m\n\u001b[1;32m   1861\u001b[0m             \u001b[0moutput\u001b[0m \u001b[0;34m=\u001b[0m \u001b[0mself\u001b[0m\u001b[0;34m.\u001b[0m\u001b[0m_get_sequential_output\u001b[0m\u001b[0;34m(\u001b[0m\u001b[0miterable\u001b[0m\u001b[0;34m)\u001b[0m\u001b[0;34m\u001b[0m\u001b[0;34m\u001b[0m\u001b[0m\n\u001b[1;32m   1862\u001b[0m             \u001b[0mnext\u001b[0m\u001b[0;34m(\u001b[0m\u001b[0moutput\u001b[0m\u001b[0;34m)\u001b[0m\u001b[0;34m\u001b[0m\u001b[0;34m\u001b[0m\u001b[0m\n\u001b[0;32m-> 1863\u001b[0;31m             \u001b[0;32mreturn\u001b[0m \u001b[0moutput\u001b[0m \u001b[0;32mif\u001b[0m \u001b[0mself\u001b[0m\u001b[0;34m.\u001b[0m\u001b[0mreturn_generator\u001b[0m \u001b[0;32melse\u001b[0m \u001b[0mlist\u001b[0m\u001b[0;34m(\u001b[0m\u001b[0moutput\u001b[0m\u001b[0;34m)\u001b[0m\u001b[0;34m\u001b[0m\u001b[0;34m\u001b[0m\u001b[0m\n\u001b[0m\u001b[1;32m   1864\u001b[0m \u001b[0;34m\u001b[0m\u001b[0m\n\u001b[1;32m   1865\u001b[0m         \u001b[0;31m# Let's create an ID that uniquely identifies the current call. If the\u001b[0m\u001b[0;34m\u001b[0m\u001b[0;34m\u001b[0m\u001b[0;34m\u001b[0m\u001b[0m\n",
      "\u001b[0;32m~/anaconda3/lib/python3.7/site-packages/joblib/parallel.py\u001b[0m in \u001b[0;36m_get_sequential_output\u001b[0;34m(self, iterable)\u001b[0m\n\u001b[1;32m   1790\u001b[0m                 \u001b[0mself\u001b[0m\u001b[0;34m.\u001b[0m\u001b[0mn_dispatched_batches\u001b[0m \u001b[0;34m+=\u001b[0m \u001b[0;36m1\u001b[0m\u001b[0;34m\u001b[0m\u001b[0;34m\u001b[0m\u001b[0m\n\u001b[1;32m   1791\u001b[0m                 \u001b[0mself\u001b[0m\u001b[0;34m.\u001b[0m\u001b[0mn_dispatched_tasks\u001b[0m \u001b[0;34m+=\u001b[0m \u001b[0;36m1\u001b[0m\u001b[0;34m\u001b[0m\u001b[0;34m\u001b[0m\u001b[0m\n\u001b[0;32m-> 1792\u001b[0;31m                 \u001b[0mres\u001b[0m \u001b[0;34m=\u001b[0m \u001b[0mfunc\u001b[0m\u001b[0;34m(\u001b[0m\u001b[0;34m*\u001b[0m\u001b[0margs\u001b[0m\u001b[0;34m,\u001b[0m \u001b[0;34m**\u001b[0m\u001b[0mkwargs\u001b[0m\u001b[0;34m)\u001b[0m\u001b[0;34m\u001b[0m\u001b[0;34m\u001b[0m\u001b[0m\n\u001b[0m\u001b[1;32m   1793\u001b[0m                 \u001b[0mself\u001b[0m\u001b[0;34m.\u001b[0m\u001b[0mn_completed_tasks\u001b[0m \u001b[0;34m+=\u001b[0m \u001b[0;36m1\u001b[0m\u001b[0;34m\u001b[0m\u001b[0;34m\u001b[0m\u001b[0m\n\u001b[1;32m   1794\u001b[0m                 \u001b[0mself\u001b[0m\u001b[0;34m.\u001b[0m\u001b[0mprint_progress\u001b[0m\u001b[0;34m(\u001b[0m\u001b[0;34m)\u001b[0m\u001b[0;34m\u001b[0m\u001b[0;34m\u001b[0m\u001b[0m\n",
      "\u001b[0;32m~/anaconda3/lib/python3.7/site-packages/sklearn/utils/fixes.py\u001b[0m in \u001b[0;36m__call__\u001b[0;34m(self, *args, **kwargs)\u001b[0m\n\u001b[1;32m    214\u001b[0m     \u001b[0;32mdef\u001b[0m \u001b[0m__call__\u001b[0m\u001b[0;34m(\u001b[0m\u001b[0mself\u001b[0m\u001b[0;34m,\u001b[0m \u001b[0;34m*\u001b[0m\u001b[0margs\u001b[0m\u001b[0;34m,\u001b[0m \u001b[0;34m**\u001b[0m\u001b[0mkwargs\u001b[0m\u001b[0;34m)\u001b[0m\u001b[0;34m:\u001b[0m\u001b[0;34m\u001b[0m\u001b[0;34m\u001b[0m\u001b[0m\n\u001b[1;32m    215\u001b[0m         \u001b[0;32mwith\u001b[0m \u001b[0mconfig_context\u001b[0m\u001b[0;34m(\u001b[0m\u001b[0;34m**\u001b[0m\u001b[0mself\u001b[0m\u001b[0;34m.\u001b[0m\u001b[0mconfig\u001b[0m\u001b[0;34m)\u001b[0m\u001b[0;34m:\u001b[0m\u001b[0;34m\u001b[0m\u001b[0;34m\u001b[0m\u001b[0m\n\u001b[0;32m--> 216\u001b[0;31m             \u001b[0;32mreturn\u001b[0m \u001b[0mself\u001b[0m\u001b[0;34m.\u001b[0m\u001b[0mfunction\u001b[0m\u001b[0;34m(\u001b[0m\u001b[0;34m*\u001b[0m\u001b[0margs\u001b[0m\u001b[0;34m,\u001b[0m \u001b[0;34m**\u001b[0m\u001b[0mkwargs\u001b[0m\u001b[0;34m)\u001b[0m\u001b[0;34m\u001b[0m\u001b[0;34m\u001b[0m\u001b[0m\n\u001b[0m\u001b[1;32m    217\u001b[0m \u001b[0;34m\u001b[0m\u001b[0m\n\u001b[1;32m    218\u001b[0m \u001b[0;34m\u001b[0m\u001b[0m\n",
      "\u001b[0;32m~/anaconda3/lib/python3.7/site-packages/sklearn/model_selection/_validation.py\u001b[0m in \u001b[0;36m_fit_and_score\u001b[0;34m(estimator, X, y, scorer, train, test, verbose, parameters, fit_params, return_train_score, return_parameters, return_n_test_samples, return_times, return_estimator, split_progress, candidate_progress, error_score)\u001b[0m\n\u001b[1;32m    678\u001b[0m             \u001b[0mestimator\u001b[0m\u001b[0;34m.\u001b[0m\u001b[0mfit\u001b[0m\u001b[0;34m(\u001b[0m\u001b[0mX_train\u001b[0m\u001b[0;34m,\u001b[0m \u001b[0;34m**\u001b[0m\u001b[0mfit_params\u001b[0m\u001b[0;34m)\u001b[0m\u001b[0;34m\u001b[0m\u001b[0;34m\u001b[0m\u001b[0m\n\u001b[1;32m    679\u001b[0m         \u001b[0;32melse\u001b[0m\u001b[0;34m:\u001b[0m\u001b[0;34m\u001b[0m\u001b[0;34m\u001b[0m\u001b[0m\n\u001b[0;32m--> 680\u001b[0;31m             \u001b[0mestimator\u001b[0m\u001b[0;34m.\u001b[0m\u001b[0mfit\u001b[0m\u001b[0;34m(\u001b[0m\u001b[0mX_train\u001b[0m\u001b[0;34m,\u001b[0m \u001b[0my_train\u001b[0m\u001b[0;34m,\u001b[0m \u001b[0;34m**\u001b[0m\u001b[0mfit_params\u001b[0m\u001b[0;34m)\u001b[0m\u001b[0;34m\u001b[0m\u001b[0;34m\u001b[0m\u001b[0m\n\u001b[0m\u001b[1;32m    681\u001b[0m \u001b[0;34m\u001b[0m\u001b[0m\n\u001b[1;32m    682\u001b[0m     \u001b[0;32mexcept\u001b[0m \u001b[0mException\u001b[0m\u001b[0;34m:\u001b[0m\u001b[0;34m\u001b[0m\u001b[0;34m\u001b[0m\u001b[0m\n",
      "\u001b[0;32m~/anaconda3/lib/python3.7/site-packages/sklearn/ensemble/_forest.py\u001b[0m in \u001b[0;36mfit\u001b[0;34m(self, X, y, sample_weight)\u001b[0m\n\u001b[1;32m    465\u001b[0m                     \u001b[0mn_samples_bootstrap\u001b[0m\u001b[0;34m=\u001b[0m\u001b[0mn_samples_bootstrap\u001b[0m\u001b[0;34m,\u001b[0m\u001b[0;34m\u001b[0m\u001b[0;34m\u001b[0m\u001b[0m\n\u001b[1;32m    466\u001b[0m                 )\n\u001b[0;32m--> 467\u001b[0;31m                 \u001b[0;32mfor\u001b[0m \u001b[0mi\u001b[0m\u001b[0;34m,\u001b[0m \u001b[0mt\u001b[0m \u001b[0;32min\u001b[0m \u001b[0menumerate\u001b[0m\u001b[0;34m(\u001b[0m\u001b[0mtrees\u001b[0m\u001b[0;34m)\u001b[0m\u001b[0;34m\u001b[0m\u001b[0;34m\u001b[0m\u001b[0m\n\u001b[0m\u001b[1;32m    468\u001b[0m             )\n\u001b[1;32m    469\u001b[0m \u001b[0;34m\u001b[0m\u001b[0m\n",
      "\u001b[0;32m~/anaconda3/lib/python3.7/site-packages/joblib/parallel.py\u001b[0m in \u001b[0;36m__call__\u001b[0;34m(self, iterable)\u001b[0m\n\u001b[1;32m   1861\u001b[0m             \u001b[0moutput\u001b[0m \u001b[0;34m=\u001b[0m \u001b[0mself\u001b[0m\u001b[0;34m.\u001b[0m\u001b[0m_get_sequential_output\u001b[0m\u001b[0;34m(\u001b[0m\u001b[0miterable\u001b[0m\u001b[0;34m)\u001b[0m\u001b[0;34m\u001b[0m\u001b[0;34m\u001b[0m\u001b[0m\n\u001b[1;32m   1862\u001b[0m             \u001b[0mnext\u001b[0m\u001b[0;34m(\u001b[0m\u001b[0moutput\u001b[0m\u001b[0;34m)\u001b[0m\u001b[0;34m\u001b[0m\u001b[0;34m\u001b[0m\u001b[0m\n\u001b[0;32m-> 1863\u001b[0;31m             \u001b[0;32mreturn\u001b[0m \u001b[0moutput\u001b[0m \u001b[0;32mif\u001b[0m \u001b[0mself\u001b[0m\u001b[0;34m.\u001b[0m\u001b[0mreturn_generator\u001b[0m \u001b[0;32melse\u001b[0m \u001b[0mlist\u001b[0m\u001b[0;34m(\u001b[0m\u001b[0moutput\u001b[0m\u001b[0;34m)\u001b[0m\u001b[0;34m\u001b[0m\u001b[0;34m\u001b[0m\u001b[0m\n\u001b[0m\u001b[1;32m   1864\u001b[0m \u001b[0;34m\u001b[0m\u001b[0m\n\u001b[1;32m   1865\u001b[0m         \u001b[0;31m# Let's create an ID that uniquely identifies the current call. If the\u001b[0m\u001b[0;34m\u001b[0m\u001b[0;34m\u001b[0m\u001b[0;34m\u001b[0m\u001b[0m\n",
      "\u001b[0;32m~/anaconda3/lib/python3.7/site-packages/joblib/parallel.py\u001b[0m in \u001b[0;36m_get_sequential_output\u001b[0;34m(self, iterable)\u001b[0m\n\u001b[1;32m   1790\u001b[0m                 \u001b[0mself\u001b[0m\u001b[0;34m.\u001b[0m\u001b[0mn_dispatched_batches\u001b[0m \u001b[0;34m+=\u001b[0m \u001b[0;36m1\u001b[0m\u001b[0;34m\u001b[0m\u001b[0;34m\u001b[0m\u001b[0m\n\u001b[1;32m   1791\u001b[0m                 \u001b[0mself\u001b[0m\u001b[0;34m.\u001b[0m\u001b[0mn_dispatched_tasks\u001b[0m \u001b[0;34m+=\u001b[0m \u001b[0;36m1\u001b[0m\u001b[0;34m\u001b[0m\u001b[0;34m\u001b[0m\u001b[0m\n\u001b[0;32m-> 1792\u001b[0;31m                 \u001b[0mres\u001b[0m \u001b[0;34m=\u001b[0m \u001b[0mfunc\u001b[0m\u001b[0;34m(\u001b[0m\u001b[0;34m*\u001b[0m\u001b[0margs\u001b[0m\u001b[0;34m,\u001b[0m \u001b[0;34m**\u001b[0m\u001b[0mkwargs\u001b[0m\u001b[0;34m)\u001b[0m\u001b[0;34m\u001b[0m\u001b[0;34m\u001b[0m\u001b[0m\n\u001b[0m\u001b[1;32m   1793\u001b[0m                 \u001b[0mself\u001b[0m\u001b[0;34m.\u001b[0m\u001b[0mn_completed_tasks\u001b[0m \u001b[0;34m+=\u001b[0m \u001b[0;36m1\u001b[0m\u001b[0;34m\u001b[0m\u001b[0;34m\u001b[0m\u001b[0m\n\u001b[1;32m   1794\u001b[0m                 \u001b[0mself\u001b[0m\u001b[0;34m.\u001b[0m\u001b[0mprint_progress\u001b[0m\u001b[0;34m(\u001b[0m\u001b[0;34m)\u001b[0m\u001b[0;34m\u001b[0m\u001b[0;34m\u001b[0m\u001b[0m\n",
      "\u001b[0;32m~/anaconda3/lib/python3.7/site-packages/sklearn/utils/fixes.py\u001b[0m in \u001b[0;36m__call__\u001b[0;34m(self, *args, **kwargs)\u001b[0m\n\u001b[1;32m    214\u001b[0m     \u001b[0;32mdef\u001b[0m \u001b[0m__call__\u001b[0m\u001b[0;34m(\u001b[0m\u001b[0mself\u001b[0m\u001b[0;34m,\u001b[0m \u001b[0;34m*\u001b[0m\u001b[0margs\u001b[0m\u001b[0;34m,\u001b[0m \u001b[0;34m**\u001b[0m\u001b[0mkwargs\u001b[0m\u001b[0;34m)\u001b[0m\u001b[0;34m:\u001b[0m\u001b[0;34m\u001b[0m\u001b[0;34m\u001b[0m\u001b[0m\n\u001b[1;32m    215\u001b[0m         \u001b[0;32mwith\u001b[0m \u001b[0mconfig_context\u001b[0m\u001b[0;34m(\u001b[0m\u001b[0;34m**\u001b[0m\u001b[0mself\u001b[0m\u001b[0;34m.\u001b[0m\u001b[0mconfig\u001b[0m\u001b[0;34m)\u001b[0m\u001b[0;34m:\u001b[0m\u001b[0;34m\u001b[0m\u001b[0;34m\u001b[0m\u001b[0m\n\u001b[0;32m--> 216\u001b[0;31m             \u001b[0;32mreturn\u001b[0m \u001b[0mself\u001b[0m\u001b[0;34m.\u001b[0m\u001b[0mfunction\u001b[0m\u001b[0;34m(\u001b[0m\u001b[0;34m*\u001b[0m\u001b[0margs\u001b[0m\u001b[0;34m,\u001b[0m \u001b[0;34m**\u001b[0m\u001b[0mkwargs\u001b[0m\u001b[0;34m)\u001b[0m\u001b[0;34m\u001b[0m\u001b[0;34m\u001b[0m\u001b[0m\n\u001b[0m\u001b[1;32m    217\u001b[0m \u001b[0;34m\u001b[0m\u001b[0m\n\u001b[1;32m    218\u001b[0m \u001b[0;34m\u001b[0m\u001b[0m\n",
      "\u001b[0;32m~/anaconda3/lib/python3.7/site-packages/sklearn/ensemble/_forest.py\u001b[0m in \u001b[0;36m_parallel_build_trees\u001b[0;34m(tree, forest, X, y, sample_weight, tree_idx, n_trees, verbose, class_weight, n_samples_bootstrap)\u001b[0m\n\u001b[1;32m    183\u001b[0m             \u001b[0mcurr_sample_weight\u001b[0m \u001b[0;34m*=\u001b[0m \u001b[0mcompute_sample_weight\u001b[0m\u001b[0;34m(\u001b[0m\u001b[0;34m\"balanced\"\u001b[0m\u001b[0;34m,\u001b[0m \u001b[0my\u001b[0m\u001b[0;34m,\u001b[0m \u001b[0mindices\u001b[0m\u001b[0;34m=\u001b[0m\u001b[0mindices\u001b[0m\u001b[0;34m)\u001b[0m\u001b[0;34m\u001b[0m\u001b[0;34m\u001b[0m\u001b[0m\n\u001b[1;32m    184\u001b[0m \u001b[0;34m\u001b[0m\u001b[0m\n\u001b[0;32m--> 185\u001b[0;31m         \u001b[0mtree\u001b[0m\u001b[0;34m.\u001b[0m\u001b[0mfit\u001b[0m\u001b[0;34m(\u001b[0m\u001b[0mX\u001b[0m\u001b[0;34m,\u001b[0m \u001b[0my\u001b[0m\u001b[0;34m,\u001b[0m \u001b[0msample_weight\u001b[0m\u001b[0;34m=\u001b[0m\u001b[0mcurr_sample_weight\u001b[0m\u001b[0;34m,\u001b[0m \u001b[0mcheck_input\u001b[0m\u001b[0;34m=\u001b[0m\u001b[0;32mFalse\u001b[0m\u001b[0;34m)\u001b[0m\u001b[0;34m\u001b[0m\u001b[0;34m\u001b[0m\u001b[0m\n\u001b[0m\u001b[1;32m    186\u001b[0m     \u001b[0;32melse\u001b[0m\u001b[0;34m:\u001b[0m\u001b[0;34m\u001b[0m\u001b[0;34m\u001b[0m\u001b[0m\n\u001b[1;32m    187\u001b[0m         \u001b[0mtree\u001b[0m\u001b[0;34m.\u001b[0m\u001b[0mfit\u001b[0m\u001b[0;34m(\u001b[0m\u001b[0mX\u001b[0m\u001b[0;34m,\u001b[0m \u001b[0my\u001b[0m\u001b[0;34m,\u001b[0m \u001b[0msample_weight\u001b[0m\u001b[0;34m=\u001b[0m\u001b[0msample_weight\u001b[0m\u001b[0;34m,\u001b[0m \u001b[0mcheck_input\u001b[0m\u001b[0;34m=\u001b[0m\u001b[0;32mFalse\u001b[0m\u001b[0;34m)\u001b[0m\u001b[0;34m\u001b[0m\u001b[0;34m\u001b[0m\u001b[0m\n",
      "\u001b[0;32m~/anaconda3/lib/python3.7/site-packages/sklearn/tree/_classes.py\u001b[0m in \u001b[0;36mfit\u001b[0;34m(self, X, y, sample_weight, check_input, X_idx_sorted)\u001b[0m\n\u001b[1;32m    940\u001b[0m             \u001b[0msample_weight\u001b[0m\u001b[0;34m=\u001b[0m\u001b[0msample_weight\u001b[0m\u001b[0;34m,\u001b[0m\u001b[0;34m\u001b[0m\u001b[0;34m\u001b[0m\u001b[0m\n\u001b[1;32m    941\u001b[0m             \u001b[0mcheck_input\u001b[0m\u001b[0;34m=\u001b[0m\u001b[0mcheck_input\u001b[0m\u001b[0;34m,\u001b[0m\u001b[0;34m\u001b[0m\u001b[0;34m\u001b[0m\u001b[0m\n\u001b[0;32m--> 942\u001b[0;31m             \u001b[0mX_idx_sorted\u001b[0m\u001b[0;34m=\u001b[0m\u001b[0mX_idx_sorted\u001b[0m\u001b[0;34m,\u001b[0m\u001b[0;34m\u001b[0m\u001b[0;34m\u001b[0m\u001b[0m\n\u001b[0m\u001b[1;32m    943\u001b[0m         )\n\u001b[1;32m    944\u001b[0m         \u001b[0;32mreturn\u001b[0m \u001b[0mself\u001b[0m\u001b[0;34m\u001b[0m\u001b[0;34m\u001b[0m\u001b[0m\n",
      "\u001b[0;32m~/anaconda3/lib/python3.7/site-packages/sklearn/tree/_classes.py\u001b[0m in \u001b[0;36mfit\u001b[0;34m(self, X, y, sample_weight, check_input, X_idx_sorted)\u001b[0m\n\u001b[1;32m    418\u001b[0m             )\n\u001b[1;32m    419\u001b[0m \u001b[0;34m\u001b[0m\u001b[0m\n\u001b[0;32m--> 420\u001b[0;31m         \u001b[0mbuilder\u001b[0m\u001b[0;34m.\u001b[0m\u001b[0mbuild\u001b[0m\u001b[0;34m(\u001b[0m\u001b[0mself\u001b[0m\u001b[0;34m.\u001b[0m\u001b[0mtree_\u001b[0m\u001b[0;34m,\u001b[0m \u001b[0mX\u001b[0m\u001b[0;34m,\u001b[0m \u001b[0my\u001b[0m\u001b[0;34m,\u001b[0m \u001b[0msample_weight\u001b[0m\u001b[0;34m)\u001b[0m\u001b[0;34m\u001b[0m\u001b[0;34m\u001b[0m\u001b[0m\n\u001b[0m\u001b[1;32m    421\u001b[0m \u001b[0;34m\u001b[0m\u001b[0m\n\u001b[1;32m    422\u001b[0m         \u001b[0;32mif\u001b[0m \u001b[0mself\u001b[0m\u001b[0;34m.\u001b[0m\u001b[0mn_outputs_\u001b[0m \u001b[0;34m==\u001b[0m \u001b[0;36m1\u001b[0m \u001b[0;32mand\u001b[0m \u001b[0mis_classifier\u001b[0m\u001b[0;34m(\u001b[0m\u001b[0mself\u001b[0m\u001b[0;34m)\u001b[0m\u001b[0;34m:\u001b[0m\u001b[0;34m\u001b[0m\u001b[0;34m\u001b[0m\u001b[0m\n",
      "\u001b[0;31mKeyboardInterrupt\u001b[0m: "
     ]
    }
   ],
   "source": [
    "import numpy as np\n",
    "from sklearn.ensemble import RandomForestClassifier\n",
    "from sklearn.datasets import make_classification\n",
    "from sklearn.model_selection import cross_val_score\n",
    "\n",
    "\n",
    "# Perform 5-fold cross-validation\n",
    "scores = cross_val_score(rfc, X, y, cv=5, scoring='f1')\n",
    "\n",
    "# Print the results\n",
    "print(f\"Accuracy scores: {scores}\")\n",
    "print(f\"Mean accuracy: {np.mean(scores):.2f}\")\n",
    "print(f\"Standard deviation: {np.std(scores):.2f}\")"
   ]
  },
  {
   "cell_type": "code",
   "execution_count": null,
   "metadata": {},
   "outputs": [],
   "source": [
    "import numpy as np\n",
    "from sklearn.ensemble import RandomForestClassifier\n",
    "from sklearn.datasets import make_classification\n",
    "from sklearn.model_selection import cross_val_score\n",
    "\n",
    "\n",
    "# Perform 5-fold cross-validation\n",
    "scores = cross_val_score(rfc, X, y, cv=5, scoring='recall')\n",
    "\n",
    "# Print the results\n",
    "print(f\"Accuracy scores: {scores}\")\n",
    "print(f\"Mean accuracy: {np.mean(scores):.2f}\")\n",
    "print(f\"Standard deviation: {np.std(scores):.2f}\")"
   ]
  },
  {
   "cell_type": "code",
   "execution_count": 99,
   "metadata": {},
   "outputs": [
    {
     "name": "stdout",
     "output_type": "stream",
     "text": [
      "Confusion matrix\n",
      "\n",
      " [[38119  3802]\n",
      " [ 3021 38674]]\n"
     ]
    }
   ],
   "source": [
    "# Print the Confusion Matrix and slice it into four pieces\n",
    "\n",
    "from sklearn.metrics import confusion_matrix\n",
    "\n",
    "cm = confusion_matrix(y_test, y_pred)\n",
    "\n",
    "print('Confusion matrix\\n\\n', cm)"
   ]
  },
  {
   "cell_type": "code",
   "execution_count": 102,
   "metadata": {},
   "outputs": [
    {
     "data": {
      "image/png": "[encoded data removed]",
      "text/plain": [
       "<Figure size 432x288 with 1 Axes>"
      ]
     },
     "metadata": {
      "needs_background": "light"
     },
     "output_type": "display_data"
    }
   ],
   "source": [
    "#define metrics\n",
    "y_pred_proba = model.predict_proba(X_test)[::,1]\n",
    "fpr, tpr, _ = metrics.roc_curve(y_test,  y_pred_proba)\n",
    "auc = metrics.roc_auc_score(y_test, y_pred_proba)\n",
    "\n",
    "#create ROC curve\n",
    "plt.plot(fpr,tpr,label=\"AUC=\"+str(auc))\n",
    "plt.ylabel('True Positive Rate')\n",
    "plt.xlabel('False Positive Rate')\n",
    "plt.legend(loc=4)\n",
    "plt.show()"
   ]
  },
  {
   "cell_type": "code",
   "execution_count": 115,
   "metadata": {},
   "outputs": [
    {
     "name": "stdout",
     "output_type": "stream",
     "text": [
      "              precision    recall  f1-score   support\n",
      "\n",
      "         0.0       0.93      0.91      0.92     41921\n",
      "         1.0       0.91      0.93      0.92     41695\n",
      "\n",
      "    accuracy                           0.92     83616\n",
      "   macro avg       0.92      0.92      0.92     83616\n",
      "weighted avg       0.92      0.92      0.92     83616\n",
      "\n"
     ]
    }
   ],
   "source": [
    "from sklearn.metrics import classification_report\n",
    "\n",
    "print(classification_report(y_test, y_pred))"
   ]
  },
  {
   "cell_type": "code",
   "execution_count": null,
   "metadata": {},
   "outputs": [],
   "source": []
  },
  {
   "cell_type": "markdown",
   "metadata": {},
   "source": [
    "## Checking Overfitting\n"
   ]
  },
  {
   "cell_type": "code",
   "execution_count": 117,
   "metadata": {},
   "outputs": [
    {
     "name": "stdout",
     "output_type": "stream",
     "text": [
      "Train Accuracy: 0.94\n",
      "Test Accuracy: 0.92\n"
     ]
    }
   ],
   "source": [
    "train_score = model.score(X_train, y_train)\n",
    "test_score = model.score(X_test, y_test)\n",
    "\n",
    "print(f\"Train Accuracy: {train_score:.2f}\")\n",
    "print(f\"Test Accuracy: {test_score:.2f}\")"
   ]
  },
  {
   "cell_type": "markdown",
   "metadata": {},
   "source": [
    "AS you see there is no overfitting!\n",
    "\n",
    "----------------------------------------------"
   ]
  },
  {
   "cell_type": "markdown",
   "metadata": {},
   "source": [
    "# DEscion tree"
   ]
  },
  {
   "cell_type": "code",
   "execution_count": 52,
   "metadata": {},
   "outputs": [],
   "source": [
    "from sklearn.tree import DecisionTreeClassifier\n"
   ]
  },
  {
   "cell_type": "code",
   "execution_count": 55,
   "metadata": {},
   "outputs": [],
   "source": [
    "# instantiate the DecisionTreeClassifier model with criterion gini index\n",
    "\n",
    "clf_gini = DecisionTreeClassifier(criterion='gini', max_depth=3, random_state=0)\n",
    "\n",
    "\n",
    "# fit the model\n",
    "clf_gini.fit(X_train, y_train)\n",
    "y_pred_gini = clf_gini.predict(X_test)\n"
   ]
  },
  {
   "cell_type": "code",
   "execution_count": 56,
   "metadata": {},
   "outputs": [
    {
     "name": "stdout",
     "output_type": "stream",
     "text": [
      "Confusion matrix\n",
      "\n",
      " [[68967     0]\n",
      " [ 4268     0]]\n"
     ]
    }
   ],
   "source": [
    "# Print the Confusion Matrix and slice it into four pieces\n",
    "\n",
    "from sklearn.metrics import confusion_matrix\n",
    "\n",
    "cm = confusion_matrix(y_test, y_pred_gini)\n",
    "\n",
    "print('Confusion matrix\\n\\n', cm)"
   ]
  },
  {
   "cell_type": "code",
   "execution_count": 57,
   "metadata": {},
   "outputs": [
    {
     "name": "stdout",
     "output_type": "stream",
     "text": [
      "Accuracy scores: [0.7412709  0.7577708  0.76906457 0.75130099 0.74849727]\n",
      "Mean accuracy: 0.75\n",
      "Standard deviation: 0.01\n"
     ]
    }
   ],
   "source": [
    "import numpy as np\n",
    "from sklearn.ensemble import RandomForestClassifier\n",
    "from sklearn.datasets import make_classification\n",
    "from sklearn.model_selection import cross_val_score\n",
    "\n",
    "\n",
    "# Perform 5-fold cross-validation\n",
    "scores = cross_val_score(clf_gini, X, y, cv=5, scoring='roc_auc')\n",
    "\n",
    "# Print the results\n",
    "print(f\"Accuracy scores: {scores}\")\n",
    "print(f\"Mean accuracy: {np.mean(scores):.2f}\")\n",
    "print(f\"Standard deviation: {np.std(scores):.2f}\")"
   ]
  },
  {
   "cell_type": "code",
   "execution_count": 59,
   "metadata": {},
   "outputs": [
    {
     "name": "stdout",
     "output_type": "stream",
     "text": [
      "Accuracy scores: [0. 0. 0. 0. 0.]\n",
      "Mean accuracy: 0.00\n",
      "Standard deviation: 0.00\n"
     ]
    }
   ],
   "source": [
    "import numpy as np\n",
    "from sklearn.ensemble import RandomForestClassifier\n",
    "from sklearn.datasets import make_classification\n",
    "from sklearn.model_selection import cross_val_score\n",
    "\n",
    "\n",
    "# Perform 5-fold cross-validation\n",
    "scores = cross_val_score(clf_gini, X, y, cv=5, scoring='f1')\n",
    "\n",
    "# Print the results\n",
    "print(f\"Accuracy scores: {scores}\")\n",
    "print(f\"Mean accuracy: {np.mean(scores):.2f}\")\n",
    "print(f\"Standard deviation: {np.std(scores):.2f}\")"
   ]
  },
  {
   "cell_type": "code",
   "execution_count": 60,
   "metadata": {},
   "outputs": [
    {
     "name": "stdout",
     "output_type": "stream",
     "text": [
      "Accuracy scores: [0. 0. 0. 0. 0.]\n",
      "Mean accuracy: 0.00\n",
      "Standard deviation: 0.00\n"
     ]
    }
   ],
   "source": [
    "import numpy as np\n",
    "from sklearn.ensemble import RandomForestClassifier\n",
    "from sklearn.datasets import make_classification\n",
    "from sklearn.model_selection import cross_val_score\n",
    "\n",
    "\n",
    "# Perform 5-fold cross-validation\n",
    "scores = cross_val_score(clf_gini, X, y, cv=5, scoring='recall')\n",
    "\n",
    "# Print the results\n",
    "print(f\"Accuracy scores: {scores}\")\n",
    "print(f\"Mean accuracy: {np.mean(scores):.2f}\")\n",
    "print(f\"Standard deviation: {np.std(scores):.2f}\")"
   ]
  },
  {
   "cell_type": "code",
   "execution_count": 61,
   "metadata": {},
   "outputs": [
    {
     "name": "stderr",
     "output_type": "stream",
     "text": [
      "/home/mi3/anaconda3/lib/python3.7/site-packages/sklearn/metrics/_classification.py:1318: UndefinedMetricWarning: Precision is ill-defined and being set to 0.0 due to no predicted samples. Use `zero_division` parameter to control this behavior.\n",
      "  _warn_prf(average, modifier, msg_start, len(result))\n",
      "/home/mi3/anaconda3/lib/python3.7/site-packages/sklearn/metrics/_classification.py:1318: UndefinedMetricWarning: Precision is ill-defined and being set to 0.0 due to no predicted samples. Use `zero_division` parameter to control this behavior.\n",
      "  _warn_prf(average, modifier, msg_start, len(result))\n",
      "/home/mi3/anaconda3/lib/python3.7/site-packages/sklearn/metrics/_classification.py:1318: UndefinedMetricWarning: Precision is ill-defined and being set to 0.0 due to no predicted samples. Use `zero_division` parameter to control this behavior.\n",
      "  _warn_prf(average, modifier, msg_start, len(result))\n",
      "/home/mi3/anaconda3/lib/python3.7/site-packages/sklearn/metrics/_classification.py:1318: UndefinedMetricWarning: Precision is ill-defined and being set to 0.0 due to no predicted samples. Use `zero_division` parameter to control this behavior.\n",
      "  _warn_prf(average, modifier, msg_start, len(result))\n"
     ]
    },
    {
     "name": "stdout",
     "output_type": "stream",
     "text": [
      "Accuracy scores: [0. 0. 0. 0. 0.]\n",
      "Mean accuracy: 0.00\n",
      "Standard deviation: 0.00\n"
     ]
    },
    {
     "name": "stderr",
     "output_type": "stream",
     "text": [
      "/home/mi3/anaconda3/lib/python3.7/site-packages/sklearn/metrics/_classification.py:1318: UndefinedMetricWarning: Precision is ill-defined and being set to 0.0 due to no predicted samples. Use `zero_division` parameter to control this behavior.\n",
      "  _warn_prf(average, modifier, msg_start, len(result))\n"
     ]
    }
   ],
   "source": [
    "import numpy as np\n",
    "from sklearn.ensemble import RandomForestClassifier\n",
    "from sklearn.datasets import make_classification\n",
    "from sklearn.model_selection import cross_val_score\n",
    "\n",
    "\n",
    "# Perform 5-fold cross-validation\n",
    "scores = cross_val_score(clf_gini, X, y, cv=5, scoring='precision')\n",
    "\n",
    "# Print the results\n",
    "print(f\"Accuracy scores: {scores}\")\n",
    "print(f\"Mean accuracy: {np.mean(scores):.2f}\")\n",
    "print(f\"Standard deviation: {np.std(scores):.2f}\")"
   ]
  },
  {
   "cell_type": "code",
   "execution_count": 58,
   "metadata": {},
   "outputs": [
    {
     "name": "stdout",
     "output_type": "stream",
     "text": [
      "              precision    recall  f1-score   support\n",
      "\n",
      "         0.0       0.94      1.00      0.97     68967\n",
      "         1.0       0.00      0.00      0.00      4268\n",
      "\n",
      "    accuracy                           0.94     73235\n",
      "   macro avg       0.47      0.50      0.48     73235\n",
      "weighted avg       0.89      0.94      0.91     73235\n",
      "\n"
     ]
    },
    {
     "name": "stderr",
     "output_type": "stream",
     "text": [
      "/home/mi3/anaconda3/lib/python3.7/site-packages/sklearn/metrics/_classification.py:1318: UndefinedMetricWarning: Precision and F-score are ill-defined and being set to 0.0 in labels with no predicted samples. Use `zero_division` parameter to control this behavior.\n",
      "  _warn_prf(average, modifier, msg_start, len(result))\n",
      "/home/mi3/anaconda3/lib/python3.7/site-packages/sklearn/metrics/_classification.py:1318: UndefinedMetricWarning: Precision and F-score are ill-defined and being set to 0.0 in labels with no predicted samples. Use `zero_division` parameter to control this behavior.\n",
      "  _warn_prf(average, modifier, msg_start, len(result))\n",
      "/home/mi3/anaconda3/lib/python3.7/site-packages/sklearn/metrics/_classification.py:1318: UndefinedMetricWarning: Precision and F-score are ill-defined and being set to 0.0 in labels with no predicted samples. Use `zero_division` parameter to control this behavior.\n",
      "  _warn_prf(average, modifier, msg_start, len(result))\n"
     ]
    }
   ],
   "source": [
    "from sklearn.metrics import classification_report\n",
    "\n",
    "print(classification_report(y_test, y_pred_gini))"
   ]
  },
  {
   "cell_type": "markdown",
   "metadata": {},
   "source": [
    "# STOME DESCION TREE"
   ]
  },
  {
   "cell_type": "code",
   "execution_count": 64,
   "metadata": {},
   "outputs": [],
   "source": [
    "from sklearn.model_selection import train_test_split\n",
    "\n",
    "# Apply SMOTE to oversample the minority class\n",
    "smote = SMOTE(random_state=42)\n",
    "X_resampled, y_resampled = smote.fit_resample(X, y)\n",
    "\n",
    "# Split the resampled data into train and test sets\n",
    "X_train, X_test, y_train, y_test = train_test_split(X_resampled, y_resampled, test_size=0.2, random_state=42)"
   ]
  },
  {
   "cell_type": "code",
   "execution_count": 91,
   "metadata": {},
   "outputs": [],
   "source": [
    "\n",
    "clf_gini = DecisionTreeClassifier(criterion='gini', max_depth=3, random_state=0)\n",
    "\n",
    "# fit the model\n",
    "clf_gini.fit(X_train, y_train)\n",
    "y_pred_gini = clf_gini.predict(X_test)\n"
   ]
  },
  {
   "cell_type": "code",
   "execution_count": 92,
   "metadata": {},
   "outputs": [
    {
     "name": "stdout",
     "output_type": "stream",
     "text": [
      "              precision    recall  f1-score   support\n",
      "\n",
      "         0.0       0.77      0.67      0.71     41921\n",
      "         1.0       0.70      0.80      0.75     41695\n",
      "\n",
      "    accuracy                           0.73     83616\n",
      "   macro avg       0.73      0.73      0.73     83616\n",
      "weighted avg       0.73      0.73      0.73     83616\n",
      "\n"
     ]
    }
   ],
   "source": [
    "from sklearn.metrics import classification_report\n",
    "\n",
    "print(classification_report(y_test, y_pred_gini))"
   ]
  },
  {
   "cell_type": "code",
   "execution_count": 93,
   "metadata": {},
   "outputs": [
    {
     "name": "stdout",
     "output_type": "stream",
     "text": [
      "Accuracy scores: [0.76175112 0.78871512 0.79710088 0.79397841 0.78769874]\n",
      "Mean accuracy: 0.79\n",
      "Standard deviation: 0.01\n"
     ]
    }
   ],
   "source": [
    "import numpy as np\n",
    "from sklearn.ensemble import RandomForestClassifier\n",
    "from sklearn.datasets import make_classification\n",
    "from sklearn.model_selection import cross_val_score\n",
    "\n",
    "\n",
    "# Perform 5-fold cross-validation\n",
    "scores = cross_val_score(clf_gini, X_resampled, y_resampled, cv=5, scoring='roc_auc')\n",
    "\n",
    "# Print the results\n",
    "print(f\"Accuracy scores: {scores}\")\n",
    "print(f\"Mean accuracy: {np.mean(scores):.2f}\")\n",
    "print(f\"Standard deviation: {np.std(scores):.2f}\")"
   ]
  },
  {
   "cell_type": "code",
   "execution_count": 94,
   "metadata": {},
   "outputs": [
    {
     "name": "stdout",
     "output_type": "stream",
     "text": [
      "Accuracy scores: [0.77245982 0.80231056 0.80262151 0.80340613 0.79857922]\n",
      "Mean accuracy: 0.80\n",
      "Standard deviation: 0.01\n"
     ]
    }
   ],
   "source": [
    "import numpy as np\n",
    "from sklearn.ensemble import RandomForestClassifier\n",
    "from sklearn.datasets import make_classification\n",
    "from sklearn.model_selection import cross_val_score\n",
    "\n",
    "\n",
    "# Perform 5-fold cross-validation\n",
    "scores = cross_val_score(clf_gini, X_resampled, y_resampled, cv=5, scoring='recall')\n",
    "\n",
    "# Print the results\n",
    "print(f\"Accuracy scores: {scores}\")\n",
    "print(f\"Mean accuracy: {np.mean(scores):.2f}\")\n",
    "print(f\"Standard deviation: {np.std(scores):.2f}\")"
   ]
  },
  {
   "cell_type": "code",
   "execution_count": 95,
   "metadata": {},
   "outputs": [
    {
     "name": "stdout",
     "output_type": "stream",
     "text": [
      "Accuracy scores: [0.68982826 0.70596035 0.7185439  0.71027089 0.70723183]\n",
      "Mean accuracy: 0.71\n",
      "Standard deviation: 0.01\n"
     ]
    }
   ],
   "source": [
    "import numpy as np\n",
    "from sklearn.ensemble import RandomForestClassifier\n",
    "from sklearn.datasets import make_classification\n",
    "from sklearn.model_selection import cross_val_score\n",
    "\n",
    "\n",
    "# Perform 5-fold cross-validation\n",
    "scores = cross_val_score(clf_gini, X_resampled, y_resampled, cv=5, scoring='precision')\n",
    "\n",
    "# Print the results\n",
    "print(f\"Accuracy scores: {scores}\")\n",
    "print(f\"Mean accuracy: {np.mean(scores):.2f}\")\n",
    "print(f\"Standard deviation: {np.std(scores):.2f}\")"
   ]
  },
  {
   "cell_type": "code",
   "execution_count": 96,
   "metadata": {},
   "outputs": [
    {
     "name": "stdout",
     "output_type": "stream",
     "text": [
      "Accuracy scores: [0.72880935 0.75105797 0.75825914 0.75397324 0.75013481]\n",
      "Mean accuracy: 0.75\n",
      "Standard deviation: 0.01\n"
     ]
    }
   ],
   "source": [
    "import numpy as np\n",
    "from sklearn.ensemble import RandomForestClassifier\n",
    "from sklearn.datasets import make_classification\n",
    "from sklearn.model_selection import cross_val_score\n",
    "\n",
    "\n",
    "# Perform 5-fold cross-validation\n",
    "scores = cross_val_score(clf_gini, X_resampled, y_resampled, cv=5, scoring='f1')\n",
    "\n",
    "# Print the results\n",
    "print(f\"Accuracy scores: {scores}\")\n",
    "print(f\"Mean accuracy: {np.mean(scores):.2f}\")\n",
    "print(f\"Standard deviation: {np.std(scores):.2f}\")"
   ]
  },
  {
   "cell_type": "code",
   "execution_count": 84,
   "metadata": {},
   "outputs": [
    {
     "data": {
      "image/png": "[encoded data removed]",
      "text/plain": [
       "<Figure size 432x288 with 1 Axes>"
      ]
     },
     "metadata": {
      "needs_background": "light"
     },
     "output_type": "display_data"
    }
   ],
   "source": [
    "from sklearn import metrics\n",
    "y_pred_proba = clf_gini.predict_proba(X_test)[::,1]\n",
    "fpr, tpr, _ = metrics.roc_curve(y_test,  y_pred_proba)\n",
    "auc = metrics.roc_auc_score(y_test, y_pred_proba)\n",
    "\n",
    "#create ROC curve\n",
    "plt.plot(fpr,tpr,label=\"AUC=\"+str(auc))\n",
    "plt.ylabel('True Positive Rate')\n",
    "plt.xlabel('False Positive Rate')\n",
    "plt.legend(loc=4)\n",
    "plt.show()"
   ]
  },
  {
   "cell_type": "markdown",
   "metadata": {},
   "source": [
    "# Logistic Regression"
   ]
  },
  {
   "cell_type": "code",
   "execution_count": 70,
   "metadata": {},
   "outputs": [
    {
     "name": "stderr",
     "output_type": "stream",
     "text": [
      "/home/mi3/anaconda3/lib/python3.7/site-packages/sklearn/linear_model/_logistic.py:818: ConvergenceWarning: lbfgs failed to converge (status=1):\n",
      "STOP: TOTAL NO. of ITERATIONS REACHED LIMIT.\n",
      "\n",
      "Increase the number of iterations (max_iter) or scale the data as shown in:\n",
      "    https://scikit-learn.org/stable/modules/preprocessing.html\n",
      "Please also refer to the documentation for alternative solver options:\n",
      "    https://scikit-learn.org/stable/modules/linear_model.html#logistic-regression\n",
      "  extra_warning_msg=_LOGISTIC_SOLVER_CONVERGENCE_MSG,\n",
      "/home/mi3/anaconda3/lib/python3.7/site-packages/sklearn/linear_model/_logistic.py:818: ConvergenceWarning: lbfgs failed to converge (status=1):\n",
      "STOP: TOTAL NO. of ITERATIONS REACHED LIMIT.\n",
      "\n",
      "Increase the number of iterations (max_iter) or scale the data as shown in:\n",
      "    https://scikit-learn.org/stable/modules/preprocessing.html\n",
      "Please also refer to the documentation for alternative solver options:\n",
      "    https://scikit-learn.org/stable/modules/linear_model.html#logistic-regression\n",
      "  extra_warning_msg=_LOGISTIC_SOLVER_CONVERGENCE_MSG,\n"
     ]
    },
    {
     "data": {
      "text/plain": [
       "LogisticRegression(random_state=0)"
      ]
     },
     "execution_count": 70,
     "metadata": {},
     "output_type": "execute_result"
    }
   ],
   "source": [
    "# fit the model to training data\n",
    "clf = LogisticRegression(random_state=0).fit(X_train, y_train)\n",
    "\n",
    "# fit the model to the training set\n",
    "\n",
    "clf.fit(X_train, y_train)"
   ]
  },
  {
   "cell_type": "code",
   "execution_count": 71,
   "metadata": {},
   "outputs": [
    {
     "name": "stdout",
     "output_type": "stream",
     "text": [
      "Confusion matrix\n",
      "\n",
      " [[68940    27]\n",
      " [ 4246    22]]\n"
     ]
    }
   ],
   "source": [
    "y_pred = clf.predict(X_test)\n",
    "cm = confusion_matrix(y_test, y_pred)\n",
    "\n",
    "print('Confusion matrix\\n\\n', cm)"
   ]
  },
  {
   "cell_type": "code",
   "execution_count": 72,
   "metadata": {},
   "outputs": [
    {
     "ename": "NameError",
     "evalue": "name 'accuracy_score' is not defined",
     "output_type": "error",
     "traceback": [
      "\u001b[0;31m---------------------------------------------------------------------------\u001b[0m",
      "\u001b[0;31mNameError\u001b[0m                                 Traceback (most recent call last)",
      "\u001b[0;32m<ipython-input-72-c029ca8bca34>\u001b[0m in \u001b[0;36m<module>\u001b[0;34m\u001b[0m\n\u001b[0;32m----> 1\u001b[0;31m \u001b[0mprint\u001b[0m\u001b[0;34m(\u001b[0m\u001b[0;34m'Model accuracy score  : {0:0.4f}'\u001b[0m\u001b[0;34m.\u001b[0m \u001b[0mformat\u001b[0m\u001b[0;34m(\u001b[0m\u001b[0maccuracy_score\u001b[0m\u001b[0;34m(\u001b[0m\u001b[0my_test\u001b[0m\u001b[0;34m,\u001b[0m \u001b[0my_pred\u001b[0m\u001b[0;34m)\u001b[0m\u001b[0;34m)\u001b[0m\u001b[0;34m)\u001b[0m\u001b[0;34m\u001b[0m\u001b[0;34m\u001b[0m\u001b[0m\n\u001b[0m",
      "\u001b[0;31mNameError\u001b[0m: name 'accuracy_score' is not defined"
     ]
    }
   ],
   "source": [
    "print('Model accuracy score  : {0:0.4f}'. format(accuracy_score(y_test, y_pred)))"
   ]
  },
  {
   "cell_type": "code",
   "execution_count": null,
   "metadata": {},
   "outputs": [],
   "source": [
    "from sklearn.metrics import classification_report\n",
    "\n",
    "print(classification_report(y_test, y_pred))"
   ]
  },
  {
   "cell_type": "code",
   "execution_count": 69,
   "metadata": {},
   "outputs": [
    {
     "name": "stderr",
     "output_type": "stream",
     "text": [
      "/home/mi3/anaconda3/lib/python3.7/site-packages/sklearn/linear_model/_logistic.py:818: ConvergenceWarning: lbfgs failed to converge (status=1):\n",
      "STOP: TOTAL NO. of ITERATIONS REACHED LIMIT.\n",
      "\n",
      "Increase the number of iterations (max_iter) or scale the data as shown in:\n",
      "    https://scikit-learn.org/stable/modules/preprocessing.html\n",
      "Please also refer to the documentation for alternative solver options:\n",
      "    https://scikit-learn.org/stable/modules/linear_model.html#logistic-regression\n",
      "  extra_warning_msg=_LOGISTIC_SOLVER_CONVERGENCE_MSG,\n",
      "/home/mi3/anaconda3/lib/python3.7/site-packages/sklearn/linear_model/_logistic.py:818: ConvergenceWarning: lbfgs failed to converge (status=1):\n",
      "STOP: TOTAL NO. of ITERATIONS REACHED LIMIT.\n",
      "\n",
      "Increase the number of iterations (max_iter) or scale the data as shown in:\n",
      "    https://scikit-learn.org/stable/modules/preprocessing.html\n",
      "Please also refer to the documentation for alternative solver options:\n",
      "    https://scikit-learn.org/stable/modules/linear_model.html#logistic-regression\n",
      "  extra_warning_msg=_LOGISTIC_SOLVER_CONVERGENCE_MSG,\n",
      "/home/mi3/anaconda3/lib/python3.7/site-packages/sklearn/linear_model/_logistic.py:818: ConvergenceWarning: lbfgs failed to converge (status=1):\n",
      "STOP: TOTAL NO. of ITERATIONS REACHED LIMIT.\n",
      "\n",
      "Increase the number of iterations (max_iter) or scale the data as shown in:\n",
      "    https://scikit-learn.org/stable/modules/preprocessing.html\n",
      "Please also refer to the documentation for alternative solver options:\n",
      "    https://scikit-learn.org/stable/modules/linear_model.html#logistic-regression\n",
      "  extra_warning_msg=_LOGISTIC_SOLVER_CONVERGENCE_MSG,\n",
      "/home/mi3/anaconda3/lib/python3.7/site-packages/sklearn/linear_model/_logistic.py:818: ConvergenceWarning: lbfgs failed to converge (status=1):\n",
      "STOP: TOTAL NO. of ITERATIONS REACHED LIMIT.\n",
      "\n",
      "Increase the number of iterations (max_iter) or scale the data as shown in:\n",
      "    https://scikit-learn.org/stable/modules/preprocessing.html\n",
      "Please also refer to the documentation for alternative solver options:\n",
      "    https://scikit-learn.org/stable/modules/linear_model.html#logistic-regression\n",
      "  extra_warning_msg=_LOGISTIC_SOLVER_CONVERGENCE_MSG,\n"
     ]
    },
    {
     "name": "stdout",
     "output_type": "stream",
     "text": [
      "Accuracy scores: [0.00465658 0.00465658 0.00271634 0.00427019 0.00349243]\n",
      "Mean accuracy: 0.00\n",
      "Standard deviation: 0.00\n"
     ]
    },
    {
     "name": "stderr",
     "output_type": "stream",
     "text": [
      "/home/mi3/anaconda3/lib/python3.7/site-packages/sklearn/linear_model/_logistic.py:818: ConvergenceWarning: lbfgs failed to converge (status=1):\n",
      "STOP: TOTAL NO. of ITERATIONS REACHED LIMIT.\n",
      "\n",
      "Increase the number of iterations (max_iter) or scale the data as shown in:\n",
      "    https://scikit-learn.org/stable/modules/preprocessing.html\n",
      "Please also refer to the documentation for alternative solver options:\n",
      "    https://scikit-learn.org/stable/modules/linear_model.html#logistic-regression\n",
      "  extra_warning_msg=_LOGISTIC_SOLVER_CONVERGENCE_MSG,\n"
     ]
    }
   ],
   "source": [
    "import numpy as np\n",
    "from sklearn.ensemble import RandomForestClassifier\n",
    "from sklearn.datasets import make_classification\n",
    "from sklearn.model_selection import cross_val_score\n",
    "\n",
    "\n",
    "# Perform 5-fold cross-validation\n",
    "scores = cross_val_score(clf, X, y, cv=5, scoring='recall')\n",
    "\n",
    "# Print the results\n",
    "print(f\"Accuracy scores: {scores}\")\n",
    "print(f\"Mean accuracy: {np.mean(scores):.2f}\")\n",
    "print(f\"Standard deviation: {np.std(scores):.2f}\")"
   ]
  },
  {
   "cell_type": "code",
   "execution_count": null,
   "metadata": {},
   "outputs": [],
   "source": []
  },
  {
   "cell_type": "code",
   "execution_count": null,
   "metadata": {},
   "outputs": [],
   "source": []
  },
  {
   "cell_type": "code",
   "execution_count": null,
   "metadata": {},
   "outputs": [],
   "source": []
  },
  {
   "cell_type": "code",
   "execution_count": 165,
   "metadata": {},
   "outputs": [
    {
     "name": "stdout",
     "output_type": "stream",
     "text": [
      "Model accuracy score with criterion entropy: 0.9417\n"
     ]
    }
   ],
   "source": [
    "from sklearn.metrics import accuracy_score\n",
    "\n",
    "print('Model accuracy score with criterion entropy: {0:0.4f}'. format(accuracy_score(y_test, y_pred_en)))"
   ]
  },
  {
   "cell_type": "code",
   "execution_count": null,
   "metadata": {},
   "outputs": [],
   "source": []
  },
  {
   "cell_type": "code",
   "execution_count": 181,
   "metadata": {},
   "outputs": [
    {
     "data": {
      "image/png": "[encoded data removed]",
      "text/plain": [
       "<Figure size 432x288 with 1 Axes>"
      ]
     },
     "metadata": {
      "image/png": {
       "height": 266,
       "width": 391
      }
     },
     "output_type": "display_data"
    }
   ],
   "source": [
    "#define metrics\n",
    "y_pred_proba = clf.predict_proba(X_test)[::,1]\n",
    "fpr, tpr, _ = metrics.roc_curve(y_test,  y_pred_proba)\n",
    "auc = metrics.roc_auc_score(y_test, y_pred_proba)\n",
    "\n",
    "#create ROC curve\n",
    "plt.plot(fpr,tpr,label=\"AUC=\"+str(auc))\n",
    "plt.ylabel('True Positive Rate')\n",
    "plt.xlabel('False Positive Rate')\n",
    "plt.legend(loc=4)\n",
    "plt.show()"
   ]
  },
  {
   "cell_type": "markdown",
   "metadata": {},
   "source": [
    "----"
   ]
  },
  {
   "cell_type": "markdown",
   "metadata": {},
   "source": [
    "# naive baye"
   ]
  },
  {
   "cell_type": "code",
   "execution_count": 82,
   "metadata": {},
   "outputs": [
    {
     "data": {
      "text/plain": [
       "array([0., 0., 0., ..., 0., 1., 0.])"
      ]
     },
     "execution_count": 82,
     "metadata": {},
     "output_type": "execute_result"
    }
   ],
   "source": [
    "# train a Gaussian Naive Bayes classifier on the training set\n",
    "from sklearn.naive_bayes import GaussianNB\n",
    "\n",
    "\n",
    "# instantiate the model\n",
    "gnb = GaussianNB()\n",
    "\n",
    "\n",
    "# fit the model\n",
    "gnb.fit(X_train, y_train)\n",
    "y_pred = gnb.predict(X_test)\n",
    "\n",
    "y_pred"
   ]
  },
  {
   "cell_type": "code",
   "execution_count": 83,
   "metadata": {},
   "outputs": [
    {
     "name": "stdout",
     "output_type": "stream",
     "text": [
      "Model accuracy score: 0.8935\n"
     ]
    }
   ],
   "source": [
    "from sklearn.metrics import accuracy_score\n",
    "\n",
    "print('Model accuracy score: {0:0.4f}'. format(accuracy_score(y_test, y_pred)))"
   ]
  },
  {
   "cell_type": "code",
   "execution_count": 84,
   "metadata": {},
   "outputs": [
    {
     "name": "stdout",
     "output_type": "stream",
     "text": [
      "Confusion matrix\n",
      "\n",
      " [[64498  4469]\n",
      " [ 3328   940]]\n"
     ]
    }
   ],
   "source": [
    "from sklearn.metrics import confusion_matrix\n",
    "\n",
    "cm = confusion_matrix(y_test, y_pred)\n",
    "\n",
    "print('Confusion matrix\\n\\n', cm)"
   ]
  },
  {
   "cell_type": "code",
   "execution_count": 85,
   "metadata": {},
   "outputs": [
    {
     "name": "stdout",
     "output_type": "stream",
     "text": [
      "Accuracy scores: [0.75444514 0.77664404 0.78210539 0.77046106 0.76993243]\n",
      "Mean accuracy: 0.77\n",
      "Standard deviation: 0.01\n"
     ]
    }
   ],
   "source": [
    "import numpy as np\n",
    "from sklearn.ensemble import RandomForestClassifier\n",
    "from sklearn.datasets import make_classification\n",
    "from sklearn.model_selection import cross_val_score\n",
    "\n",
    "\n",
    "# Perform 5-fold cross-validation\n",
    "scores = cross_val_score(gnb, X, y, cv=5, scoring='roc_auc')\n",
    "\n",
    "# Print the results\n",
    "print(f\"Accuracy scores: {scores}\")\n",
    "print(f\"Mean accuracy: {np.mean(scores):.2f}\")\n",
    "print(f\"Standard deviation: {np.std(scores):.2f}\")"
   ]
  },
  {
   "cell_type": "code",
   "execution_count": 86,
   "metadata": {},
   "outputs": [
    {
     "name": "stdout",
     "output_type": "stream",
     "text": [
      "Accuracy scores: [0.19595895 0.19980788 0.20759494 0.21378151 0.19922969]\n",
      "Mean accuracy: 0.20\n",
      "Standard deviation: 0.01\n"
     ]
    }
   ],
   "source": [
    "import numpy as np\n",
    "from sklearn.ensemble import RandomForestClassifier\n",
    "from sklearn.datasets import make_classification\n",
    "from sklearn.model_selection import cross_val_score\n",
    "\n",
    "\n",
    "# Perform 5-fold cross-validation\n",
    "scores = cross_val_score(gnb, X, y, cv=5, scoring='f1')\n",
    "\n",
    "# Print the results\n",
    "print(f\"Accuracy scores: {scores}\")\n",
    "print(f\"Mean accuracy: {np.mean(scores):.2f}\")\n",
    "print(f\"Standard deviation: {np.std(scores):.2f}\")"
   ]
  },
  {
   "cell_type": "code",
   "execution_count": 59,
   "metadata": {},
   "outputs": [
    {
     "name": "stdout",
     "output_type": "stream",
     "text": [
      "Accuracy scores: [0.2370974  0.24214203 0.22273962 0.24689441 0.22079938]\n",
      "Mean accuracy: 0.23\n",
      "Standard deviation: 0.01\n"
     ]
    }
   ],
   "source": [
    "import numpy as np\n",
    "from sklearn.ensemble import RandomForestClassifier\n",
    "from sklearn.datasets import make_classification\n",
    "from sklearn.model_selection import cross_val_score\n",
    "\n",
    "\n",
    "# Perform 5-fold cross-validation\n",
    "scores = cross_val_score(gnb, X, y, cv=5, scoring='recall')\n",
    "\n",
    "# Print the results\n",
    "print(f\"Accuracy scores: {scores}\")\n",
    "print(f\"Mean accuracy: {np.mean(scores):.2f}\")\n",
    "print(f\"Standard deviation: {np.std(scores):.2f}\")"
   ]
  },
  {
   "cell_type": "code",
   "execution_count": 61,
   "metadata": {},
   "outputs": [
    {
     "name": "stdout",
     "output_type": "stream",
     "text": [
      "Accuracy scores: [0.16698552 0.17007359 0.1943786  0.1885003  0.1814992 ]\n",
      "Mean accuracy: 0.18\n",
      "Standard deviation: 0.01\n"
     ]
    }
   ],
   "source": [
    "import numpy as np\n",
    "from sklearn.ensemble import RandomForestClassifier\n",
    "from sklearn.datasets import make_classification\n",
    "from sklearn.model_selection import cross_val_score\n",
    "\n",
    "\n",
    "# Perform 5-fold cross-validation\n",
    "scores = cross_val_score(gnb, X, y, cv=5, scoring='precision')\n",
    "\n",
    "# Print the results\n",
    "print(f\"Accuracy scores: {scores}\")\n",
    "print(f\"Mean accuracy: {np.mean(scores):.2f}\")\n",
    "print(f\"Standard deviation: {np.std(scores):.2f}\")"
   ]
  },
  {
   "cell_type": "code",
   "execution_count": 87,
   "metadata": {},
   "outputs": [
    {
     "data": {
      "image/png": "[encoded data removed]",
      "text/plain": [
       "<Figure size 432x288 with 1 Axes>"
      ]
     },
     "metadata": {
      "needs_background": "light"
     },
     "output_type": "display_data"
    }
   ],
   "source": [
    "y_pred_proba = gnb.predict_proba(X_test)[::,1]\n",
    "fpr, tpr, _ = metrics.roc_curve(y_test,  y_pred_proba)\n",
    "auc = metrics.roc_auc_score(y_test, y_pred_proba)\n",
    "#create ROC curve\n",
    "plt.plot(fpr,tpr,label=\"AUC=\"+str(auc))\n",
    "plt.ylabel('True Positive Rate')\n",
    "plt.xlabel('False Positive Rate')\n",
    "plt.legend(loc=4)\n",
    "plt.show()"
   ]
  },
  {
   "cell_type": "markdown",
   "metadata": {},
   "source": [
    "# naive bayes - SMOTE"
   ]
  },
  {
   "cell_type": "code",
   "execution_count": 88,
   "metadata": {},
   "outputs": [],
   "source": [
    "from sklearn.model_selection import train_test_split\n",
    "\n",
    "# Apply SMOTE to oversample the minority class\n",
    "smote = SMOTE(random_state=42)\n",
    "X_resampled, y_resampled = smote.fit_resample(X, y)\n",
    "\n",
    "# Split the resampled data into train and test sets\n",
    "X_train, X_test, y_train, y_test = train_test_split(X_resampled, y_resampled, test_size=0.2, random_state=42)"
   ]
  },
  {
   "cell_type": "code",
   "execution_count": 89,
   "metadata": {},
   "outputs": [],
   "source": [
    "# train a Gaussian Naive Bayes classifier on the training set\n",
    "from sklearn.naive_bayes import GaussianNB\n",
    "\n",
    "\n",
    "# instantiate the model\n",
    "gnb = GaussianNB()\n",
    "\n",
    "\n",
    "# fit the model\n",
    "gnb.fit(X_train, y_train)\n",
    "y_pred = gnb.predict(X_test)\n",
    "\n"
   ]
  },
  {
   "cell_type": "code",
   "execution_count": 90,
   "metadata": {},
   "outputs": [
    {
     "name": "stdout",
     "output_type": "stream",
     "text": [
      "Confusion matrix\n",
      "\n",
      " [[27867 14054]\n",
      " [10516 31179]]\n"
     ]
    }
   ],
   "source": [
    "from sklearn.metrics import confusion_matrix\n",
    "\n",
    "cm = confusion_matrix(y_test, y_pred)\n",
    "\n",
    "print('Confusion matrix\\n\\n', cm)"
   ]
  },
  {
   "cell_type": "code",
   "execution_count": 91,
   "metadata": {},
   "outputs": [
    {
     "name": "stdout",
     "output_type": "stream",
     "text": [
      "Accuracy scores: [0.7561276  0.75539272 0.78153849 0.77375457 0.77608262]\n",
      "Mean accuracy: 0.77\n",
      "Standard deviation: 0.01\n"
     ]
    }
   ],
   "source": [
    "import numpy as np\n",
    "from sklearn.ensemble import RandomForestClassifier\n",
    "from sklearn.datasets import make_classification\n",
    "from sklearn.model_selection import cross_val_score\n",
    "\n",
    "\n",
    "# Perform 5-fold cross-validation\n",
    "scores = cross_val_score(gnb, X_resampled, y_resampled, cv=5, scoring='roc_auc')\n",
    "\n",
    "# Print the results\n",
    "print(f\"Accuracy scores: {scores}\")\n",
    "print(f\"Mean accuracy: {np.mean(scores):.2f}\")\n",
    "print(f\"Standard deviation: {np.std(scores):.2f}\")"
   ]
  },
  {
   "cell_type": "code",
   "execution_count": 92,
   "metadata": {},
   "outputs": [
    {
     "name": "stdout",
     "output_type": "stream",
     "text": [
      "Accuracy scores: [0.71314001 0.71328576 0.72496051 0.72314421 0.72044526]\n",
      "Mean accuracy: 0.72\n",
      "Standard deviation: 0.00\n"
     ]
    }
   ],
   "source": [
    "import numpy as np\n",
    "from sklearn.ensemble import RandomForestClassifier\n",
    "from sklearn.datasets import make_classification\n",
    "from sklearn.model_selection import cross_val_score\n",
    "\n",
    "\n",
    "# Perform 5-fold cross-validation\n",
    "scores = cross_val_score(gnb, X_resampled, y_resampled, cv=5, scoring='f1')\n",
    "\n",
    "# Print the results\n",
    "print(f\"Accuracy scores: {scores}\")\n",
    "print(f\"Mean accuracy: {np.mean(scores):.2f}\")\n",
    "print(f\"Standard deviation: {np.std(scores):.2f}\")"
   ]
  },
  {
   "cell_type": "code",
   "execution_count": 93,
   "metadata": {},
   "outputs": [
    {
     "name": "stdout",
     "output_type": "stream",
     "text": [
      "Accuracy scores: [0.7529181  0.75315729 0.74653176 0.75147703 0.74617298]\n",
      "Mean accuracy: 0.75\n",
      "Standard deviation: 0.00\n"
     ]
    }
   ],
   "source": [
    "import numpy as np\n",
    "from sklearn.ensemble import RandomForestClassifier\n",
    "from sklearn.datasets import make_classification\n",
    "from sklearn.model_selection import cross_val_score\n",
    "\n",
    "\n",
    "# Perform 5-fold cross-validation\n",
    "scores = cross_val_score(gnb, X_resampled, y_resampled, cv=5, scoring='recall')\n",
    "\n",
    "# Print the results\n",
    "print(f\"Accuracy scores: {scores}\")\n",
    "print(f\"Mean accuracy: {np.mean(scores):.2f}\")\n",
    "print(f\"Standard deviation: {np.std(scores):.2f}\")"
   ]
  },
  {
   "cell_type": "code",
   "execution_count": 94,
   "metadata": {},
   "outputs": [
    {
     "name": "stdout",
     "output_type": "stream",
     "text": [
      "Accuracy scores: [0.67735411 0.67742352 0.70460087 0.69687022 0.69643256]\n",
      "Mean accuracy: 0.69\n",
      "Standard deviation: 0.01\n"
     ]
    }
   ],
   "source": [
    "import numpy as np\n",
    "from sklearn.ensemble import RandomForestClassifier\n",
    "from sklearn.datasets import make_classification\n",
    "from sklearn.model_selection import cross_val_score\n",
    "\n",
    "\n",
    "# Perform 5-fold cross-validation\n",
    "scores = cross_val_score(gnb, X_resampled, y_resampled, cv=5, scoring='precision')\n",
    "\n",
    "# Print the results\n",
    "print(f\"Accuracy scores: {scores}\")\n",
    "print(f\"Mean accuracy: {np.mean(scores):.2f}\")\n",
    "print(f\"Standard deviation: {np.std(scores):.2f}\")"
   ]
  },
  {
   "cell_type": "code",
   "execution_count": 95,
   "metadata": {},
   "outputs": [
    {
     "data": {
      "image/png": "[encoded data removed]",
      "text/plain": [
       "<Figure size 432x288 with 1 Axes>"
      ]
     },
     "metadata": {
      "needs_background": "light"
     },
     "output_type": "display_data"
    }
   ],
   "source": [
    "y_pred_proba = gnb.predict_proba(X_test)[::,1]\n",
    "fpr, tpr, _ = metrics.roc_curve(y_test,  y_pred_proba)\n",
    "auc = metrics.roc_auc_score(y_test, y_pred_proba)\n",
    "#create ROC curve\n",
    "plt.plot(fpr,tpr,label=\"AUC=\"+str(auc))\n",
    "plt.ylabel('True Positive Rate')\n",
    "plt.xlabel('False Positive Rate')\n",
    "plt.legend(loc=4)\n",
    "plt.show()"
   ]
  },
  {
   "cell_type": "code",
   "execution_count": 96,
   "metadata": {},
   "outputs": [],
   "source": [
    "import numpy as np\n",
    "from sklearn.datasets import make_classification\n",
    "from sklearn.model_selection import cross_val_score, cross_val_predict, StratifiedKFold\n",
    "from sklearn.naive_bayes import GaussianNB\n",
    "from sklearn.metrics import roc_curve, auc, confusion_matrix"
   ]
  },
  {
   "cell_type": "code",
   "execution_count": 97,
   "metadata": {},
   "outputs": [],
   "source": [
    "cv = StratifiedKFold(n_splits=5, shuffle=True, random_state=42)\n",
    "y_pred = cross_val_predict(gnb, X, y, cv=cv, method='predict_proba')[:, 1]"
   ]
  },
  {
   "cell_type": "code",
   "execution_count": 98,
   "metadata": {},
   "outputs": [],
   "source": [
    "fpr, tpr, thresholds = roc_curve(y, y_pred)\n",
    "roc_auc = auc(fpr, tpr)"
   ]
  },
  {
   "cell_type": "code",
   "execution_count": 99,
   "metadata": {},
   "outputs": [
    {
     "data": {
      "image/png": "[encoded data removed]",
      "text/plain": [
       "<Figure size 576x432 with 1 Axes>"
      ]
     },
     "metadata": {
      "needs_background": "light"
     },
     "output_type": "display_data"
    }
   ],
   "source": [
    "import matplotlib.pyplot as plt\n",
    "plt.figure(figsize=(8, 6))\n",
    "plt.plot(fpr, tpr, color='darkorange', lw=2, label='ROC curve (AUC = %0.2f)' % roc_auc)\n",
    "plt.plot([0, 1], [0, 1], color='navy', lw=2, linestyle='--')\n",
    "plt.xlim([0.0, 1.0])\n",
    "plt.ylim([0.0, 1.05])\n",
    "plt.xlabel('False Positive Rate')\n",
    "plt.ylabel('True Positive Rate')\n",
    "plt.title('Receiver Operating Characteristic (ROC) Curve')\n",
    "plt.legend(loc=\"lower right\")\n",
    "plt.show()"
   ]
  },
  {
   "cell_type": "markdown",
   "metadata": {},
   "source": [
    "# SVM"
   ]
  },
  {
   "cell_type": "code",
   "execution_count": null,
   "metadata": {},
   "outputs": [],
   "source": [
    "# import SVC classifier\n",
    "from sklearn.svm import SVC\n",
    "\n",
    "\n",
    "# import metrics to compute accuracy\n",
    "from sklearn.metrics import accuracy_score\n",
    "\n",
    "\n",
    "# instantiate classifier with default hyperparameters\n",
    "svc=SVC(kernel='linear', random_state=0) \n",
    "\n",
    "\n",
    "# fit classifier to training set\n",
    "sv = svc.fit(X_train,y_train)\n",
    "\n",
    "\n",
    "# make predictions on test set\n",
    "y_pred=svc.predict(X_test)\n",
    "\n",
    "\n",
    "# compute and print accuracy score\n",
    "print('Model accuracy score with default hyperparameters: {0:0.4f}'. format(accuracy_score(y_test, y_pred)))"
   ]
  },
  {
   "cell_type": "code",
   "execution_count": 185,
   "metadata": {},
   "outputs": [
    {
     "name": "stdout",
     "output_type": "stream",
     "text": [
      "              precision    recall  f1-score   support\n",
      "\n",
      "         0.0       0.94      1.00      0.97     68967\n",
      "         1.0       0.00      0.00      0.00      4268\n",
      "\n",
      "    accuracy                           0.94     73235\n",
      "   macro avg       0.47      0.50      0.48     73235\n",
      "weighted avg       0.89      0.94      0.91     73235\n",
      "\n"
     ]
    },
    {
     "name": "stderr",
     "output_type": "stream",
     "text": [
      "/home/mi3/anaconda3/lib/python3.7/site-packages/sklearn/metrics/_classification.py:1272: UndefinedMetricWarning: Precision and F-score are ill-defined and being set to 0.0 in labels with no predicted samples. Use `zero_division` parameter to control this behavior.\n",
      "  _warn_prf(average, modifier, msg_start, len(result))\n"
     ]
    }
   ],
   "source": [
    "from sklearn.metrics import classification_report\n",
    "\n",
    "print(classification_report(y_test, y_pred))"
   ]
  },
  {
   "cell_type": "code",
   "execution_count": null,
   "metadata": {},
   "outputs": [
    {
     "name": "stderr",
     "output_type": "stream",
     "text": [
      "/home/mi3/anaconda3/lib/python3.7/site-packages/sklearn/metrics/_classification.py:1318: UndefinedMetricWarning: Precision is ill-defined and being set to 0.0 due to no predicted samples. Use `zero_division` parameter to control this behavior.\n",
      "  _warn_prf(average, modifier, msg_start, len(result))\n"
     ]
    }
   ],
   "source": [
    "import numpy as np\n",
    "from sklearn.ensemble import RandomForestClassifier\n",
    "from sklearn.datasets import make_classification\n",
    "from sklearn.model_selection import cross_val_score\n",
    "\n",
    "\n",
    "# Perform 5-fold cross-validation\n",
    "scores = cross_val_score(svc, X, y, cv=5, scoring='precision')\n",
    "\n",
    "# Print the results\n",
    "print(f\"Accuracy scores: {scores}\")\n",
    "print(f\"Mean accuracy: {np.mean(scores):.2f}\")\n",
    "print(f\"Standard deviation: {np.std(scores):.2f}\")"
   ]
  },
  {
   "cell_type": "code",
   "execution_count": 187,
   "metadata": {},
   "outputs": [
    {
     "name": "stdout",
     "output_type": "stream",
     "text": [
      "Confusion matrix\n",
      "\n",
      " [[68967     0]\n",
      " [ 4268     0]]\n"
     ]
    }
   ],
   "source": [
    "\n",
    "cm = confusion_matrix(y_test, y_pred)\n",
    "\n",
    "print('Confusion matrix\\n\\n', cm)"
   ]
  },
  {
   "cell_type": "code",
   "execution_count": 186,
   "metadata": {},
   "outputs": [
    {
     "ename": "AttributeError",
     "evalue": "predict_proba is not available when  probability=False",
     "output_type": "error",
     "traceback": [
      "\u001b[0;31m---------------------------------------------------------------------------\u001b[0m",
      "\u001b[0;31mAttributeError\u001b[0m                            Traceback (most recent call last)",
      "\u001b[0;32m<ipython-input-186-671fd00325c0>\u001b[0m in \u001b[0;36m<module>\u001b[0;34m\u001b[0m\n\u001b[1;32m      1\u001b[0m \u001b[0;31m#define metrics\u001b[0m\u001b[0;34m\u001b[0m\u001b[0;34m\u001b[0m\u001b[0;34m\u001b[0m\u001b[0m\n\u001b[0;32m----> 2\u001b[0;31m \u001b[0my_pred_proba\u001b[0m \u001b[0;34m=\u001b[0m \u001b[0msvc\u001b[0m\u001b[0;34m.\u001b[0m\u001b[0mpredict_proba\u001b[0m\u001b[0;34m(\u001b[0m\u001b[0mX_test\u001b[0m\u001b[0;34m)\u001b[0m\u001b[0;34m[\u001b[0m\u001b[0;34m:\u001b[0m\u001b[0;34m:\u001b[0m\u001b[0;34m,\u001b[0m\u001b[0;36m1\u001b[0m\u001b[0;34m]\u001b[0m\u001b[0;34m\u001b[0m\u001b[0;34m\u001b[0m\u001b[0m\n\u001b[0m\u001b[1;32m      3\u001b[0m \u001b[0mfpr\u001b[0m\u001b[0;34m,\u001b[0m \u001b[0mtpr\u001b[0m\u001b[0;34m,\u001b[0m \u001b[0m_\u001b[0m \u001b[0;34m=\u001b[0m \u001b[0mmetrics\u001b[0m\u001b[0;34m.\u001b[0m\u001b[0mroc_curve\u001b[0m\u001b[0;34m(\u001b[0m\u001b[0my_test\u001b[0m\u001b[0;34m,\u001b[0m  \u001b[0my_pred_proba\u001b[0m\u001b[0;34m)\u001b[0m\u001b[0;34m\u001b[0m\u001b[0;34m\u001b[0m\u001b[0m\n\u001b[1;32m      4\u001b[0m \u001b[0mauc\u001b[0m \u001b[0;34m=\u001b[0m \u001b[0mmetrics\u001b[0m\u001b[0;34m.\u001b[0m\u001b[0mroc_auc_score\u001b[0m\u001b[0;34m(\u001b[0m\u001b[0my_test\u001b[0m\u001b[0;34m,\u001b[0m \u001b[0my_pred_proba\u001b[0m\u001b[0;34m)\u001b[0m\u001b[0;34m\u001b[0m\u001b[0;34m\u001b[0m\u001b[0m\n\u001b[1;32m      5\u001b[0m \u001b[0;34m\u001b[0m\u001b[0m\n",
      "\u001b[0;32m~/anaconda3/lib/python3.7/site-packages/sklearn/svm/_base.py\u001b[0m in \u001b[0;36mpredict_proba\u001b[0;34m(self)\u001b[0m\n\u001b[1;32m    634\u001b[0m         \u001b[0mdatasets\u001b[0m\u001b[0;34m.\u001b[0m\u001b[0;34m\u001b[0m\u001b[0;34m\u001b[0m\u001b[0m\n\u001b[1;32m    635\u001b[0m         \"\"\"\n\u001b[0;32m--> 636\u001b[0;31m         \u001b[0mself\u001b[0m\u001b[0;34m.\u001b[0m\u001b[0m_check_proba\u001b[0m\u001b[0;34m(\u001b[0m\u001b[0;34m)\u001b[0m\u001b[0;34m\u001b[0m\u001b[0;34m\u001b[0m\u001b[0m\n\u001b[0m\u001b[1;32m    637\u001b[0m         \u001b[0;32mreturn\u001b[0m \u001b[0mself\u001b[0m\u001b[0;34m.\u001b[0m\u001b[0m_predict_proba\u001b[0m\u001b[0;34m\u001b[0m\u001b[0;34m\u001b[0m\u001b[0m\n\u001b[1;32m    638\u001b[0m \u001b[0;34m\u001b[0m\u001b[0m\n",
      "\u001b[0;32m~/anaconda3/lib/python3.7/site-packages/sklearn/svm/_base.py\u001b[0m in \u001b[0;36m_check_proba\u001b[0;34m(self)\u001b[0m\n\u001b[1;32m    601\u001b[0m     \u001b[0;32mdef\u001b[0m \u001b[0m_check_proba\u001b[0m\u001b[0;34m(\u001b[0m\u001b[0mself\u001b[0m\u001b[0;34m)\u001b[0m\u001b[0;34m:\u001b[0m\u001b[0;34m\u001b[0m\u001b[0;34m\u001b[0m\u001b[0m\n\u001b[1;32m    602\u001b[0m         \u001b[0;32mif\u001b[0m \u001b[0;32mnot\u001b[0m \u001b[0mself\u001b[0m\u001b[0;34m.\u001b[0m\u001b[0mprobability\u001b[0m\u001b[0;34m:\u001b[0m\u001b[0;34m\u001b[0m\u001b[0;34m\u001b[0m\u001b[0m\n\u001b[0;32m--> 603\u001b[0;31m             raise AttributeError(\"predict_proba is not available when \"\n\u001b[0m\u001b[1;32m    604\u001b[0m                                  \" probability=False\")\n\u001b[1;32m    605\u001b[0m         \u001b[0;32mif\u001b[0m \u001b[0mself\u001b[0m\u001b[0;34m.\u001b[0m\u001b[0m_impl\u001b[0m \u001b[0;32mnot\u001b[0m \u001b[0;32min\u001b[0m \u001b[0;34m(\u001b[0m\u001b[0;34m'c_svc'\u001b[0m\u001b[0;34m,\u001b[0m \u001b[0;34m'nu_svc'\u001b[0m\u001b[0;34m)\u001b[0m\u001b[0;34m:\u001b[0m\u001b[0;34m\u001b[0m\u001b[0;34m\u001b[0m\u001b[0m\n",
      "\u001b[0;31mAttributeError\u001b[0m: predict_proba is not available when  probability=False"
     ]
    }
   ],
   "source": [
    "#define metrics\n",
    "y_pred_proba = sv.predict_proba(X_test)[::,1]\n",
    "fpr, tpr, _ = metrics.roc_curve(y_test,  y_pred_proba)\n",
    "auc = metrics.roc_auc_score(y_test, y_pred_proba)\n",
    "\n",
    "#create ROC curve\n",
    "plt.plot(fpr,tpr,label=\"AUC=\"+str(auc))\n",
    "plt.ylabel('True Positive Rate')\n",
    "plt.xlabel('False Positive Rate')\n",
    "plt.legend(loc=4)\n",
    "plt.show()"
   ]
  },
  {
   "cell_type": "markdown",
   "metadata": {},
   "source": [
    "# XGBOOST"
   ]
  },
  {
   "cell_type": "code",
   "execution_count": 168,
   "metadata": {},
   "outputs": [],
   "source": [
    "import numpy as np                                                     # numerical computing tools\n",
    "import pandas as pd                                                    # data science library\n",
    "\n",
    "import seaborn as sns                                                  # visualizations\n",
    "import matplotlib.pyplot as plt                                        # visualizations\n",
    "from IPython.display import set_matplotlib_formats\n",
    "\n",
    "from sklearn.preprocessing import StandardScaler, LabelBinarizer       # scaling, encoding binary label\n",
    "from sklearn.model_selection import train_test_split                   # train-test split\n",
    "\n",
    "# prediction models\n",
    "from sklearn.linear_model import LinearRegression, LogisticRegression, Ridge, Lasso\n",
    "from sklearn.svm import SVR, SVC\n",
    "from sklearn.neighbors import KNeighborsRegressor, KNeighborsClassifier\n",
    "from sklearn.ensemble import RandomForestClassifier\n",
    "from xgboost import XGBClassifier\n",
    "from sklearn.neural_network import MLPClassifier, MLPRegressor\n",
    "\n",
    "# metrics\n",
    "from sklearn.metrics import confusion_matrix\n",
    "from sklearn.metrics import r2_score\n",
    "\n",
    "# set a nice theme for plots\n",
    "sns.set_context(context='talk')"
   ]
  },
  {
   "cell_type": "code",
   "execution_count": 169,
   "metadata": {},
   "outputs": [],
   "source": [
    "import warnings\n",
    "warnings.filterwarnings('ignore')\n",
    "from sklearn.model_selection import train_test_split\n",
    "from sklearn.preprocessing import MinMaxScaler\n",
    "#from imblearn.over_sampling import SMOTE\n",
    "#from imblearn.under_sampling import TomekLinks\n",
    "#from imblearn.pipeline import Pipeline\n",
    "from sklearn.metrics import classification_report, confusion_matrix, roc_curve, auc, precision_recall_curve \n",
    "from xgboost import XGBClassifier\n",
    "from sklearn.model_selection import GridSearchCV\n",
    "from sklearn.metrics import make_scorer, roc_auc_score\n",
    "from sklearn.metrics import confusion_matrix, ConfusionMatrixDisplay\n",
    "from sklearn.model_selection import learning_curve"
   ]
  },
  {
   "cell_type": "code",
   "execution_count": 49,
   "metadata": {},
   "outputs": [],
   "source": [
    "import warnings\n",
    "warnings.filterwarnings('ignore')\n",
    "\n",
    "import pandas as pd\n",
    "import numpy as np\n",
    "\n",
    "# Import necessary libraries\n",
    "import matplotlib.pyplot as plt\n",
    "import seaborn as sns\n",
    "\n",
    "# Import necessary libraries for 3D plotting\n",
    "from mpl_toolkits.mplot3d import Axes3D\n",
    "from sklearn.preprocessing import LabelEncoder"
   ]
  },
  {
   "cell_type": "code",
   "execution_count": 50,
   "metadata": {},
   "outputs": [
    {
     "data": {
      "text/plain": [
       "XGBClassifier(alpha=10, base_score=0.5, booster='gbtree', callbacks=None,\n",
       "              colsample_bylevel=1, colsample_bynode=1, colsample_bytree=1,\n",
       "              early_stopping_rounds=None, enable_categorical=False,\n",
       "              eval_metric=None, gamma=0, gpu_id=-1, grow_policy='depthwise',\n",
       "              importance_type=None, interaction_constraints='',\n",
       "              learning_rate=1.0, max_bin=256, max_cat_to_onehot=4,\n",
       "              max_delta_step=0, max_depth=4, max_leaves=0, min_child_weight=1,\n",
       "              missing=nan, monotone_constraints='()', n_estimators=100,\n",
       "              n_jobs=0, num_parallel_tree=1, predictor='auto', random_state=0,\n",
       "              reg_alpha=10, ...)"
      ]
     },
     "execution_count": 50,
     "metadata": {},
     "output_type": "execute_result"
    }
   ],
   "source": [
    "import xgboost as xgb\n",
    "# import XGBClassifier\n",
    "from xgboost import XGBClassifier\n",
    "\n",
    "\n",
    "# declare parameters\n",
    "params = {\n",
    "            'objective':'binary:logistic',\n",
    "            'max_depth': 4,\n",
    "            'alpha': 10,\n",
    "            'learning_rate': 1.0,\n",
    "            'n_estimators':100\n",
    "        }         \n",
    "           \n",
    "          \n",
    "# instantiate the classifier \n",
    "xgb_clf = XGBClassifier(**params)\n",
    "\n",
    "\n",
    "# fit the classifier to the training data\n",
    "xgb_clf.fit(X_train, y_train)\n",
    "\n",
    "# Create the XGBoost classifier\n",
    "#clf = xgb.XGBClassifier(num_class=3, random_state=42)\n",
    "\n",
    "# Train the model\n",
    "#clf.fit(X_train, y_train)"
   ]
  },
  {
   "cell_type": "code",
   "execution_count": 51,
   "metadata": {},
   "outputs": [
    {
     "name": "stdout",
     "output_type": "stream",
     "text": [
      "              precision    recall  f1-score   support\n",
      "\n",
      "         0.0       0.94      1.00      0.97     68967\n",
      "         1.0       0.28      0.00      0.00      4268\n",
      "\n",
      "    accuracy                           0.94     73235\n",
      "   macro avg       0.61      0.50      0.49     73235\n",
      "weighted avg       0.90      0.94      0.91     73235\n",
      "\n"
     ]
    }
   ],
   "source": [
    "y_pred= xgb_clf.predict(X_test)\n",
    "from sklearn.metrics import classification_report\n",
    "\n",
    "print(classification_report(y_test, y_pred))"
   ]
  },
  {
   "cell_type": "code",
   "execution_count": 52,
   "metadata": {},
   "outputs": [],
   "source": [
    "import matplotlib.pyplot as plt  # for plotting facilities\n"
   ]
  },
  {
   "cell_type": "code",
   "execution_count": 53,
   "metadata": {},
   "outputs": [
    {
     "data": {
      "image/png": "[encoded data removed]",
      "text/plain": [
       "<Figure size 432x288 with 1 Axes>"
      ]
     },
     "metadata": {
      "needs_background": "light"
     },
     "output_type": "display_data"
    },
    {
     "data": {
      "text/plain": [
       "<Figure size 432x288 with 0 Axes>"
      ]
     },
     "metadata": {},
     "output_type": "display_data"
    }
   ],
   "source": [
    "xgb.plot_importance(xgb_clf)\n",
    "plt.figure()\n",
    "plt.show()"
   ]
  },
  {
   "cell_type": "markdown",
   "metadata": {},
   "source": [
    "# 4.3 Bayesian Optimization implementation ¶\n"
   ]
  },
  {
   "cell_type": "code",
   "execution_count": 54,
   "metadata": {},
   "outputs": [],
   "source": [
    "# import pandas for data wrangling\n",
    "import pandas as pd\n",
    "\n",
    "\n",
    "# import numpy for Scientific computations\n",
    "import numpy as np\n",
    "\n",
    "\n",
    "# import machine learning libraries\n",
    "import xgboost as xgb\n",
    "from sklearn.metrics import accuracy_score\n",
    "\n",
    "\n",
    "# import packages for hyperparameters tuning\n",
    "from hyperopt import STATUS_OK, Trials, fmin, hp, tpe\n"
   ]
  },
  {
   "cell_type": "code",
   "execution_count": 55,
   "metadata": {},
   "outputs": [],
   "source": [
    "space={'max_depth': hp.quniform(\"max_depth\", 3, 18, 1),\n",
    "        'gamma': hp.uniform ('gamma', 1,9),\n",
    "        'reg_alpha' : hp.quniform('reg_alpha', 40,180,1),\n",
    "        'reg_lambda' : hp.uniform('reg_lambda', 0,1),\n",
    "        'colsample_bytree' : hp.uniform('colsample_bytree', 0.5,1),\n",
    "        'min_child_weight' : hp.quniform('min_child_weight', 0, 10, 1),\n",
    "        'n_estimators': 180,\n",
    "        'seed': 0\n",
    "    }"
   ]
  },
  {
   "cell_type": "code",
   "execution_count": 56,
   "metadata": {},
   "outputs": [],
   "source": [
    "def objective(space):\n",
    "    clf=xgb.XGBClassifier(\n",
    "                    n_estimators =space['n_estimators'], max_depth = int(space['max_depth']), gamma = space['gamma'],\n",
    "                    reg_alpha = int(space['reg_alpha']),min_child_weight=int(space['min_child_weight']),\n",
    "                    colsample_bytree=int(space['colsample_bytree']))\n",
    "    \n",
    "    evaluation = [( X_train, y_train), ( X_test, y_test)]\n",
    "    \n",
    "    clf.fit(X_train, y_train,\n",
    "            eval_set=evaluation, eval_metric=\"auc\",\n",
    "            early_stopping_rounds=10,verbose=False)\n",
    "    \n",
    "\n",
    "    pred = clf.predict(X_test)\n",
    "    accuracy = accuracy_score(y_test, pred>0.5)\n",
    "    print (\"SCORE:\", accuracy)\n",
    "    return {'loss': -accuracy, 'status': STATUS_OK }"
   ]
  },
  {
   "cell_type": "code",
   "execution_count": 57,
   "metadata": {},
   "outputs": [
    {
     "name": "stdout",
     "output_type": "stream",
     "text": [
      "SCORE:                                                 \n",
      "0.9417218543046357                                     \n",
      "SCORE:                                                                            \n",
      "0.9417218543046357                                                                \n",
      "SCORE:                                                                            \n",
      "0.9417218543046357                                                                \n",
      "SCORE:                                                                            \n",
      "0.9417218543046357                                                                \n",
      "SCORE:                                                                            \n",
      "0.9417218543046357                                                                \n",
      "SCORE:                                                                            \n",
      "0.9417218543046357                                                                \n",
      "SCORE:                                                                            \n",
      "0.9417218543046357                                                                \n",
      "SCORE:                                                                            \n",
      "0.9417218543046357                                                                \n",
      "SCORE:                                                                            \n",
      "0.9417218543046357                                                                \n",
      "SCORE:                                                                            \n",
      "0.9417218543046357                                                                \n",
      "SCORE:                                                                             \n",
      "0.9417218543046357                                                                 \n",
      "SCORE:                                                                             \n",
      "0.9417218543046357                                                                 \n",
      "SCORE:                                                                             \n",
      "0.9417218543046357                                                                 \n",
      "SCORE:                                                                             \n",
      "0.9417218543046357                                                                 \n",
      "SCORE:                                                                             \n",
      "0.9417218543046357                                                                 \n",
      "SCORE:                                                                             \n",
      "0.9417218543046357                                                                 \n",
      "SCORE:                                                                             \n",
      "0.9417218543046357                                                                 \n",
      "SCORE:                                                                             \n",
      "0.9417218543046357                                                                 \n",
      "SCORE:                                                                             \n",
      "0.9417218543046357                                                                 \n",
      "SCORE:                                                                             \n",
      "0.9417218543046357                                                                 \n",
      "SCORE:                                                                             \n",
      "0.9417218543046357                                                                 \n",
      "SCORE:                                                                             \n",
      "0.9417218543046357                                                                 \n",
      "SCORE:                                                                             \n",
      "0.9417218543046357                                                                 \n",
      "SCORE:                                                                             \n",
      "0.9417218543046357                                                                 \n",
      "SCORE:                                                                             \n",
      "0.9417218543046357                                                                 \n",
      "SCORE:                                                                             \n",
      "0.9417218543046357                                                                 \n",
      "SCORE:                                                                             \n",
      "0.9417218543046357                                                                 \n",
      "SCORE:                                                                             \n",
      "0.9417218543046357                                                                 \n",
      "SCORE:                                                                             \n",
      "0.9417218543046357                                                                 \n",
      "SCORE:                                                                             \n",
      "0.9417218543046357                                                                 \n",
      "SCORE:                                                                             \n",
      "0.9417218543046357                                                                 \n",
      "SCORE:                                                                             \n",
      "0.9417218543046357                                                                 \n",
      "SCORE:                                                                             \n",
      "0.9417218543046357                                                                 \n",
      "SCORE:                                                                             \n",
      "0.9417218543046357                                                                 \n",
      "SCORE:                                                                             \n",
      "0.9417218543046357                                                                 \n",
      "SCORE:                                                                             \n",
      "0.9417218543046357                                                                 \n",
      "SCORE:                                                                             \n",
      "0.9417218543046357                                                                 \n",
      "SCORE:                                                                             \n",
      "0.9417218543046357                                                                 \n",
      "SCORE:                                                                             \n",
      "0.9417218543046357                                                                 \n",
      "SCORE:                                                                             \n",
      "0.9417218543046357                                                                 \n",
      "SCORE:                                                                             \n",
      "0.9417218543046357                                                                 \n",
      "SCORE:                                                                             \n",
      "0.9417218543046357                                                                 \n",
      "SCORE:                                                                             \n",
      "0.9417218543046357                                                                 \n",
      "SCORE:                                                                             \n",
      "0.9417218543046357                                                                 \n",
      "SCORE:                                                                             \n",
      "0.9417218543046357                                                                 \n",
      "SCORE:                                                                             \n",
      "0.9417218543046357                                                                 \n",
      "SCORE:                                                                             \n",
      "0.9417218543046357                                                                 \n",
      "SCORE:                                                                             \n",
      "0.9417218543046357                                                                 \n",
      "SCORE:                                                                             \n",
      "0.9417218543046357                                                                 \n",
      "SCORE:                                                                             \n",
      "0.9417218543046357                                                                 \n",
      "SCORE:                                                                             \n",
      "0.9417218543046357                                                                 \n",
      "SCORE:                                                                             \n",
      "0.9417218543046357                                                                 \n",
      "SCORE:                                                                             \n",
      "0.9417218543046357                                                                 \n",
      "SCORE:                                                                             \n",
      "0.9417218543046357                                                                 \n",
      "SCORE:                                                                             \n",
      "0.9417218543046357                                                                 \n",
      "SCORE:                                                                             \n",
      "0.9417218543046357                                                                 \n",
      "SCORE:                                                                             \n",
      "0.9417218543046357                                                                 \n",
      "SCORE:                                                                             \n",
      "0.9417218543046357                                                                 \n",
      "SCORE:                                                                             \n",
      "0.9417218543046357                                                                 \n",
      "SCORE:                                                                             \n",
      "0.9417218543046357                                                                 \n",
      "SCORE:                                                                             \n",
      "0.9417218543046357                                                                 \n",
      "SCORE:                                                                             \n",
      "0.9417218543046357                                                                 \n",
      "SCORE:                                                                             \n",
      "0.9417218543046357                                                                 \n",
      "SCORE:                                                                             \n",
      "0.9417218543046357                                                                 \n",
      "SCORE:                                                                             \n",
      "0.9417218543046357                                                                 \n",
      "SCORE:                                                                             \n",
      "0.9417218543046357                                                                 \n",
      "SCORE:                                                                             \n",
      "0.9417218543046357                                                                 \n",
      "SCORE:                                                                             \n",
      "0.9417218543046357                                                                 \n",
      "SCORE:                                                                             \n",
      "0.9417218543046357                                                                 \n",
      "SCORE:                                                                             \n",
      "0.9417218543046357                                                                 \n",
      "SCORE:                                                                             \n",
      "0.9417218543046357                                                                 \n",
      "SCORE:                                                                             \n",
      "0.9417218543046357                                                                 \n",
      "SCORE:                                                                             \n",
      "0.9417218543046357                                                                 \n",
      "SCORE:                                                                             \n",
      "0.9417218543046357                                                                 \n",
      "SCORE:                                                                             \n",
      "0.9417218543046357                                                                 \n",
      "SCORE:                                                                             \n",
      "0.9417218543046357                                                                 \n",
      "SCORE:                                                                             \n",
      "0.9417218543046357                                                                 \n",
      "SCORE:                                                                             \n",
      "0.9417218543046357                                                                 \n",
      "SCORE:                                                                             \n",
      "0.9417218543046357                                                                 \n",
      "SCORE:                                                                             \n",
      "0.9417218543046357                                                                 \n",
      "SCORE:                                                                             \n",
      "0.9417218543046357                                                                 \n",
      "SCORE:                                                                             \n",
      "0.9417218543046357                                                                 \n",
      "SCORE:                                                                             \n",
      "0.9417218543046357                                                                 \n",
      "SCORE:                                                                             \n",
      "0.9417218543046357                                                                 \n",
      "SCORE:                                                                             \n",
      "0.9417218543046357                                                                 \n",
      "SCORE:                                                                             \n",
      "0.9417218543046357                                                                 \n",
      "SCORE:                                                                             \n",
      "0.9417218543046357                                                                 \n",
      "SCORE:                                                                             \n",
      "0.9417218543046357                                                                 \n",
      "SCORE:                                                                             \n",
      "0.9417218543046357                                                                 \n",
      "SCORE:                                                                             \n",
      "0.9417218543046357                                                                 \n",
      "SCORE:                                                                             \n",
      "0.9417218543046357                                                                 \n",
      "SCORE:                                                                             \n",
      "0.9417218543046357                                                                 \n",
      "SCORE:                                                                             \n",
      "0.9417218543046357                                                                 \n",
      "SCORE:                                                                             \n",
      "0.9417218543046357                                                                 \n",
      "SCORE:                                                                             \n",
      "0.9417218543046357                                                                 \n",
      "SCORE:                                                                             \n",
      "0.9417218543046357                                                                 \n",
      "SCORE:                                                                             \n",
      "0.9417218543046357                                                                 \n",
      "SCORE:                                                                             \n",
      "0.9417218543046357                                                                 \n",
      "SCORE:                                                                             \n",
      "0.9417218543046357                                                                 \n",
      "SCORE:                                                                             \n",
      "0.9417218543046357                                                                 \n",
      "100%|██████████| 100/100 [04:34<00:00,  2.75s/trial, best loss: -0.9417218543046357]\n"
     ]
    }
   ],
   "source": [
    "trials = Trials()\n",
    "\n",
    "best_hyperparams = fmin(fn = objective,\n",
    "                        space = space,\n",
    "                        algo = tpe.suggest,\n",
    "                        max_evals = 100,\n",
    "                        trials = trials)"
   ]
  },
  {
   "cell_type": "code",
   "execution_count": 58,
   "metadata": {},
   "outputs": [
    {
     "name": "stdout",
     "output_type": "stream",
     "text": [
      "The best hyperparameters are :  \n",
      "\n",
      "{'colsample_bytree': 0.755133708461903, 'gamma': 4.318075586631294, 'max_depth': 11.0, 'min_child_weight': 0.0, 'reg_alpha': 72.0, 'reg_lambda': 0.19932230561732112}\n"
     ]
    }
   ],
   "source": [
    "print(\"The best hyperparameters are : \",\"\\n\")\n",
    "print(best_hyperparams)"
   ]
  },
  {
   "cell_type": "code",
   "execution_count": 60,
   "metadata": {},
   "outputs": [
    {
     "data": {
      "text/plain": [
       "XGBClassifier(base_score=0.5, booster='gbtree', callbacks=None,\n",
       "              colsample_bylevel=1, colsample_bynode=1,\n",
       "              colsample_bytree=0.755133708461903, early_stopping_rounds=None,\n",
       "              enable_categorical=False, eval_metric=None,\n",
       "              gamma=4.318075586631294, gpu_id=-1, grow_policy='depthwise',\n",
       "              importance_type=None, interaction_constraints='',\n",
       "              learning_rate=0.300000012, max_bin=256, max_cat_to_onehot=4,\n",
       "              max_delta_step=0, max_depth=11, max_leaves=0,\n",
       "              min_child_weight=0.0, missing=nan, monotone_constraints='()',\n",
       "              n_estimators=100, n_jobs=0, num_parallel_tree=1, predictor='auto',\n",
       "              random_state=0, reg_alpha=72.0, reg_lambda=0.19932230561732112, ...)"
      ]
     },
     "execution_count": 60,
     "metadata": {},
     "output_type": "execute_result"
    }
   ],
   "source": [
    "import xgboost as xgb\n",
    "# import XGBClassifier\n",
    "from xgboost import XGBClassifier\n",
    "\n",
    "\n",
    "# declare parameters\n",
    "params = {'colsample_bytree': 0.755133708461903, 'gamma': 4.318075586631294, 'max_depth': 11, 'min_child_weight': 0.0, 'reg_alpha': 72.0, 'reg_lambda': 0.19932230561732112}         \n",
    "           \n",
    "          \n",
    "# instantiate the classifier \n",
    "xgb_clf = XGBClassifier(**params)\n",
    "\n",
    "\n",
    "# fit the classifier to the training data\n",
    "xgb_clf.fit(X_train, y_train)"
   ]
  },
  {
   "cell_type": "code",
   "execution_count": 61,
   "metadata": {},
   "outputs": [
    {
     "name": "stdout",
     "output_type": "stream",
     "text": [
      "              precision    recall  f1-score   support\n",
      "\n",
      "         0.0       0.94      1.00      0.97     68967\n",
      "         1.0       0.00      0.00      0.00      4268\n",
      "\n",
      "    accuracy                           0.94     73235\n",
      "   macro avg       0.47      0.50      0.48     73235\n",
      "weighted avg       0.89      0.94      0.91     73235\n",
      "\n"
     ]
    }
   ],
   "source": [
    "y_pred= xgb_clf.predict(X_test)\n",
    "from sklearn.metrics import classification_report\n",
    "\n",
    "print(classification_report(y_test, y_pred))"
   ]
  },
  {
   "cell_type": "code",
   "execution_count": 62,
   "metadata": {},
   "outputs": [
    {
     "data": {
      "image/png": "[encoded data removed]",
      "text/plain": [
       "<Figure size 432x288 with 1 Axes>"
      ]
     },
     "metadata": {
      "needs_background": "light"
     },
     "output_type": "display_data"
    },
    {
     "data": {
      "text/plain": [
       "<Figure size 432x288 with 0 Axes>"
      ]
     },
     "metadata": {},
     "output_type": "display_data"
    }
   ],
   "source": [
    "xgb.plot_importance(xgb_clf)\n",
    "plt.figure()\n",
    "plt.show()"
   ]
  },
  {
   "cell_type": "code",
   "execution_count": 63,
   "metadata": {},
   "outputs": [
    {
     "name": "stdout",
     "output_type": "stream",
     "text": [
      "Accuracy scores: [0.        0.0007761 0.        0.        0.       ]\n",
      "Mean accuracy: 0.00\n",
      "Standard deviation: 0.00\n"
     ]
    }
   ],
   "source": [
    "import numpy as np\n",
    "from sklearn.ensemble import RandomForestClassifier\n",
    "from sklearn.datasets import make_classification\n",
    "from sklearn.model_selection import cross_val_score\n",
    "\n",
    "\n",
    "# Perform 5-fold cross-validation\n",
    "scores = cross_val_score(xgb_clf, X, y, cv=5, scoring='recall')\n",
    "\n",
    "# Print the results\n",
    "print(f\"Accuracy scores: {scores}\")\n",
    "print(f\"Mean accuracy: {np.mean(scores):.2f}\")\n",
    "print(f\"Standard deviation: {np.std(scores):.2f}\")"
   ]
  },
  {
   "cell_type": "code",
   "execution_count": null,
   "metadata": {},
   "outputs": [],
   "source": []
  },
  {
   "cell_type": "code",
   "execution_count": null,
   "metadata": {},
   "outputs": [],
   "source": []
  },
  {
   "cell_type": "code",
   "execution_count": 66,
   "metadata": {},
   "outputs": [
    {
     "name": "stdout",
     "output_type": "stream",
     "text": [
      "Accuracy scores: [0. 1. 0. 0. 0.]\n",
      "Mean accuracy: 0.20\n",
      "Standard deviation: 0.40\n"
     ]
    }
   ],
   "source": [
    "import numpy as np\n",
    "from sklearn.ensemble import RandomForestClassifier\n",
    "from sklearn.datasets import make_classification\n",
    "from sklearn.model_selection import cross_val_score\n",
    "\n",
    "\n",
    "# Perform 5-fold cross-validation\n",
    "scores = cross_val_score(xgb_clf, X, y, cv=5, scoring='precision')\n",
    "\n",
    "# Print the results\n",
    "print(f\"Accuracy scores: {scores}\")\n",
    "print(f\"Mean accuracy: {np.mean(scores):.2f}\")\n",
    "print(f\"Standard deviation: {np.std(scores):.2f}\")"
   ]
  },
  {
   "cell_type": "code",
   "execution_count": 65,
   "metadata": {},
   "outputs": [
    {
     "name": "stdout",
     "output_type": "stream",
     "text": [
      "Accuracy scores: [0.         0.00155099 0.         0.         0.        ]\n",
      "Mean accuracy: 0.00\n",
      "Standard deviation: 0.00\n"
     ]
    }
   ],
   "source": [
    "import numpy as np\n",
    "from sklearn.ensemble import RandomForestClassifier\n",
    "from sklearn.datasets import make_classification\n",
    "from sklearn.model_selection import cross_val_score\n",
    "\n",
    "\n",
    "# Perform 5-fold cross-validation\n",
    "scores = cross_val_score(xgb_clf, X, y, cv=5, scoring='f1')\n",
    "\n",
    "# Print the results\n",
    "print(f\"Accuracy scores: {scores}\")\n",
    "print(f\"Mean accuracy: {np.mean(scores):.2f}\")\n",
    "print(f\"Standard deviation: {np.std(scores):.2f}\")"
   ]
  },
  {
   "cell_type": "code",
   "execution_count": 64,
   "metadata": {},
   "outputs": [
    {
     "name": "stdout",
     "output_type": "stream",
     "text": [
      "Accuracy scores: [0.78327923 0.79945836 0.81498467 0.79868846 0.79960716]\n",
      "Mean accuracy: 0.80\n",
      "Standard deviation: 0.01\n"
     ]
    }
   ],
   "source": [
    "import numpy as np\n",
    "from sklearn.ensemble import RandomForestClassifier\n",
    "from sklearn.datasets import make_classification\n",
    "from sklearn.model_selection import cross_val_score\n",
    "\n",
    "\n",
    "# Perform 5-fold cross-validation\n",
    "scores = cross_val_score(xgb_clf, X, y, cv=5, scoring='roc_auc')\n",
    "\n",
    "# Print the results\n",
    "print(f\"Accuracy scores: {scores}\")\n",
    "print(f\"Mean accuracy: {np.mean(scores):.2f}\")\n",
    "print(f\"Standard deviation: {np.std(scores):.2f}\")"
   ]
  },
  {
   "cell_type": "markdown",
   "metadata": {},
   "source": [
    "# SMOTE XGBOOST "
   ]
  },
  {
   "cell_type": "code",
   "execution_count": 114,
   "metadata": {},
   "outputs": [],
   "source": [
    "from sklearn.model_selection import train_test_split\n",
    "\n",
    "# Apply SMOTE to oversample the minority class\n",
    "smote = SMOTE(random_state=42)\n",
    "X_resampled, y_resampled = smote.fit_resample(X, y)\n",
    "\n",
    "# Split the resampled data into train and test sets\n",
    "X_train, X_test, y_train, y_test = train_test_split(X_resampled, y_resampled, test_size=0.2, random_state=42)"
   ]
  },
  {
   "cell_type": "code",
   "execution_count": 116,
   "metadata": {},
   "outputs": [
    {
     "name": "stdout",
     "output_type": "stream",
     "text": [
      "              precision    recall  f1-score   support\n",
      "\n",
      "         0.0       0.90      0.93      0.91     41921\n",
      "         1.0       0.92      0.90      0.91     41695\n",
      "\n",
      "    accuracy                           0.91     83616\n",
      "   macro avg       0.91      0.91      0.91     83616\n",
      "weighted avg       0.91      0.91      0.91     83616\n",
      "\n"
     ]
    }
   ],
   "source": [
    "y_pred= xgb_clf.predict(X_test)\n",
    "from sklearn.metrics import classification_report\n",
    "\n",
    "print(classification_report(y_test, y_pred))"
   ]
  },
  {
   "cell_type": "code",
   "execution_count": 121,
   "metadata": {},
   "outputs": [
    {
     "name": "stdout",
     "output_type": "stream",
     "text": [
      "Accuracy scores: [0.89302862 0.98552948 0.98669781 0.986875   0.98611701]\n",
      "Mean accuracy: 0.97\n",
      "Standard deviation: 0.04\n"
     ]
    }
   ],
   "source": [
    "import numpy as np\n",
    "from sklearn.ensemble import RandomForestClassifier\n",
    "from sklearn.datasets import make_classification\n",
    "from sklearn.model_selection import cross_val_score\n",
    "\n",
    "\n",
    "# Perform 5-fold cross-validation\n",
    "scores = cross_val_score(xgb_clf, X_resampled, y_resampled, cv=5, scoring='roc_auc')\n",
    "\n",
    "# Print the results\n",
    "print(f\"Accuracy scores: {scores}\")\n",
    "print(f\"Mean accuracy: {np.mean(scores):.2f}\")\n",
    "print(f\"Standard deviation: {np.std(scores):.2f}\")"
   ]
  },
  {
   "cell_type": "code",
   "execution_count": 122,
   "metadata": {},
   "outputs": [
    {
     "name": "stdout",
     "output_type": "stream",
     "text": [
      "Accuracy scores: [0.79257778 0.93086059 0.93178337 0.93458854 0.93211909]\n",
      "Mean accuracy: 0.90\n",
      "Standard deviation: 0.06\n"
     ]
    }
   ],
   "source": [
    "import numpy as np\n",
    "from sklearn.ensemble import RandomForestClassifier\n",
    "from sklearn.datasets import make_classification\n",
    "from sklearn.model_selection import cross_val_score\n",
    "\n",
    "\n",
    "# Perform 5-fold cross-validation\n",
    "scores = cross_val_score(xgb_clf, X_resampled, y_resampled, cv=5, scoring='f1')\n",
    "\n",
    "# Print the results\n",
    "print(f\"Accuracy scores: {scores}\")\n",
    "print(f\"Mean accuracy: {np.mean(scores):.2f}\")\n",
    "print(f\"Standard deviation: {np.std(scores):.2f}\")"
   ]
  },
  {
   "cell_type": "code",
   "execution_count": 123,
   "metadata": {},
   "outputs": [
    {
     "name": "stdout",
     "output_type": "stream",
     "text": [
      "Accuracy scores: [0.70137294 0.93824148 0.93848067 0.94154089 0.94132702]\n",
      "Mean accuracy: 0.89\n",
      "Standard deviation: 0.10\n"
     ]
    }
   ],
   "source": [
    "import numpy as np\n",
    "from sklearn.ensemble import RandomForestClassifier\n",
    "from sklearn.datasets import make_classification\n",
    "from sklearn.model_selection import cross_val_score\n",
    "\n",
    "\n",
    "# Perform 5-fold cross-validation\n",
    "scores = cross_val_score(xgb_clf, X_resampled, y_resampled, cv=5, scoring='recall')\n",
    "\n",
    "# Print the results\n",
    "print(f\"Accuracy scores: {scores}\")\n",
    "print(f\"Mean accuracy: {np.mean(scores):.2f}\")\n",
    "print(f\"Standard deviation: {np.std(scores):.2f}\")"
   ]
  },
  {
   "cell_type": "code",
   "execution_count": 124,
   "metadata": {},
   "outputs": [
    {
     "name": "stdout",
     "output_type": "stream",
     "text": [
      "Accuracy scores: [0.91104828 0.92359492 0.92518098 0.9277381  0.92308955]\n",
      "Mean accuracy: 0.92\n",
      "Standard deviation: 0.01\n"
     ]
    }
   ],
   "source": [
    "import numpy as np\n",
    "from sklearn.ensemble import RandomForestClassifier\n",
    "from sklearn.datasets import make_classification\n",
    "from sklearn.model_selection import cross_val_score\n",
    "\n",
    "\n",
    "# Perform 5-fold cross-validation\n",
    "scores = cross_val_score(xgb_clf, X_resampled, y_resampled, cv=5, scoring='precision')\n",
    "\n",
    "# Print the results\n",
    "print(f\"Accuracy scores: {scores}\")\n",
    "print(f\"Mean accuracy: {np.mean(scores):.2f}\")\n",
    "print(f\"Standard deviation: {np.std(scores):.2f}\")"
   ]
  },
  {
   "cell_type": "code",
   "execution_count": null,
   "metadata": {},
   "outputs": [],
   "source": []
  },
  {
   "cell_type": "code",
   "execution_count": 173,
   "metadata": {},
   "outputs": [
    {
     "data": {
      "image/png": "[encoded data removed]",
      "text/plain": [
       "<Figure size 432x288 with 1 Axes>"
      ]
     },
     "metadata": {
      "needs_background": "light"
     },
     "output_type": "display_data"
    }
   ],
   "source": [
    "y_pred_proba = xg.predict_proba(X_test)[::,1]\n",
    "fpr, tpr, _ = metrics.roc_curve(y_test,  y_pred_proba)\n",
    "auc = metrics.roc_auc_score(y_test, y_pred_proba)\n",
    "\n",
    "#create ROC curve\n",
    "plt.plot(fpr,tpr,label=\"AUC=\"+str(auc))\n",
    "plt.ylabel('True Positive Rate')\n",
    "plt.xlabel('False Positive Rate')\n",
    "plt.legend(loc=4)\n",
    "plt.show()"
   ]
  },
  {
   "cell_type": "code",
   "execution_count": null,
   "metadata": {},
   "outputs": [],
   "source": []
  },
  {
   "cell_type": "code",
   "execution_count": null,
   "metadata": {},
   "outputs": [],
   "source": []
  },
  {
   "cell_type": "markdown",
   "metadata": {},
   "source": [
    "# تا اینجا نوشته شده ، سوالاتی که هست آیا میشه دقت رو بالاتر برد من پارامتر تیونینگ کردم دقت بهتر شد اما ترو نگتیو صفر شد هم تو اس وی ام و هم در رندوم فارست. خلاصه برای داده های ایمبالانس چ کنیم؟!!!!"
   ]
  },
  {
   "cell_type": "markdown",
   "metadata": {},
   "source": [
    "# دو تا روش SMOTE و\n",
    " ویکی دیگه که اسمش رو فراموش کردم وجود داره\n",
    "و در نهایت یدونه راک کرو که همشون رو بذاره  بغل هم"
   ]
  },
  {
   "cell_type": "code",
   "execution_count": 175,
   "metadata": {},
   "outputs": [],
   "source": [
    "def plot_cf_matrix(y_test, y_pred, title=\"Confusion matrix\"):\n",
    "    \n",
    "    cf_matrix = confusion_matrix(y_test, y_pred)\n",
    "    counts = cf_matrix.flatten()\n",
    "    fields = [\"True Negative\",\"False Positive\",\"False Negative\",\"True Positive\"]\n",
    "    ticks = [\"No\", \"Yes\"]\n",
    "    \n",
    "    # merge field labels with the corresponding numbers\n",
    "    labels = np.asarray([\"{}\\n{}\".format(x[0], x[1]) for x in zip(fields, counts)]).reshape(2,2)\n",
    "    \n",
    "    # print(labels)\n",
    "    \n",
    "    # plot settings\n",
    "    %matplotlib inline\n",
    "    set_matplotlib_formats('retina')\n",
    "    sns.set(font_scale=.98)\n",
    "    fig = plt.figure(figsize=(3,3), dpi= 100)\n",
    "\n",
    "    # plot\n",
    "    sns.heatmap(cf_matrix,\n",
    "                annot=labels, fmt='', xticklabels=ticks, yticklabels=ticks,\n",
    "                cmap=\"Blues\", cbar=False,)\n",
    "\n",
    "    # set labels and title\n",
    "    plt.xlabel(\"Predicted\")\n",
    "    plt.ylabel(\"Actual\")\n",
    "    plt.title(title, fontweight=\"bold\")\n",
    "    \n",
    "    plt.show()"
   ]
  },
  {
   "cell_type": "code",
   "execution_count": null,
   "metadata": {},
   "outputs": [],
   "source": []
  },
  {
   "cell_type": "code",
   "execution_count": 176,
   "metadata": {},
   "outputs": [
    {
     "name": "stderr",
     "output_type": "stream",
     "text": [
      "/home/mi3/anaconda3/lib/python3.7/site-packages/sklearn/linear_model/_logistic.py:940: ConvergenceWarning: lbfgs failed to converge (status=1):\n",
      "STOP: TOTAL NO. of ITERATIONS REACHED LIMIT.\n",
      "\n",
      "Increase the number of iterations (max_iter) or scale the data as shown in:\n",
      "    https://scikit-learn.org/stable/modules/preprocessing.html\n",
      "Please also refer to the documentation for alternative solver options:\n",
      "    https://scikit-learn.org/stable/modules/linear_model.html#logistic-regression\n",
      "  extra_warning_msg=_LOGISTIC_SOLVER_CONVERGENCE_MSG)\n"
     ]
    }
   ],
   "source": [
    "# fit the model to training data\n",
    "clf = LogisticRegression(C = 0.2).fit(X_train, y_train)\n",
    "# predict\n",
    "result = pd.DataFrame(y_test)\n",
    "result[\"prediction\"] = clf.predict(X_test)"
   ]
  },
  {
   "cell_type": "code",
   "execution_count": null,
   "metadata": {},
   "outputs": [],
   "source": []
  },
  {
   "cell_type": "code",
   "execution_count": 177,
   "metadata": {},
   "outputs": [
    {
     "data": {
      "image/png": "[encoded data removed]",
      "text/plain": [
       "<Figure size 300x300 with 1 Axes>"
      ]
     },
     "metadata": {
      "image/png": {
       "height": 315,
       "width": 301
      }
     },
     "output_type": "display_data"
    }
   ],
   "source": [
    "plot_cf_matrix(y_test, clf.predict(X_test), \"Logistic regression\")"
   ]
  },
  {
   "cell_type": "code",
   "execution_count": 420,
   "metadata": {},
   "outputs": [
    {
     "data": {
      "image/png": "[encoded data removed]",
      "text/plain": [
       "<Figure size 300x300 with 1 Axes>"
      ]
     },
     "metadata": {
      "image/png": {
       "height": 315,
       "width": 326
      }
     },
     "output_type": "display_data"
    }
   ],
   "source": [
    "# fit the model to training data\n",
    "clf = SVC(kernel='rbf', C = 0.8).fit(X_train, y_train)\n",
    "title = \"SVM (support vector machine)\"\n",
    "\n",
    "plot_cf_matrix(y_test=y_test, y_pred = clf.predict(X_test), title = \"Support vector machine (SVM)\")"
   ]
  },
  {
   "cell_type": "code",
   "execution_count": 417,
   "metadata": {},
   "outputs": [
    {
     "data": {
      "image/png": "[encoded data removed]",
      "text/plain": [
       "<Figure size 300x300 with 1 Axes>"
      ]
     },
     "metadata": {
      "image/png": {
       "height": 315,
       "width": 301
      }
     },
     "output_type": "display_data"
    }
   ],
   "source": [
    "clf = RandomForestClassifier(n_estimators = 100).fit(X_train, y_train)\n",
    "title = \"Random forest\"\n",
    "\n",
    "plot_cf_matrix(y_test=y_test, y_pred = clf.predict(X_test), title = \"Random forest\")"
   ]
  },
  {
   "cell_type": "code",
   "execution_count": null,
   "metadata": {},
   "outputs": [],
   "source": []
  },
  {
   "cell_type": "code",
   "execution_count": 226,
   "metadata": {},
   "outputs": [],
   "source": [
    "import numpy as np     # numerical computing tools\n",
    "import pandas as pd    # data science library\n",
    "\n",
    "# visualizations\n",
    "import seaborn as sns\n",
    "import matplotlib.pyplot as plt\n",
    "from IPython.display import set_matplotlib_formats\n",
    "\n",
    "# scaling\n",
    "from sklearn.preprocessing import StandardScaler\n",
    "\n",
    "# prediction models\n",
    "from sklearn.linear_model import LogisticRegression\n",
    "from sklearn.svm import SVC\n",
    "from sklearn.neighbors import KNeighborsClassifier\n",
    "from sklearn.ensemble import RandomForestClassifier\n",
    "#from xgboost import XGBClassifier\n",
    "from sklearn.neural_network import MLPClassifier\n",
    "\n",
    "# feature selection\n",
    "from sklearn.feature_selection import SelectKBest, RFE\n",
    "\n",
    "# metrics\n",
    "from sklearn.metrics import plot_roc_curve, roc_auc_score, auc, confusion_matrix\n",
    "from sklearn.model_selection import StratifiedKFold, train_test_split\n",
    "\n",
    "# do not show Convergence warning when MLP cannot be trained well\n",
    "from warnings import simplefilter\n",
    "from sklearn.exceptions import ConvergenceWarning\n",
    "simplefilter(\"ignore\", category=ConvergenceWarning)\n",
    "\n",
    "# ceil function to round numbers up (for visualizations)\n",
    "from math import ceil\n",
    "\n",
    "set_matplotlib_formats(\"retina\")"
   ]
  },
  {
   "cell_type": "code",
   "execution_count": null,
   "metadata": {},
   "outputs": [],
   "source": []
  },
  {
   "cell_type": "code",
   "execution_count": 227,
   "metadata": {},
   "outputs": [],
   "source": [
    "# repeat CV n times and return mean AUC value for each model\n",
    "# analyze=True plots the results as well\n",
    "def repeat_CV_get_AUC(models, names, n, X, y, silent = True, analyze = False, title=\"\"):\n",
    "    \n",
    "    # used later so that each of the 15 cross validations is the same for each model\n",
    "    random_states = np.random.randint(10000, size = n)\n",
    "    \n",
    "    # variable to store mean AUCs from each CV\n",
    "    mean_AUCs = {names[i]:None for i in range(len(names))}\n",
    "    \n",
    "    for clf, name in zip(models, names):\n",
    "        mean_AUCs_model = []\n",
    "        silent or print(f\"{name: <25}\", end = \"\")\n",
    "        for j in range(n):\n",
    "            cv = StratifiedKFold(n_splits=5, random_state = random_states[j], shuffle=True)\n",
    "            mean_AUCs_model.append(get_AUC_CV(clf, cv, X, y))\n",
    "            silent or print(\"*\", end = \"\")\n",
    "        silent or print()\n",
    "        mean_AUCs[name] = mean_AUCs_model\n",
    "        \n",
    "    if silent: print(\"\", end=\"\")\n",
    "        \n",
    "    mean_AUCs = pd.DataFrame(mean_AUCs)    \n",
    "    if analyze:\n",
    "        analyze_mean_AUCs(mean_AUCs, n, title=title)\n",
    "    return pd.DataFrame(mean_AUCs)"
   ]
  },
  {
   "cell_type": "code",
   "execution_count": 228,
   "metadata": {},
   "outputs": [],
   "source": [
    "# returns mean AUC\n",
    "def get_AUC_CV(clf, cv, X, y):\n",
    "    aucs = []  # save auc value for each fold (to calculate the mean)\n",
    "\n",
    "    for i, (train, test) in enumerate(cv.split(X, y)):  \n",
    "        clf.fit(X.iloc[train], y.iloc[train])\n",
    "        y_probas = clf.predict_proba(X.iloc[test])[:,1]\n",
    "        aucs.append(roc_auc_score(y.iloc[test], y_probas))\n",
    "    \n",
    "    mean_auc = np.mean(aucs)\n",
    "    \n",
    "    return mean_auc"
   ]
  },
  {
   "cell_type": "code",
   "execution_count": 229,
   "metadata": {},
   "outputs": [],
   "source": [
    "def analyze_mean_AUCs(mean_AUCs, n, title=\"\", swarm_only=True):\n",
    "    # convert to so-called long format\n",
    "    processed = pd.melt(mean_AUCs, value_vars=mean_AUCs.columns)\n",
    "    \n",
    "    # get median of mean AUCs across CVs \n",
    "    medians = processed.groupby(\"variable\").median().sort_values(by='value', ascending=False).reset_index()\n",
    "    # round up\n",
    "    medians.iloc[:,1] = np.round(medians.iloc[:,1], decimals=3)\n",
    "    medians.columns = [\"model\", f\"median of AUC means ({n} cross-validations)\"]\n",
    "    display(medians)\n",
    "    \n",
    "    # get tick labels for swarmplot (show median of AUC means)\n",
    "    medians.sort_values(by = \"model\", inplace=True)\n",
    "    names, values = medians.iloc[:,0], medians.iloc[:,1]\n",
    "    #new_labels = [f\"{uno}\\n(median={due})\" for uno, due in zip(names, values)]\n",
    "    new_labels = [f\"{uno}\\n({due})\" for uno, due in zip(names, values)]\n",
    "    \n",
    "    # set axes limits and title\n",
    "    ylim = (.75, .95)\n",
    "    yticks = np.arange(.75, .951, 0.05).round(2)\n",
    "    if title:\n",
    "        title = f\"{title}, {n} cross-validations\"\n",
    "    else:\n",
    "        title = f\"Mean AUCs, {n} cross-validations\"\n",
    "     \n",
    "    # swarmplot\n",
    "    plt.figure(figsize=(6,6), dpi=75)\n",
    "    sns.set_theme(context=\"notebook\", style=\"whitegrid\")\n",
    "    ax = sns.swarmplot(data = processed, x=\"variable\", y = \"value\")\n",
    "\n",
    "    plt.xlabel(\"Model\", fontweight=\"bold\", labelpad=10)\n",
    "    plt.ylabel(\"Mean AUC\", fontweight=\"bold\", labelpad=10)\n",
    "    plt.title(title, fontweight=\"bold\")\n",
    "    \n",
    "    plt.ylim(ylim)\n",
    "    plt.yticks(yticks)\n",
    "    ax.set_xticklabels(new_labels)\n",
    "    plt.show()\n",
    "    \n",
    "    if swarm_only:\n",
    "        return\n",
    "    \n",
    "    #boxplot\n",
    "    plt.figure(figsize=(8,8))\n",
    "    sns.set_theme(context=\"notebook\", style=\"whitegrid\")\n",
    "    box_plot = sns.boxplot(data = processed, x=\"variable\", y = \"value\")\n",
    "\n",
    "    medians = processed.groupby(\"variable\").median()\n",
    "    vertical_offset = processed.groupby(\"variable\").median() * 0.005 # offset from median for display\n",
    "\n",
    "    for xtick in box_plot.get_xticks():\n",
    "        box_plot.text(xtick, medians.value[xtick]+.0013, f\"{medians.value[xtick]:.3f}\", \n",
    "                horizontalalignment='center',size='x-small',color='white',weight='bold')\n",
    "\n",
    "    plt.xlabel(\"Model\", fontweight=\"bold\", labelpad=10)\n",
    "    plt.ylabel(\"Mean AUC\", fontweight=\"bold\", labelpad=10)\n",
    "    plt.title(title, fontweight=\"bold\")\n",
    "\n",
    "    plt.ylim(ylim)\n",
    "    plt.yticks(yticks)\n",
    "    plt.show()\n",
    "\n",
    "    #violin plot\n",
    "    plt.figure(figsize=(8,8))\n",
    "    sns.set_theme(context=\"notebook\", style=\"whitegrid\")\n",
    "    box_plot = sns.violinplot(data = processed, x=\"variable\", y = \"value\")\n",
    "\n",
    "    medians = processed.groupby(\"variable\").median()\n",
    "    vertical_offset = processed.groupby(\"variable\").median() * 0.005 # offset from median for display\n",
    "\n",
    "    for xtick in box_plot.get_xticks():\n",
    "        box_plot.text(xtick, medians.value[xtick]+.002, f\"{medians.value[xtick]:.3f}\", \n",
    "                horizontalalignment='center',size='x-small',color='white',weight='bold')\n",
    "\n",
    "    plt.xlabel(\"Model\", fontweight=\"bold\", labelpad=10)\n",
    "    plt.ylabel(\"Mean AUC\", fontweight=\"bold\", labelpad=10)\n",
    "    plt.title(title, fontweight=\"bold\")\n",
    "\n",
    "    plt.ylim(ylim)\n",
    "    plt.yticks(yticks)\n",
    "    plt.show()"
   ]
  },
  {
   "cell_type": "code",
   "execution_count": 233,
   "metadata": {},
   "outputs": [],
   "source": [
    "X_scaled = pd.DataFrame(StandardScaler().fit_transform(X), columns=X.columns)\n",
    "\n"
   ]
  },
  {
   "cell_type": "code",
   "execution_count": 241,
   "metadata": {},
   "outputs": [],
   "source": [
    "def get_best_n_params_RFE(X, y, clf, n):\n",
    "    # initialize RFE\n",
    "    selector = RFE(clf, n_features_to_select=n, step=1)\n",
    "    # fit run RFE\n",
    "    selector = selector.fit(X, y)\n",
    "    # return top 5\n",
    "    return list(X.loc[:,selector.support_].columns)"
   ]
  },
  {
   "cell_type": "code",
   "execution_count": 242,
   "metadata": {},
   "outputs": [],
   "source": [
    "models = [LogisticRegression(C = 1, max_iter=15000),\n",
    "          MLPClassifier(hidden_layer_sizes=(100,), max_iter=2000, warm_start=False, alpha=.1),\n",
    "          RandomForestClassifier(n_estimators = 100),\n",
    "          SVC(kernel='rbf', C = 0.8, probability=True)]\n",
    "names = [\"Logistic Regression\", \"Random Forest\", \"SVM\"]"
   ]
  },
  {
   "cell_type": "code",
   "execution_count": null,
   "metadata": {},
   "outputs": [
    {
     "name": "stdout",
     "output_type": "stream",
     "text": [
      "['CVDCRHD4', '_AGE_G', '_SEX', '_EDUCAG', 'EMPLOY1']\n",
      "Logistic Regression      ***************************************************************************\n",
      "Random Forest            ****"
     ]
    }
   ],
   "source": [
    "best = get_best_n_params_RFE(X_scaled, y, LogisticRegression(C = 0.6, max_iter=15000), 5)\n",
    "print(best)\n",
    "\n",
    "title =  \"(\" + \", \".join(best) + \")\"\n",
    "mean_AUCs = repeat_CV_get_AUC(models, names, 75, X_scaled[best], y, silent = False, analyze=True, title=title)"
   ]
  },
  {
   "cell_type": "code",
   "execution_count": 76,
   "metadata": {},
   "outputs": [],
   "source": [
    "import numpy as np\n",
    "import matplotlib.pyplot as plt\n",
    "from sklearn.metrics import roc_curve, auc\n",
    "from sklearn.svm import SVC\n",
    "from sklearn.ensemble import RandomForestClassifier\n",
    "from sklearn.linear_model import LogisticRegression\n",
    "from xgboost import XGBClassifier\n",
    "from sklearn.model_selection import train_test_split"
   ]
  },
  {
   "cell_type": "code",
   "execution_count": null,
   "metadata": {},
   "outputs": [],
   "source": [
    "clf_gini = DecisionTreeClassifier(criterion='gini', max_depth=3, random_state=0)\n",
    "\n",
    "\n",
    "# fit the model\n",
    "clf_gini.fit(X_train, y_train)\n",
    "y_pred_gini = clf_gini.predict(X_test)"
   ]
  },
  {
   "cell_type": "code",
   "execution_count": 77,
   "metadata": {},
   "outputs": [
    {
     "data": {
      "text/plain": [
       "DecisionTreeClassifier(max_depth=3, random_state=0)"
      ]
     },
     "execution_count": 77,
     "metadata": {},
     "output_type": "execute_result"
    }
   ],
   "source": [
    "# Fit the models\n",
    "#svm_model = SVC(kernel='linear', random_state=0)\n",
    "rf_model = RandomForestClassifier(n_estimators=100, random_state=0)\n",
    "dt_model = DecisionTreeClassifier(criterion='gini', max_depth=3, random_state=0)\n",
    "#xgb_model = XGBClassifier(n_estimators=100, learning_rate=0.1, random_state=0)\n",
    "\n",
    "#svm_model.fit(X_train, y_train)\n",
    "rf_model.fit(X_train, y_train)\n",
    "dt_model.fit(X_train, y_train)\n",
    "#xgb_model.fit(X_train, y_train)"
   ]
  },
  {
   "cell_type": "code",
   "execution_count": 103,
   "metadata": {},
   "outputs": [
    {
     "ename": "ValueError",
     "evalue": "x is neither increasing nor decreasing : [0. 1. 1. ... 0. 0. 0.].",
     "output_type": "error",
     "traceback": [
      "\u001b[0;31m---------------------------------------------------------------------------\u001b[0m",
      "\u001b[0;31mValueError\u001b[0m                                Traceback (most recent call last)",
      "\u001b[0;32m<ipython-input-103-bae5a249a974>\u001b[0m in \u001b[0;36m<module>\u001b[0;34m\u001b[0m\n\u001b[1;32m      2\u001b[0m \u001b[0mgnb_fpr\u001b[0m\u001b[0;34m,\u001b[0m \u001b[0mgnb_tpr\u001b[0m\u001b[0;34m,\u001b[0m \u001b[0m_\u001b[0m \u001b[0;34m=\u001b[0m \u001b[0mroc_curve\u001b[0m\u001b[0;34m(\u001b[0m\u001b[0my_test\u001b[0m\u001b[0;34m,\u001b[0m \u001b[0mgnb_pred\u001b[0m\u001b[0;34m)\u001b[0m\u001b[0;34m\u001b[0m\u001b[0;34m\u001b[0m\u001b[0m\n\u001b[1;32m      3\u001b[0m \u001b[0;34m\u001b[0m\u001b[0m\n\u001b[0;32m----> 4\u001b[0;31m \u001b[0mplt\u001b[0m\u001b[0;34m.\u001b[0m\u001b[0mplot\u001b[0m\u001b[0;34m(\u001b[0m\u001b[0mgnb_fpr\u001b[0m\u001b[0;34m,\u001b[0m \u001b[0mgnb_tpr\u001b[0m\u001b[0;34m,\u001b[0m \u001b[0mlabel\u001b[0m\u001b[0;34m=\u001b[0m\u001b[0;34m'gbm, AUC={:.3f}'\u001b[0m\u001b[0;34m.\u001b[0m\u001b[0mformat\u001b[0m\u001b[0;34m(\u001b[0m\u001b[0mauc\u001b[0m\u001b[0;34m(\u001b[0m\u001b[0my_test\u001b[0m\u001b[0;34m,\u001b[0m \u001b[0mgnb_pred\u001b[0m\u001b[0;34m)\u001b[0m\u001b[0;34m)\u001b[0m\u001b[0;34m)\u001b[0m\u001b[0;34m\u001b[0m\u001b[0;34m\u001b[0m\u001b[0m\n\u001b[0m",
      "\u001b[0;32m~/anaconda3/lib/python3.7/site-packages/sklearn/metrics/_ranking.py\u001b[0m in \u001b[0;36mauc\u001b[0;34m(x, y)\u001b[0m\n\u001b[1;32m     98\u001b[0m             \u001b[0mdirection\u001b[0m \u001b[0;34m=\u001b[0m \u001b[0;34m-\u001b[0m\u001b[0;36m1\u001b[0m\u001b[0;34m\u001b[0m\u001b[0;34m\u001b[0m\u001b[0m\n\u001b[1;32m     99\u001b[0m         \u001b[0;32melse\u001b[0m\u001b[0;34m:\u001b[0m\u001b[0;34m\u001b[0m\u001b[0;34m\u001b[0m\u001b[0m\n\u001b[0;32m--> 100\u001b[0;31m             \u001b[0;32mraise\u001b[0m \u001b[0mValueError\u001b[0m\u001b[0;34m(\u001b[0m\u001b[0;34m\"x is neither increasing nor decreasing : {}.\"\u001b[0m\u001b[0;34m.\u001b[0m\u001b[0mformat\u001b[0m\u001b[0;34m(\u001b[0m\u001b[0mx\u001b[0m\u001b[0;34m)\u001b[0m\u001b[0;34m)\u001b[0m\u001b[0;34m\u001b[0m\u001b[0;34m\u001b[0m\u001b[0m\n\u001b[0m\u001b[1;32m    101\u001b[0m \u001b[0;34m\u001b[0m\u001b[0m\n\u001b[1;32m    102\u001b[0m     \u001b[0marea\u001b[0m \u001b[0;34m=\u001b[0m \u001b[0mdirection\u001b[0m \u001b[0;34m*\u001b[0m \u001b[0mnp\u001b[0m\u001b[0;34m.\u001b[0m\u001b[0mtrapz\u001b[0m\u001b[0;34m(\u001b[0m\u001b[0my\u001b[0m\u001b[0;34m,\u001b[0m \u001b[0mx\u001b[0m\u001b[0;34m)\u001b[0m\u001b[0;34m\u001b[0m\u001b[0;34m\u001b[0m\u001b[0m\n",
      "\u001b[0;31mValueError\u001b[0m: x is neither increasing nor decreasing : [0. 1. 1. ... 0. 0. 0.]."
     ]
    }
   ],
   "source": [
    "gnb_pred = gnb.predict_proba(X_test)[:, 1]\n",
    "gnb_fpr, gnb_tpr, _ = roc_curve(y_test, gnb_pred)\n",
    "\n",
    "plt.plot(gnb_fpr, gnb_tpr, label='gbm, AUC={:.3f}'.format(auc(y_test, gnb_pred)))\n"
   ]
  },
  {
   "cell_type": "code",
   "execution_count": 80,
   "metadata": {},
   "outputs": [],
   "source": [
    "# Calculate predictions and ROC curves\n",
    "gnb_pred = gnb.predict_proba(X_test)[:, 1]\n",
    "rf_pred = rf_model.predict_proba(X_test)[:, 1]\n",
    "dt_pred = dt_model.predict_proba(X_test)[:, 1]\n",
    "#xgb_pred = xgb_model.predict_proba(X_test)[:, 1]\n",
    "\n",
    "#svm_fpr, svm_tpr, _ = roc_curve(y_test, svm_pred)\n",
    "rf_fpr, rf_tpr, _ = roc_curve(y_test, rf_pred)\n",
    "dt_fpr, dt_tpr, _ = roc_curve(y_test, dt_pred)\n",
    "#xgb_fpr, xgb_tpr, _ = roc_curve(y_test, xgb_pred)"
   ]
  },
  {
   "cell_type": "code",
   "execution_count": 88,
   "metadata": {},
   "outputs": [
    {
     "ename": "TypeError",
     "evalue": "'numpy.float64' object is not callable",
     "output_type": "error",
     "traceback": [
      "\u001b[0;31m---------------------------------------------------------------------------\u001b[0m",
      "\u001b[0;31mTypeError\u001b[0m                                 Traceback (most recent call last)",
      "\u001b[0;32m<ipython-input-88-5b7015c4b24e>\u001b[0m in \u001b[0;36m<module>\u001b[0;34m\u001b[0m\n\u001b[1;32m      2\u001b[0m \u001b[0;31m#plt.figure(figsize=(10, 6))\u001b[0m\u001b[0;34m\u001b[0m\u001b[0;34m\u001b[0m\u001b[0;34m\u001b[0m\u001b[0m\n\u001b[1;32m      3\u001b[0m \u001b[0;31m#plt.plot(svm_fpr, svm_tpr, label='SVM, AUC={:.3f}'.format(auc(y_test, svm_pred)))\u001b[0m\u001b[0;34m\u001b[0m\u001b[0;34m\u001b[0m\u001b[0;34m\u001b[0m\u001b[0m\n\u001b[0;32m----> 4\u001b[0;31m \u001b[0mplt\u001b[0m\u001b[0;34m.\u001b[0m\u001b[0mplot\u001b[0m\u001b[0;34m(\u001b[0m\u001b[0mrf_fpr\u001b[0m\u001b[0;34m,\u001b[0m \u001b[0mrf_tpr\u001b[0m\u001b[0;34m,\u001b[0m \u001b[0mlabel\u001b[0m\u001b[0;34m=\u001b[0m\u001b[0;34m'Random Forest, AUC={:.3f}'\u001b[0m\u001b[0;34m.\u001b[0m\u001b[0mformat\u001b[0m\u001b[0;34m(\u001b[0m\u001b[0mauc\u001b[0m\u001b[0;34m(\u001b[0m\u001b[0my_test\u001b[0m\u001b[0;34m,\u001b[0m \u001b[0mrf_pred\u001b[0m\u001b[0;34m)\u001b[0m\u001b[0;34m)\u001b[0m\u001b[0;34m)\u001b[0m\u001b[0;34m\u001b[0m\u001b[0;34m\u001b[0m\u001b[0m\n\u001b[0m\u001b[1;32m      5\u001b[0m \u001b[0mplt\u001b[0m\u001b[0;34m.\u001b[0m\u001b[0mplot\u001b[0m\u001b[0;34m(\u001b[0m\u001b[0mdt_fpr\u001b[0m\u001b[0;34m,\u001b[0m \u001b[0mdt_tpr\u001b[0m\u001b[0;34m,\u001b[0m \u001b[0mlabel\u001b[0m\u001b[0;34m=\u001b[0m\u001b[0;34m'Decision Tree Classifier, AUC={:.3f}'\u001b[0m\u001b[0;34m.\u001b[0m\u001b[0mformat\u001b[0m\u001b[0;34m(\u001b[0m\u001b[0mauc\u001b[0m\u001b[0;34m(\u001b[0m\u001b[0my_test\u001b[0m\u001b[0;34m,\u001b[0m \u001b[0mdt_pred\u001b[0m\u001b[0;34m)\u001b[0m\u001b[0;34m)\u001b[0m\u001b[0;34m)\u001b[0m\u001b[0;34m\u001b[0m\u001b[0;34m\u001b[0m\u001b[0m\n\u001b[1;32m      6\u001b[0m \u001b[0;31m#plt.plot(xgb_fpr, xgb_tpr, label='XGBoost, AUC={:.3f}'.format(auc(y_test, xgb_pred)))\u001b[0m\u001b[0;34m\u001b[0m\u001b[0;34m\u001b[0m\u001b[0;34m\u001b[0m\u001b[0m\n",
      "\u001b[0;31mTypeError\u001b[0m: 'numpy.float64' object is not callable"
     ]
    }
   ],
   "source": [
    "# Plot the ROC curves\n",
    "#plt.figure(figsize=(10, 6))\n",
    "#plt.plot(svm_fpr, svm_tpr, label='SVM, AUC={:.3f}'.format(auc(y_test, svm_pred)))\n",
    "plt.plot(rf_fpr, rf_tpr, label='Random Forest, AUC={:.3f}'.format(auc(y_test, rf_pred)))\n",
    "plt.plot(dt_fpr, dt_tpr, label='Decision Tree Classifier, AUC={:.3f}'.format(auc(y_test, dt_pred)))\n",
    "#plt.plot(xgb_fpr, xgb_tpr, label='XGBoost, AUC={:.3f}'.format(auc(y_test, xgb_pred)))\n",
    "\n",
    "# Add the legend\n",
    "plt.legend()\n",
    "plt.xlabel('False Positive Rate')\n",
    "plt.ylabel('True Positive Rate')\n",
    "plt.title('ROC Curves for Multiple Models')\n",
    "plt.show()"
   ]
  },
  {
   "cell_type": "markdown",
   "metadata": {},
   "source": [
    "# Roc curve ---"
   ]
  },
  {
   "cell_type": "code",
   "execution_count": 46,
   "metadata": {},
   "outputs": [],
   "source": [
    "import numpy as np\n",
    "from sklearn.datasets import make_classification\n",
    "from sklearn.model_selection import cross_val_predict, StratifiedKFold\n",
    "from sklearn.naive_bayes import GaussianNB\n",
    "from sklearn.ensemble import RandomForestClassifier\n",
    "from sklearn.tree import DecisionTreeClassifier\n",
    "from xgboost import XGBClassifier\n",
    "from sklearn.metrics import roc_curve, auc\n",
    "import matplotlib.pyplot as plt"
   ]
  },
  {
   "cell_type": "code",
   "execution_count": 47,
   "metadata": {},
   "outputs": [],
   "source": [
    "params = {\n",
    "            'objective':'binary:logistic',\n",
    "            'max_depth': 4,\n",
    "            'alpha': 10,\n",
    "            'learning_rate': 1.0,\n",
    "            'n_estimators':100\n",
    "        }         \n",
    "           \n",
    "    \n",
    "classifiers = {\n",
    "'Naive Bayes': GaussianNB(),\n",
    "'Random Forest': RandomForestClassifier(random_state=0),\n",
    "'Decision Tree': DecisionTreeClassifier(criterion='gini', max_depth=3, random_state=0),\n",
    "'XGBoost':  XGBClassifier(**params)\n",
    "}\n"
   ]
  },
  {
   "cell_type": "code",
   "execution_count": null,
   "metadata": {},
   "outputs": [],
   "source": [
    "auc = metrics.roc_auc_score(y_test, y_pred_proba)"
   ]
  },
  {
   "cell_type": "code",
   "execution_count": 59,
   "metadata": {},
   "outputs": [],
   "source": [
    "import pandas as pd\n",
    "import numpy as np\n",
    "from sklearn.model_selection import train_test_split\n",
    "from sklearn.linear_model import LogisticRegression\n",
    "from sklearn import metrics\n",
    "import matplotlib.pyplot as plt"
   ]
  },
  {
   "cell_type": "code",
   "execution_count": 48,
   "metadata": {},
   "outputs": [
    {
     "data": {
      "image/png": "[encoded data removed]",
      "text/plain": [
       "<Figure size 720x576 with 1 Axes>"
      ]
     },
     "metadata": {
      "needs_background": "light"
     },
     "output_type": "display_data"
    },
    {
     "data": {
      "text/plain": [
       "<Figure size 432x288 with 0 Axes>"
      ]
     },
     "metadata": {},
     "output_type": "display_data"
    }
   ],
   "source": [
    "cv = StratifiedKFold(n_splits=5, shuffle=True, random_state=42)\n",
    "plt.figure(figsize=(10, 8))\n",
    "\n",
    "for name, clf in classifiers.items():\n",
    "    y_pred = cross_val_predict(clf, X, y, cv=cv, method='predict_proba')[:, 1]\n",
    "    fpr, tpr, _ = roc_curve(y, y_pred)\n",
    "    roc_auc = auc(fpr, tpr)\n",
    "    plt.plot(fpr, tpr, label=f'{name} (AUC = {roc_auc:.2f})')\n",
    "\n",
    "plt.plot([0, 1], [0, 1], 'k--', label='No Skill')\n",
    "plt.xlabel('False Positive Rate')\n",
    "plt.ylabel('True Positive Rate')\n",
    "plt.title('ROC Curves After 5-Fold Cross-Validation')\n",
    "plt.legend(loc='lower right')\n",
    "plt.show()\n",
    "plt.savefig('sine_wave.png', dpi=300, bbox_inches='tight')"
   ]
  },
  {
   "cell_type": "markdown",
   "metadata": {},
   "source": [
    "## smote ROC CURVE!"
   ]
  },
  {
   "cell_type": "code",
   "execution_count": 52,
   "metadata": {},
   "outputs": [
    {
     "data": {
      "text/plain": [
       "((148688, 13), (73235, 13))"
      ]
     },
     "execution_count": 52,
     "metadata": {},
     "output_type": "execute_result"
    }
   ],
   "source": [
    "from sklearn.model_selection import train_test_split\n",
    "\n",
    "X_train, X_test, y_train, y_test = train_test_split(X, y, test_size = 0.33, random_state = 42)\n",
    "X_train.shape, X_test.shape\n"
   ]
  },
  {
   "cell_type": "code",
   "execution_count": 53,
   "metadata": {},
   "outputs": [],
   "source": [
    "from sklearn.model_selection import train_test_split\n",
    "from sklearn.datasets import make_classification\n",
    "from imblearn.over_sampling import SMOTE\n",
    "# Apply SMOTE to oversample the minority class\n",
    "smote = SMOTE(random_state=42)\n",
    "X_train_resampled, y_train_resampled = smote.fit_resample(X_train, y_train)\n",
    "#smote = SMOTE(random_state=42)\n",
    "#X_resampled, y_resampled = smote.fit_resample(X, y)\n",
    "\n",
    "# Split the resampled data into train and test sets\n",
    "X_train, X_test, y_train, y_test = train_test_split(X_train_resampled, y_train_resampled, test_size=0.2, random_state=42)"
   ]
  },
  {
   "cell_type": "code",
   "execution_count": 77,
   "metadata": {},
   "outputs": [
    {
     "data": {
      "text/plain": [
       "0.0    56299\n",
       "1.0    56299\n",
       "Name: CVDINFR4, dtype: int64"
      ]
     },
     "execution_count": 77,
     "metadata": {},
     "output_type": "execute_result"
    }
   ],
   "source": [
    "y_train_resampled.value_counts()"
   ]
  },
  {
   "cell_type": "code",
   "execution_count": 78,
   "metadata": {},
   "outputs": [
    {
     "data": {
      "text/plain": [
       "0.0    45040\n",
       "1.0    45038\n",
       "Name: CVDINFR4, dtype: int64"
      ]
     },
     "execution_count": 78,
     "metadata": {},
     "output_type": "execute_result"
    }
   ],
   "source": [
    "y_train.value_counts()"
   ]
  },
  {
   "cell_type": "code",
   "execution_count": 57,
   "metadata": {},
   "outputs": [
    {
     "ename": "ValueError",
     "evalue": "Found input variables with inconsistent numbers of samples: [221923, 224115]",
     "output_type": "error",
     "traceback": [
      "\u001b[0;31m---------------------------------------------------------------------------\u001b[0m",
      "\u001b[0;31mValueError\u001b[0m                                Traceback (most recent call last)",
      "\u001b[0;32m<ipython-input-57-3a30985b783c>\u001b[0m in \u001b[0;36m<module>\u001b[0;34m\u001b[0m\n\u001b[1;32m      4\u001b[0m \u001b[0;32mfor\u001b[0m \u001b[0mname\u001b[0m\u001b[0;34m,\u001b[0m \u001b[0mclf\u001b[0m \u001b[0;32min\u001b[0m \u001b[0mclassifiers\u001b[0m\u001b[0;34m.\u001b[0m\u001b[0mitems\u001b[0m\u001b[0;34m(\u001b[0m\u001b[0;34m)\u001b[0m\u001b[0;34m:\u001b[0m\u001b[0;34m\u001b[0m\u001b[0;34m\u001b[0m\u001b[0m\n\u001b[1;32m      5\u001b[0m     \u001b[0my_pred\u001b[0m \u001b[0;34m=\u001b[0m \u001b[0mcross_val_predict\u001b[0m\u001b[0;34m(\u001b[0m\u001b[0mclf\u001b[0m\u001b[0;34m,\u001b[0m \u001b[0mX_train\u001b[0m\u001b[0;34m,\u001b[0m \u001b[0my_train\u001b[0m\u001b[0;34m,\u001b[0m \u001b[0mcv\u001b[0m\u001b[0;34m=\u001b[0m\u001b[0mcv\u001b[0m\u001b[0;34m,\u001b[0m \u001b[0mmethod\u001b[0m\u001b[0;34m=\u001b[0m\u001b[0;34m'predict_proba'\u001b[0m\u001b[0;34m)\u001b[0m\u001b[0;34m[\u001b[0m\u001b[0;34m:\u001b[0m\u001b[0;34m,\u001b[0m \u001b[0;36m1\u001b[0m\u001b[0;34m]\u001b[0m\u001b[0;34m\u001b[0m\u001b[0;34m\u001b[0m\u001b[0m\n\u001b[0;32m----> 6\u001b[0;31m     \u001b[0mfpr\u001b[0m\u001b[0;34m,\u001b[0m \u001b[0mtpr\u001b[0m\u001b[0;34m,\u001b[0m \u001b[0m_\u001b[0m \u001b[0;34m=\u001b[0m \u001b[0mroc_curve\u001b[0m\u001b[0;34m(\u001b[0m\u001b[0my\u001b[0m\u001b[0;34m,\u001b[0m \u001b[0my_pred\u001b[0m\u001b[0;34m)\u001b[0m\u001b[0;34m\u001b[0m\u001b[0;34m\u001b[0m\u001b[0m\n\u001b[0m\u001b[1;32m      7\u001b[0m     \u001b[0mroc_auc\u001b[0m \u001b[0;34m=\u001b[0m \u001b[0mauc\u001b[0m\u001b[0;34m(\u001b[0m\u001b[0mfpr\u001b[0m\u001b[0;34m,\u001b[0m \u001b[0mtpr\u001b[0m\u001b[0;34m)\u001b[0m\u001b[0;34m\u001b[0m\u001b[0;34m\u001b[0m\u001b[0m\n\u001b[1;32m      8\u001b[0m     \u001b[0mplt\u001b[0m\u001b[0;34m.\u001b[0m\u001b[0mplot\u001b[0m\u001b[0;34m(\u001b[0m\u001b[0mfpr\u001b[0m\u001b[0;34m,\u001b[0m \u001b[0mtpr\u001b[0m\u001b[0;34m,\u001b[0m \u001b[0mlabel\u001b[0m\u001b[0;34m=\u001b[0m\u001b[0;34mf'{name} (AUC = {roc_auc:.2f})'\u001b[0m\u001b[0;34m)\u001b[0m\u001b[0;34m\u001b[0m\u001b[0;34m\u001b[0m\u001b[0m\n",
      "\u001b[0;32m~/anaconda3/lib/python3.7/site-packages/sklearn/metrics/_ranking.py\u001b[0m in \u001b[0;36mroc_curve\u001b[0;34m(y_true, y_score, pos_label, sample_weight, drop_intermediate)\u001b[0m\n\u001b[1;32m    961\u001b[0m     \"\"\"\n\u001b[1;32m    962\u001b[0m     fps, tps, thresholds = _binary_clf_curve(\n\u001b[0;32m--> 963\u001b[0;31m         \u001b[0my_true\u001b[0m\u001b[0;34m,\u001b[0m \u001b[0my_score\u001b[0m\u001b[0;34m,\u001b[0m \u001b[0mpos_label\u001b[0m\u001b[0;34m=\u001b[0m\u001b[0mpos_label\u001b[0m\u001b[0;34m,\u001b[0m \u001b[0msample_weight\u001b[0m\u001b[0;34m=\u001b[0m\u001b[0msample_weight\u001b[0m\u001b[0;34m\u001b[0m\u001b[0;34m\u001b[0m\u001b[0m\n\u001b[0m\u001b[1;32m    964\u001b[0m     )\n\u001b[1;32m    965\u001b[0m \u001b[0;34m\u001b[0m\u001b[0m\n",
      "\u001b[0;32m~/anaconda3/lib/python3.7/site-packages/sklearn/metrics/_ranking.py\u001b[0m in \u001b[0;36m_binary_clf_curve\u001b[0;34m(y_true, y_score, pos_label, sample_weight)\u001b[0m\n\u001b[1;32m    731\u001b[0m         \u001b[0;32mraise\u001b[0m \u001b[0mValueError\u001b[0m\u001b[0;34m(\u001b[0m\u001b[0;34m\"{0} format is not supported\"\u001b[0m\u001b[0;34m.\u001b[0m\u001b[0mformat\u001b[0m\u001b[0;34m(\u001b[0m\u001b[0my_type\u001b[0m\u001b[0;34m)\u001b[0m\u001b[0;34m)\u001b[0m\u001b[0;34m\u001b[0m\u001b[0;34m\u001b[0m\u001b[0m\n\u001b[1;32m    732\u001b[0m \u001b[0;34m\u001b[0m\u001b[0m\n\u001b[0;32m--> 733\u001b[0;31m     \u001b[0mcheck_consistent_length\u001b[0m\u001b[0;34m(\u001b[0m\u001b[0my_true\u001b[0m\u001b[0;34m,\u001b[0m \u001b[0my_score\u001b[0m\u001b[0;34m,\u001b[0m \u001b[0msample_weight\u001b[0m\u001b[0;34m)\u001b[0m\u001b[0;34m\u001b[0m\u001b[0;34m\u001b[0m\u001b[0m\n\u001b[0m\u001b[1;32m    734\u001b[0m     \u001b[0my_true\u001b[0m \u001b[0;34m=\u001b[0m \u001b[0mcolumn_or_1d\u001b[0m\u001b[0;34m(\u001b[0m\u001b[0my_true\u001b[0m\u001b[0;34m)\u001b[0m\u001b[0;34m\u001b[0m\u001b[0;34m\u001b[0m\u001b[0m\n\u001b[1;32m    735\u001b[0m     \u001b[0my_score\u001b[0m \u001b[0;34m=\u001b[0m \u001b[0mcolumn_or_1d\u001b[0m\u001b[0;34m(\u001b[0m\u001b[0my_score\u001b[0m\u001b[0;34m)\u001b[0m\u001b[0;34m\u001b[0m\u001b[0;34m\u001b[0m\u001b[0m\n",
      "\u001b[0;32m~/anaconda3/lib/python3.7/site-packages/sklearn/utils/validation.py\u001b[0m in \u001b[0;36mcheck_consistent_length\u001b[0;34m(*arrays)\u001b[0m\n\u001b[1;32m    332\u001b[0m         raise ValueError(\n\u001b[1;32m    333\u001b[0m             \u001b[0;34m\"Found input variables with inconsistent numbers of samples: %r\"\u001b[0m\u001b[0;34m\u001b[0m\u001b[0;34m\u001b[0m\u001b[0m\n\u001b[0;32m--> 334\u001b[0;31m             \u001b[0;34m%\u001b[0m \u001b[0;34m[\u001b[0m\u001b[0mint\u001b[0m\u001b[0;34m(\u001b[0m\u001b[0ml\u001b[0m\u001b[0;34m)\u001b[0m \u001b[0;32mfor\u001b[0m \u001b[0ml\u001b[0m \u001b[0;32min\u001b[0m \u001b[0mlengths\u001b[0m\u001b[0;34m]\u001b[0m\u001b[0;34m\u001b[0m\u001b[0;34m\u001b[0m\u001b[0m\n\u001b[0m\u001b[1;32m    335\u001b[0m         )\n\u001b[1;32m    336\u001b[0m \u001b[0;34m\u001b[0m\u001b[0m\n",
      "\u001b[0;31mValueError\u001b[0m: Found input variables with inconsistent numbers of samples: [221923, 224115]"
     ]
    },
    {
     "data": {
      "text/plain": [
       "<Figure size 720x576 with 0 Axes>"
      ]
     },
     "metadata": {},
     "output_type": "display_data"
    }
   ],
   "source": [
    "cv = StratifiedKFold(n_splits=5, shuffle=True, random_state=42)\n",
    "plt.figure(figsize=(10, 8))\n",
    "\n",
    "for name, clf in classifiers.items():\n",
    "    y_pred = cross_val_predict(clf, X_train, y_train, cv=cv, method='predict_proba')[:, 1]\n",
    "    fpr, tpr, _ = roc_curve(y, y_pred)\n",
    "    roc_auc = auc(fpr, tpr)\n",
    "    plt.plot(fpr, tpr, label=f'{name} (AUC = {roc_auc:.2f})')\n",
    "\n",
    "plt.plot([0, 1], [0, 1], 'k--', label='No Skill')\n",
    "plt.xlabel('False Positive Rate')\n",
    "plt.ylabel('True Positive Rate')\n",
    "plt.title('ROC Curves After 5-Fold Cross-Validation')\n",
    "plt.legend(loc='lower right')\n",
    "plt.show()\n",
    "plt.savefig('sine_wave.png', dpi=300, bbox_inches='tight')"
   ]
  },
  {
   "cell_type": "code",
   "execution_count": null,
   "metadata": {},
   "outputs": [],
   "source": [
    "\n",
    "ValueError: Found input variables with inconsistent numbers of samples: [221923, 418078]"
   ]
  },
  {
   "cell_type": "markdown",
   "metadata": {},
   "source": [
    "\n",
    "# Initialize classifiers\n",
    "classifiers = {\n",
    "    'Naive Bayes': GaussianNB(),\n",
    "    'Random Forest': RandomForestClassifier(n_estimators=100, random_state=42),\n",
    "    'Decision Tree': DecisionTreeClassifier(random_state=42),\n",
    "    'XGBoost': XGBClassifier(random_state=42)\n",
    "}\n",
    "\n",
    "# Perform 5-fold cross-validation\n",
    "cv = StratifiedKFold(n_splits=5, shuffle=True, random_state=42)\n",
    "\n",
    "plt.figure(figsize=(10, 8))\n",
    "\n",
    "for name, clf in classifiers.items():\n",
    "    y_pred = cross_val_predict(clf, X, y, cv=cv, method='predict_proba')[:, 1]\n",
    "    fpr, tpr, _ = roc_curve(y, y_pred)\n",
    "    roc_auc = auc(fpr, tpr)\n",
    "    plt.plot(fpr, tpr, label=f'{name} (AUC = {roc_auc:.2f})')\n",
    "\n",
    "plt.plot([0, 1], [0, 1], 'k--', label='No Skill')\n",
    "plt.xlabel('False Positive Rate')\n",
    "plt.ylabel('True Positive Rate')\n",
    "plt.title('ROC Curves After 5-Fold Cross-Validation')\n",
    "plt.legend(loc='lower right')\n",
    "plt.show()\n",
    "\n"
   ]
  },
  {
   "cell_type": "code",
   "execution_count": null,
   "metadata": {},
   "outputs": [],
   "source": []
  }
 ],
 "metadata": {
  "kernelspec": {
   "display_name": "Python 3",
   "language": "python",
   "name": "python3"
  },
  "language_info": {
   "codemirror_mode": {
    "name": "ipython",
    "version": 3
   },
   "file_extension": ".py",
   "mimetype": "text/x-python",
   "name": "python",
   "nbconvert_exporter": "python",
   "pygments_lexer": "ipython3",
   "version": "3.7.6"
  }
 },
 "nbformat": 4,
 "nbformat_minor": 4
}
